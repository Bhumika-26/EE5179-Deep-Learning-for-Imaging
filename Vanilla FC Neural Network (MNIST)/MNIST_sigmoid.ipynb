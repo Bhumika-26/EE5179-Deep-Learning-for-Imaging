{
  "nbformat": 4,
  "nbformat_minor": 0,
  "metadata": {
    "colab": {
      "name": "MNIST_sigmoid.ipynb",
      "provenance": [],
      "collapsed_sections": []
    },
    "kernelspec": {
      "name": "python3",
      "display_name": "Python 3"
    },
    "language_info": {
      "name": "python"
    },
    "accelerator": "GPU",
    "gpuClass": "standard",
    "widgets": {
      "application/vnd.jupyter.widget-state+json": {
        "00266f78d77e4942bedd25c32b8e83b6": {
          "model_module": "@jupyter-widgets/controls",
          "model_name": "HBoxModel",
          "model_module_version": "1.5.0",
          "state": {
            "_dom_classes": [],
            "_model_module": "@jupyter-widgets/controls",
            "_model_module_version": "1.5.0",
            "_model_name": "HBoxModel",
            "_view_count": null,
            "_view_module": "@jupyter-widgets/controls",
            "_view_module_version": "1.5.0",
            "_view_name": "HBoxView",
            "box_style": "",
            "children": [
              "IPY_MODEL_aaa4c8fd4e414d9ea033a84e46f3e9b3",
              "IPY_MODEL_bd31b22043434a92869288761d31e99d",
              "IPY_MODEL_dacfba9ad359461582e8ca9cb551ecd8"
            ],
            "layout": "IPY_MODEL_b3e0a6bf52d94f3b8aeba9638daa739f"
          }
        },
        "aaa4c8fd4e414d9ea033a84e46f3e9b3": {
          "model_module": "@jupyter-widgets/controls",
          "model_name": "HTMLModel",
          "model_module_version": "1.5.0",
          "state": {
            "_dom_classes": [],
            "_model_module": "@jupyter-widgets/controls",
            "_model_module_version": "1.5.0",
            "_model_name": "HTMLModel",
            "_view_count": null,
            "_view_module": "@jupyter-widgets/controls",
            "_view_module_version": "1.5.0",
            "_view_name": "HTMLView",
            "description": "",
            "description_tooltip": null,
            "layout": "IPY_MODEL_cb7cea790d9447b8ba499e63ee409ddd",
            "placeholder": "​",
            "style": "IPY_MODEL_046349329fa44074be1a34bf704d9261",
            "value": "100%"
          }
        },
        "bd31b22043434a92869288761d31e99d": {
          "model_module": "@jupyter-widgets/controls",
          "model_name": "FloatProgressModel",
          "model_module_version": "1.5.0",
          "state": {
            "_dom_classes": [],
            "_model_module": "@jupyter-widgets/controls",
            "_model_module_version": "1.5.0",
            "_model_name": "FloatProgressModel",
            "_view_count": null,
            "_view_module": "@jupyter-widgets/controls",
            "_view_module_version": "1.5.0",
            "_view_name": "ProgressView",
            "bar_style": "success",
            "description": "",
            "description_tooltip": null,
            "layout": "IPY_MODEL_c5cdfed726b146afa37211043be5d332",
            "max": 9912422,
            "min": 0,
            "orientation": "horizontal",
            "style": "IPY_MODEL_7519a6de981049b39255f4aedee713a5",
            "value": 9912422
          }
        },
        "dacfba9ad359461582e8ca9cb551ecd8": {
          "model_module": "@jupyter-widgets/controls",
          "model_name": "HTMLModel",
          "model_module_version": "1.5.0",
          "state": {
            "_dom_classes": [],
            "_model_module": "@jupyter-widgets/controls",
            "_model_module_version": "1.5.0",
            "_model_name": "HTMLModel",
            "_view_count": null,
            "_view_module": "@jupyter-widgets/controls",
            "_view_module_version": "1.5.0",
            "_view_name": "HTMLView",
            "description": "",
            "description_tooltip": null,
            "layout": "IPY_MODEL_c41baffcbe9048bf95f13b9655576f9e",
            "placeholder": "​",
            "style": "IPY_MODEL_e2d1130bff2f4b28bc983f7130b3c3b3",
            "value": " 9912422/9912422 [00:00&lt;00:00, 18239900.55it/s]"
          }
        },
        "b3e0a6bf52d94f3b8aeba9638daa739f": {
          "model_module": "@jupyter-widgets/base",
          "model_name": "LayoutModel",
          "model_module_version": "1.2.0",
          "state": {
            "_model_module": "@jupyter-widgets/base",
            "_model_module_version": "1.2.0",
            "_model_name": "LayoutModel",
            "_view_count": null,
            "_view_module": "@jupyter-widgets/base",
            "_view_module_version": "1.2.0",
            "_view_name": "LayoutView",
            "align_content": null,
            "align_items": null,
            "align_self": null,
            "border": null,
            "bottom": null,
            "display": null,
            "flex": null,
            "flex_flow": null,
            "grid_area": null,
            "grid_auto_columns": null,
            "grid_auto_flow": null,
            "grid_auto_rows": null,
            "grid_column": null,
            "grid_gap": null,
            "grid_row": null,
            "grid_template_areas": null,
            "grid_template_columns": null,
            "grid_template_rows": null,
            "height": null,
            "justify_content": null,
            "justify_items": null,
            "left": null,
            "margin": null,
            "max_height": null,
            "max_width": null,
            "min_height": null,
            "min_width": null,
            "object_fit": null,
            "object_position": null,
            "order": null,
            "overflow": null,
            "overflow_x": null,
            "overflow_y": null,
            "padding": null,
            "right": null,
            "top": null,
            "visibility": null,
            "width": null
          }
        },
        "cb7cea790d9447b8ba499e63ee409ddd": {
          "model_module": "@jupyter-widgets/base",
          "model_name": "LayoutModel",
          "model_module_version": "1.2.0",
          "state": {
            "_model_module": "@jupyter-widgets/base",
            "_model_module_version": "1.2.0",
            "_model_name": "LayoutModel",
            "_view_count": null,
            "_view_module": "@jupyter-widgets/base",
            "_view_module_version": "1.2.0",
            "_view_name": "LayoutView",
            "align_content": null,
            "align_items": null,
            "align_self": null,
            "border": null,
            "bottom": null,
            "display": null,
            "flex": null,
            "flex_flow": null,
            "grid_area": null,
            "grid_auto_columns": null,
            "grid_auto_flow": null,
            "grid_auto_rows": null,
            "grid_column": null,
            "grid_gap": null,
            "grid_row": null,
            "grid_template_areas": null,
            "grid_template_columns": null,
            "grid_template_rows": null,
            "height": null,
            "justify_content": null,
            "justify_items": null,
            "left": null,
            "margin": null,
            "max_height": null,
            "max_width": null,
            "min_height": null,
            "min_width": null,
            "object_fit": null,
            "object_position": null,
            "order": null,
            "overflow": null,
            "overflow_x": null,
            "overflow_y": null,
            "padding": null,
            "right": null,
            "top": null,
            "visibility": null,
            "width": null
          }
        },
        "046349329fa44074be1a34bf704d9261": {
          "model_module": "@jupyter-widgets/controls",
          "model_name": "DescriptionStyleModel",
          "model_module_version": "1.5.0",
          "state": {
            "_model_module": "@jupyter-widgets/controls",
            "_model_module_version": "1.5.0",
            "_model_name": "DescriptionStyleModel",
            "_view_count": null,
            "_view_module": "@jupyter-widgets/base",
            "_view_module_version": "1.2.0",
            "_view_name": "StyleView",
            "description_width": ""
          }
        },
        "c5cdfed726b146afa37211043be5d332": {
          "model_module": "@jupyter-widgets/base",
          "model_name": "LayoutModel",
          "model_module_version": "1.2.0",
          "state": {
            "_model_module": "@jupyter-widgets/base",
            "_model_module_version": "1.2.0",
            "_model_name": "LayoutModel",
            "_view_count": null,
            "_view_module": "@jupyter-widgets/base",
            "_view_module_version": "1.2.0",
            "_view_name": "LayoutView",
            "align_content": null,
            "align_items": null,
            "align_self": null,
            "border": null,
            "bottom": null,
            "display": null,
            "flex": null,
            "flex_flow": null,
            "grid_area": null,
            "grid_auto_columns": null,
            "grid_auto_flow": null,
            "grid_auto_rows": null,
            "grid_column": null,
            "grid_gap": null,
            "grid_row": null,
            "grid_template_areas": null,
            "grid_template_columns": null,
            "grid_template_rows": null,
            "height": null,
            "justify_content": null,
            "justify_items": null,
            "left": null,
            "margin": null,
            "max_height": null,
            "max_width": null,
            "min_height": null,
            "min_width": null,
            "object_fit": null,
            "object_position": null,
            "order": null,
            "overflow": null,
            "overflow_x": null,
            "overflow_y": null,
            "padding": null,
            "right": null,
            "top": null,
            "visibility": null,
            "width": null
          }
        },
        "7519a6de981049b39255f4aedee713a5": {
          "model_module": "@jupyter-widgets/controls",
          "model_name": "ProgressStyleModel",
          "model_module_version": "1.5.0",
          "state": {
            "_model_module": "@jupyter-widgets/controls",
            "_model_module_version": "1.5.0",
            "_model_name": "ProgressStyleModel",
            "_view_count": null,
            "_view_module": "@jupyter-widgets/base",
            "_view_module_version": "1.2.0",
            "_view_name": "StyleView",
            "bar_color": null,
            "description_width": ""
          }
        },
        "c41baffcbe9048bf95f13b9655576f9e": {
          "model_module": "@jupyter-widgets/base",
          "model_name": "LayoutModel",
          "model_module_version": "1.2.0",
          "state": {
            "_model_module": "@jupyter-widgets/base",
            "_model_module_version": "1.2.0",
            "_model_name": "LayoutModel",
            "_view_count": null,
            "_view_module": "@jupyter-widgets/base",
            "_view_module_version": "1.2.0",
            "_view_name": "LayoutView",
            "align_content": null,
            "align_items": null,
            "align_self": null,
            "border": null,
            "bottom": null,
            "display": null,
            "flex": null,
            "flex_flow": null,
            "grid_area": null,
            "grid_auto_columns": null,
            "grid_auto_flow": null,
            "grid_auto_rows": null,
            "grid_column": null,
            "grid_gap": null,
            "grid_row": null,
            "grid_template_areas": null,
            "grid_template_columns": null,
            "grid_template_rows": null,
            "height": null,
            "justify_content": null,
            "justify_items": null,
            "left": null,
            "margin": null,
            "max_height": null,
            "max_width": null,
            "min_height": null,
            "min_width": null,
            "object_fit": null,
            "object_position": null,
            "order": null,
            "overflow": null,
            "overflow_x": null,
            "overflow_y": null,
            "padding": null,
            "right": null,
            "top": null,
            "visibility": null,
            "width": null
          }
        },
        "e2d1130bff2f4b28bc983f7130b3c3b3": {
          "model_module": "@jupyter-widgets/controls",
          "model_name": "DescriptionStyleModel",
          "model_module_version": "1.5.0",
          "state": {
            "_model_module": "@jupyter-widgets/controls",
            "_model_module_version": "1.5.0",
            "_model_name": "DescriptionStyleModel",
            "_view_count": null,
            "_view_module": "@jupyter-widgets/base",
            "_view_module_version": "1.2.0",
            "_view_name": "StyleView",
            "description_width": ""
          }
        },
        "a1c3887bb8a44889b709c3eea0c0dd56": {
          "model_module": "@jupyter-widgets/controls",
          "model_name": "HBoxModel",
          "model_module_version": "1.5.0",
          "state": {
            "_dom_classes": [],
            "_model_module": "@jupyter-widgets/controls",
            "_model_module_version": "1.5.0",
            "_model_name": "HBoxModel",
            "_view_count": null,
            "_view_module": "@jupyter-widgets/controls",
            "_view_module_version": "1.5.0",
            "_view_name": "HBoxView",
            "box_style": "",
            "children": [
              "IPY_MODEL_b5cdfdeb8ecd4d62ba0eb4903e2bb187",
              "IPY_MODEL_165e2d6ecab54418b97ac292e2eb875b",
              "IPY_MODEL_05c716e3f7f845d9b14916f8d1bb4a1d"
            ],
            "layout": "IPY_MODEL_3787a419f7fe48f69188639935a92a7e"
          }
        },
        "b5cdfdeb8ecd4d62ba0eb4903e2bb187": {
          "model_module": "@jupyter-widgets/controls",
          "model_name": "HTMLModel",
          "model_module_version": "1.5.0",
          "state": {
            "_dom_classes": [],
            "_model_module": "@jupyter-widgets/controls",
            "_model_module_version": "1.5.0",
            "_model_name": "HTMLModel",
            "_view_count": null,
            "_view_module": "@jupyter-widgets/controls",
            "_view_module_version": "1.5.0",
            "_view_name": "HTMLView",
            "description": "",
            "description_tooltip": null,
            "layout": "IPY_MODEL_7482845c273b412f907fab87e3ebf652",
            "placeholder": "​",
            "style": "IPY_MODEL_2984738a14064b66a781b5a8eb6e1b51",
            "value": "100%"
          }
        },
        "165e2d6ecab54418b97ac292e2eb875b": {
          "model_module": "@jupyter-widgets/controls",
          "model_name": "FloatProgressModel",
          "model_module_version": "1.5.0",
          "state": {
            "_dom_classes": [],
            "_model_module": "@jupyter-widgets/controls",
            "_model_module_version": "1.5.0",
            "_model_name": "FloatProgressModel",
            "_view_count": null,
            "_view_module": "@jupyter-widgets/controls",
            "_view_module_version": "1.5.0",
            "_view_name": "ProgressView",
            "bar_style": "success",
            "description": "",
            "description_tooltip": null,
            "layout": "IPY_MODEL_a591876a7060477fb370b19e06232b4d",
            "max": 28881,
            "min": 0,
            "orientation": "horizontal",
            "style": "IPY_MODEL_aaf81ef125414fa3a1a84a556e40e079",
            "value": 28881
          }
        },
        "05c716e3f7f845d9b14916f8d1bb4a1d": {
          "model_module": "@jupyter-widgets/controls",
          "model_name": "HTMLModel",
          "model_module_version": "1.5.0",
          "state": {
            "_dom_classes": [],
            "_model_module": "@jupyter-widgets/controls",
            "_model_module_version": "1.5.0",
            "_model_name": "HTMLModel",
            "_view_count": null,
            "_view_module": "@jupyter-widgets/controls",
            "_view_module_version": "1.5.0",
            "_view_name": "HTMLView",
            "description": "",
            "description_tooltip": null,
            "layout": "IPY_MODEL_c4bd6188f31040959380229cf2218a90",
            "placeholder": "​",
            "style": "IPY_MODEL_c0800b77411b4f36bb2ae2947d23cd7b",
            "value": " 28881/28881 [00:00&lt;00:00, 506398.95it/s]"
          }
        },
        "3787a419f7fe48f69188639935a92a7e": {
          "model_module": "@jupyter-widgets/base",
          "model_name": "LayoutModel",
          "model_module_version": "1.2.0",
          "state": {
            "_model_module": "@jupyter-widgets/base",
            "_model_module_version": "1.2.0",
            "_model_name": "LayoutModel",
            "_view_count": null,
            "_view_module": "@jupyter-widgets/base",
            "_view_module_version": "1.2.0",
            "_view_name": "LayoutView",
            "align_content": null,
            "align_items": null,
            "align_self": null,
            "border": null,
            "bottom": null,
            "display": null,
            "flex": null,
            "flex_flow": null,
            "grid_area": null,
            "grid_auto_columns": null,
            "grid_auto_flow": null,
            "grid_auto_rows": null,
            "grid_column": null,
            "grid_gap": null,
            "grid_row": null,
            "grid_template_areas": null,
            "grid_template_columns": null,
            "grid_template_rows": null,
            "height": null,
            "justify_content": null,
            "justify_items": null,
            "left": null,
            "margin": null,
            "max_height": null,
            "max_width": null,
            "min_height": null,
            "min_width": null,
            "object_fit": null,
            "object_position": null,
            "order": null,
            "overflow": null,
            "overflow_x": null,
            "overflow_y": null,
            "padding": null,
            "right": null,
            "top": null,
            "visibility": null,
            "width": null
          }
        },
        "7482845c273b412f907fab87e3ebf652": {
          "model_module": "@jupyter-widgets/base",
          "model_name": "LayoutModel",
          "model_module_version": "1.2.0",
          "state": {
            "_model_module": "@jupyter-widgets/base",
            "_model_module_version": "1.2.0",
            "_model_name": "LayoutModel",
            "_view_count": null,
            "_view_module": "@jupyter-widgets/base",
            "_view_module_version": "1.2.0",
            "_view_name": "LayoutView",
            "align_content": null,
            "align_items": null,
            "align_self": null,
            "border": null,
            "bottom": null,
            "display": null,
            "flex": null,
            "flex_flow": null,
            "grid_area": null,
            "grid_auto_columns": null,
            "grid_auto_flow": null,
            "grid_auto_rows": null,
            "grid_column": null,
            "grid_gap": null,
            "grid_row": null,
            "grid_template_areas": null,
            "grid_template_columns": null,
            "grid_template_rows": null,
            "height": null,
            "justify_content": null,
            "justify_items": null,
            "left": null,
            "margin": null,
            "max_height": null,
            "max_width": null,
            "min_height": null,
            "min_width": null,
            "object_fit": null,
            "object_position": null,
            "order": null,
            "overflow": null,
            "overflow_x": null,
            "overflow_y": null,
            "padding": null,
            "right": null,
            "top": null,
            "visibility": null,
            "width": null
          }
        },
        "2984738a14064b66a781b5a8eb6e1b51": {
          "model_module": "@jupyter-widgets/controls",
          "model_name": "DescriptionStyleModel",
          "model_module_version": "1.5.0",
          "state": {
            "_model_module": "@jupyter-widgets/controls",
            "_model_module_version": "1.5.0",
            "_model_name": "DescriptionStyleModel",
            "_view_count": null,
            "_view_module": "@jupyter-widgets/base",
            "_view_module_version": "1.2.0",
            "_view_name": "StyleView",
            "description_width": ""
          }
        },
        "a591876a7060477fb370b19e06232b4d": {
          "model_module": "@jupyter-widgets/base",
          "model_name": "LayoutModel",
          "model_module_version": "1.2.0",
          "state": {
            "_model_module": "@jupyter-widgets/base",
            "_model_module_version": "1.2.0",
            "_model_name": "LayoutModel",
            "_view_count": null,
            "_view_module": "@jupyter-widgets/base",
            "_view_module_version": "1.2.0",
            "_view_name": "LayoutView",
            "align_content": null,
            "align_items": null,
            "align_self": null,
            "border": null,
            "bottom": null,
            "display": null,
            "flex": null,
            "flex_flow": null,
            "grid_area": null,
            "grid_auto_columns": null,
            "grid_auto_flow": null,
            "grid_auto_rows": null,
            "grid_column": null,
            "grid_gap": null,
            "grid_row": null,
            "grid_template_areas": null,
            "grid_template_columns": null,
            "grid_template_rows": null,
            "height": null,
            "justify_content": null,
            "justify_items": null,
            "left": null,
            "margin": null,
            "max_height": null,
            "max_width": null,
            "min_height": null,
            "min_width": null,
            "object_fit": null,
            "object_position": null,
            "order": null,
            "overflow": null,
            "overflow_x": null,
            "overflow_y": null,
            "padding": null,
            "right": null,
            "top": null,
            "visibility": null,
            "width": null
          }
        },
        "aaf81ef125414fa3a1a84a556e40e079": {
          "model_module": "@jupyter-widgets/controls",
          "model_name": "ProgressStyleModel",
          "model_module_version": "1.5.0",
          "state": {
            "_model_module": "@jupyter-widgets/controls",
            "_model_module_version": "1.5.0",
            "_model_name": "ProgressStyleModel",
            "_view_count": null,
            "_view_module": "@jupyter-widgets/base",
            "_view_module_version": "1.2.0",
            "_view_name": "StyleView",
            "bar_color": null,
            "description_width": ""
          }
        },
        "c4bd6188f31040959380229cf2218a90": {
          "model_module": "@jupyter-widgets/base",
          "model_name": "LayoutModel",
          "model_module_version": "1.2.0",
          "state": {
            "_model_module": "@jupyter-widgets/base",
            "_model_module_version": "1.2.0",
            "_model_name": "LayoutModel",
            "_view_count": null,
            "_view_module": "@jupyter-widgets/base",
            "_view_module_version": "1.2.0",
            "_view_name": "LayoutView",
            "align_content": null,
            "align_items": null,
            "align_self": null,
            "border": null,
            "bottom": null,
            "display": null,
            "flex": null,
            "flex_flow": null,
            "grid_area": null,
            "grid_auto_columns": null,
            "grid_auto_flow": null,
            "grid_auto_rows": null,
            "grid_column": null,
            "grid_gap": null,
            "grid_row": null,
            "grid_template_areas": null,
            "grid_template_columns": null,
            "grid_template_rows": null,
            "height": null,
            "justify_content": null,
            "justify_items": null,
            "left": null,
            "margin": null,
            "max_height": null,
            "max_width": null,
            "min_height": null,
            "min_width": null,
            "object_fit": null,
            "object_position": null,
            "order": null,
            "overflow": null,
            "overflow_x": null,
            "overflow_y": null,
            "padding": null,
            "right": null,
            "top": null,
            "visibility": null,
            "width": null
          }
        },
        "c0800b77411b4f36bb2ae2947d23cd7b": {
          "model_module": "@jupyter-widgets/controls",
          "model_name": "DescriptionStyleModel",
          "model_module_version": "1.5.0",
          "state": {
            "_model_module": "@jupyter-widgets/controls",
            "_model_module_version": "1.5.0",
            "_model_name": "DescriptionStyleModel",
            "_view_count": null,
            "_view_module": "@jupyter-widgets/base",
            "_view_module_version": "1.2.0",
            "_view_name": "StyleView",
            "description_width": ""
          }
        },
        "fa9d53c85881416993ac37c263be21c0": {
          "model_module": "@jupyter-widgets/controls",
          "model_name": "HBoxModel",
          "model_module_version": "1.5.0",
          "state": {
            "_dom_classes": [],
            "_model_module": "@jupyter-widgets/controls",
            "_model_module_version": "1.5.0",
            "_model_name": "HBoxModel",
            "_view_count": null,
            "_view_module": "@jupyter-widgets/controls",
            "_view_module_version": "1.5.0",
            "_view_name": "HBoxView",
            "box_style": "",
            "children": [
              "IPY_MODEL_329be3e2f2014950a2a62454beed32d8",
              "IPY_MODEL_7e9f3713826a4a69b7e0dd9b4dc15d91",
              "IPY_MODEL_97448ef8f7b0497f9fe9e23a45419640"
            ],
            "layout": "IPY_MODEL_dd55ce7470ac415bb0f4110811108297"
          }
        },
        "329be3e2f2014950a2a62454beed32d8": {
          "model_module": "@jupyter-widgets/controls",
          "model_name": "HTMLModel",
          "model_module_version": "1.5.0",
          "state": {
            "_dom_classes": [],
            "_model_module": "@jupyter-widgets/controls",
            "_model_module_version": "1.5.0",
            "_model_name": "HTMLModel",
            "_view_count": null,
            "_view_module": "@jupyter-widgets/controls",
            "_view_module_version": "1.5.0",
            "_view_name": "HTMLView",
            "description": "",
            "description_tooltip": null,
            "layout": "IPY_MODEL_64e5131c58df4b248415cb9a2dc9bd22",
            "placeholder": "​",
            "style": "IPY_MODEL_935a67737c464cb4948831c520397e2d",
            "value": "100%"
          }
        },
        "7e9f3713826a4a69b7e0dd9b4dc15d91": {
          "model_module": "@jupyter-widgets/controls",
          "model_name": "FloatProgressModel",
          "model_module_version": "1.5.0",
          "state": {
            "_dom_classes": [],
            "_model_module": "@jupyter-widgets/controls",
            "_model_module_version": "1.5.0",
            "_model_name": "FloatProgressModel",
            "_view_count": null,
            "_view_module": "@jupyter-widgets/controls",
            "_view_module_version": "1.5.0",
            "_view_name": "ProgressView",
            "bar_style": "success",
            "description": "",
            "description_tooltip": null,
            "layout": "IPY_MODEL_aab7c4d7a6634524aec62f0a8b4e8fc5",
            "max": 1648877,
            "min": 0,
            "orientation": "horizontal",
            "style": "IPY_MODEL_fd621451479d4c6a9a7bc9682aa8c03b",
            "value": 1648877
          }
        },
        "97448ef8f7b0497f9fe9e23a45419640": {
          "model_module": "@jupyter-widgets/controls",
          "model_name": "HTMLModel",
          "model_module_version": "1.5.0",
          "state": {
            "_dom_classes": [],
            "_model_module": "@jupyter-widgets/controls",
            "_model_module_version": "1.5.0",
            "_model_name": "HTMLModel",
            "_view_count": null,
            "_view_module": "@jupyter-widgets/controls",
            "_view_module_version": "1.5.0",
            "_view_name": "HTMLView",
            "description": "",
            "description_tooltip": null,
            "layout": "IPY_MODEL_00e6dd91e774444ca92a993706d13ce3",
            "placeholder": "​",
            "style": "IPY_MODEL_c6b35fc45bed4d528105589aa455e2e8",
            "value": " 1648877/1648877 [00:00&lt;00:00, 27997520.01it/s]"
          }
        },
        "dd55ce7470ac415bb0f4110811108297": {
          "model_module": "@jupyter-widgets/base",
          "model_name": "LayoutModel",
          "model_module_version": "1.2.0",
          "state": {
            "_model_module": "@jupyter-widgets/base",
            "_model_module_version": "1.2.0",
            "_model_name": "LayoutModel",
            "_view_count": null,
            "_view_module": "@jupyter-widgets/base",
            "_view_module_version": "1.2.0",
            "_view_name": "LayoutView",
            "align_content": null,
            "align_items": null,
            "align_self": null,
            "border": null,
            "bottom": null,
            "display": null,
            "flex": null,
            "flex_flow": null,
            "grid_area": null,
            "grid_auto_columns": null,
            "grid_auto_flow": null,
            "grid_auto_rows": null,
            "grid_column": null,
            "grid_gap": null,
            "grid_row": null,
            "grid_template_areas": null,
            "grid_template_columns": null,
            "grid_template_rows": null,
            "height": null,
            "justify_content": null,
            "justify_items": null,
            "left": null,
            "margin": null,
            "max_height": null,
            "max_width": null,
            "min_height": null,
            "min_width": null,
            "object_fit": null,
            "object_position": null,
            "order": null,
            "overflow": null,
            "overflow_x": null,
            "overflow_y": null,
            "padding": null,
            "right": null,
            "top": null,
            "visibility": null,
            "width": null
          }
        },
        "64e5131c58df4b248415cb9a2dc9bd22": {
          "model_module": "@jupyter-widgets/base",
          "model_name": "LayoutModel",
          "model_module_version": "1.2.0",
          "state": {
            "_model_module": "@jupyter-widgets/base",
            "_model_module_version": "1.2.0",
            "_model_name": "LayoutModel",
            "_view_count": null,
            "_view_module": "@jupyter-widgets/base",
            "_view_module_version": "1.2.0",
            "_view_name": "LayoutView",
            "align_content": null,
            "align_items": null,
            "align_self": null,
            "border": null,
            "bottom": null,
            "display": null,
            "flex": null,
            "flex_flow": null,
            "grid_area": null,
            "grid_auto_columns": null,
            "grid_auto_flow": null,
            "grid_auto_rows": null,
            "grid_column": null,
            "grid_gap": null,
            "grid_row": null,
            "grid_template_areas": null,
            "grid_template_columns": null,
            "grid_template_rows": null,
            "height": null,
            "justify_content": null,
            "justify_items": null,
            "left": null,
            "margin": null,
            "max_height": null,
            "max_width": null,
            "min_height": null,
            "min_width": null,
            "object_fit": null,
            "object_position": null,
            "order": null,
            "overflow": null,
            "overflow_x": null,
            "overflow_y": null,
            "padding": null,
            "right": null,
            "top": null,
            "visibility": null,
            "width": null
          }
        },
        "935a67737c464cb4948831c520397e2d": {
          "model_module": "@jupyter-widgets/controls",
          "model_name": "DescriptionStyleModel",
          "model_module_version": "1.5.0",
          "state": {
            "_model_module": "@jupyter-widgets/controls",
            "_model_module_version": "1.5.0",
            "_model_name": "DescriptionStyleModel",
            "_view_count": null,
            "_view_module": "@jupyter-widgets/base",
            "_view_module_version": "1.2.0",
            "_view_name": "StyleView",
            "description_width": ""
          }
        },
        "aab7c4d7a6634524aec62f0a8b4e8fc5": {
          "model_module": "@jupyter-widgets/base",
          "model_name": "LayoutModel",
          "model_module_version": "1.2.0",
          "state": {
            "_model_module": "@jupyter-widgets/base",
            "_model_module_version": "1.2.0",
            "_model_name": "LayoutModel",
            "_view_count": null,
            "_view_module": "@jupyter-widgets/base",
            "_view_module_version": "1.2.0",
            "_view_name": "LayoutView",
            "align_content": null,
            "align_items": null,
            "align_self": null,
            "border": null,
            "bottom": null,
            "display": null,
            "flex": null,
            "flex_flow": null,
            "grid_area": null,
            "grid_auto_columns": null,
            "grid_auto_flow": null,
            "grid_auto_rows": null,
            "grid_column": null,
            "grid_gap": null,
            "grid_row": null,
            "grid_template_areas": null,
            "grid_template_columns": null,
            "grid_template_rows": null,
            "height": null,
            "justify_content": null,
            "justify_items": null,
            "left": null,
            "margin": null,
            "max_height": null,
            "max_width": null,
            "min_height": null,
            "min_width": null,
            "object_fit": null,
            "object_position": null,
            "order": null,
            "overflow": null,
            "overflow_x": null,
            "overflow_y": null,
            "padding": null,
            "right": null,
            "top": null,
            "visibility": null,
            "width": null
          }
        },
        "fd621451479d4c6a9a7bc9682aa8c03b": {
          "model_module": "@jupyter-widgets/controls",
          "model_name": "ProgressStyleModel",
          "model_module_version": "1.5.0",
          "state": {
            "_model_module": "@jupyter-widgets/controls",
            "_model_module_version": "1.5.0",
            "_model_name": "ProgressStyleModel",
            "_view_count": null,
            "_view_module": "@jupyter-widgets/base",
            "_view_module_version": "1.2.0",
            "_view_name": "StyleView",
            "bar_color": null,
            "description_width": ""
          }
        },
        "00e6dd91e774444ca92a993706d13ce3": {
          "model_module": "@jupyter-widgets/base",
          "model_name": "LayoutModel",
          "model_module_version": "1.2.0",
          "state": {
            "_model_module": "@jupyter-widgets/base",
            "_model_module_version": "1.2.0",
            "_model_name": "LayoutModel",
            "_view_count": null,
            "_view_module": "@jupyter-widgets/base",
            "_view_module_version": "1.2.0",
            "_view_name": "LayoutView",
            "align_content": null,
            "align_items": null,
            "align_self": null,
            "border": null,
            "bottom": null,
            "display": null,
            "flex": null,
            "flex_flow": null,
            "grid_area": null,
            "grid_auto_columns": null,
            "grid_auto_flow": null,
            "grid_auto_rows": null,
            "grid_column": null,
            "grid_gap": null,
            "grid_row": null,
            "grid_template_areas": null,
            "grid_template_columns": null,
            "grid_template_rows": null,
            "height": null,
            "justify_content": null,
            "justify_items": null,
            "left": null,
            "margin": null,
            "max_height": null,
            "max_width": null,
            "min_height": null,
            "min_width": null,
            "object_fit": null,
            "object_position": null,
            "order": null,
            "overflow": null,
            "overflow_x": null,
            "overflow_y": null,
            "padding": null,
            "right": null,
            "top": null,
            "visibility": null,
            "width": null
          }
        },
        "c6b35fc45bed4d528105589aa455e2e8": {
          "model_module": "@jupyter-widgets/controls",
          "model_name": "DescriptionStyleModel",
          "model_module_version": "1.5.0",
          "state": {
            "_model_module": "@jupyter-widgets/controls",
            "_model_module_version": "1.5.0",
            "_model_name": "DescriptionStyleModel",
            "_view_count": null,
            "_view_module": "@jupyter-widgets/base",
            "_view_module_version": "1.2.0",
            "_view_name": "StyleView",
            "description_width": ""
          }
        },
        "ba69fa7b61ab47d78796d296cc9048f3": {
          "model_module": "@jupyter-widgets/controls",
          "model_name": "HBoxModel",
          "model_module_version": "1.5.0",
          "state": {
            "_dom_classes": [],
            "_model_module": "@jupyter-widgets/controls",
            "_model_module_version": "1.5.0",
            "_model_name": "HBoxModel",
            "_view_count": null,
            "_view_module": "@jupyter-widgets/controls",
            "_view_module_version": "1.5.0",
            "_view_name": "HBoxView",
            "box_style": "",
            "children": [
              "IPY_MODEL_3c5e96af95fe41a58f21276ad4e29344",
              "IPY_MODEL_aef4769700f24364aab0de4e19fca0d0",
              "IPY_MODEL_88dfeb2f99524e1a94bd96234f066773"
            ],
            "layout": "IPY_MODEL_0329778247594e1590c17fef81f30ef6"
          }
        },
        "3c5e96af95fe41a58f21276ad4e29344": {
          "model_module": "@jupyter-widgets/controls",
          "model_name": "HTMLModel",
          "model_module_version": "1.5.0",
          "state": {
            "_dom_classes": [],
            "_model_module": "@jupyter-widgets/controls",
            "_model_module_version": "1.5.0",
            "_model_name": "HTMLModel",
            "_view_count": null,
            "_view_module": "@jupyter-widgets/controls",
            "_view_module_version": "1.5.0",
            "_view_name": "HTMLView",
            "description": "",
            "description_tooltip": null,
            "layout": "IPY_MODEL_eb723a6129db49ffbbbecc2de4c8925e",
            "placeholder": "​",
            "style": "IPY_MODEL_4e34f98323b040a3babab702e9028f88",
            "value": "100%"
          }
        },
        "aef4769700f24364aab0de4e19fca0d0": {
          "model_module": "@jupyter-widgets/controls",
          "model_name": "FloatProgressModel",
          "model_module_version": "1.5.0",
          "state": {
            "_dom_classes": [],
            "_model_module": "@jupyter-widgets/controls",
            "_model_module_version": "1.5.0",
            "_model_name": "FloatProgressModel",
            "_view_count": null,
            "_view_module": "@jupyter-widgets/controls",
            "_view_module_version": "1.5.0",
            "_view_name": "ProgressView",
            "bar_style": "success",
            "description": "",
            "description_tooltip": null,
            "layout": "IPY_MODEL_b868cb5bb9a249e3a0f735bdda56efc6",
            "max": 4542,
            "min": 0,
            "orientation": "horizontal",
            "style": "IPY_MODEL_0ea77744f98c490ebd2685b4d109b632",
            "value": 4542
          }
        },
        "88dfeb2f99524e1a94bd96234f066773": {
          "model_module": "@jupyter-widgets/controls",
          "model_name": "HTMLModel",
          "model_module_version": "1.5.0",
          "state": {
            "_dom_classes": [],
            "_model_module": "@jupyter-widgets/controls",
            "_model_module_version": "1.5.0",
            "_model_name": "HTMLModel",
            "_view_count": null,
            "_view_module": "@jupyter-widgets/controls",
            "_view_module_version": "1.5.0",
            "_view_name": "HTMLView",
            "description": "",
            "description_tooltip": null,
            "layout": "IPY_MODEL_c6ff2bf69d894d84b3ab917e3020c32b",
            "placeholder": "​",
            "style": "IPY_MODEL_2f5a24bd03fc40c3b8748218d34d42a3",
            "value": " 4542/4542 [00:00&lt;00:00, 102665.61it/s]"
          }
        },
        "0329778247594e1590c17fef81f30ef6": {
          "model_module": "@jupyter-widgets/base",
          "model_name": "LayoutModel",
          "model_module_version": "1.2.0",
          "state": {
            "_model_module": "@jupyter-widgets/base",
            "_model_module_version": "1.2.0",
            "_model_name": "LayoutModel",
            "_view_count": null,
            "_view_module": "@jupyter-widgets/base",
            "_view_module_version": "1.2.0",
            "_view_name": "LayoutView",
            "align_content": null,
            "align_items": null,
            "align_self": null,
            "border": null,
            "bottom": null,
            "display": null,
            "flex": null,
            "flex_flow": null,
            "grid_area": null,
            "grid_auto_columns": null,
            "grid_auto_flow": null,
            "grid_auto_rows": null,
            "grid_column": null,
            "grid_gap": null,
            "grid_row": null,
            "grid_template_areas": null,
            "grid_template_columns": null,
            "grid_template_rows": null,
            "height": null,
            "justify_content": null,
            "justify_items": null,
            "left": null,
            "margin": null,
            "max_height": null,
            "max_width": null,
            "min_height": null,
            "min_width": null,
            "object_fit": null,
            "object_position": null,
            "order": null,
            "overflow": null,
            "overflow_x": null,
            "overflow_y": null,
            "padding": null,
            "right": null,
            "top": null,
            "visibility": null,
            "width": null
          }
        },
        "eb723a6129db49ffbbbecc2de4c8925e": {
          "model_module": "@jupyter-widgets/base",
          "model_name": "LayoutModel",
          "model_module_version": "1.2.0",
          "state": {
            "_model_module": "@jupyter-widgets/base",
            "_model_module_version": "1.2.0",
            "_model_name": "LayoutModel",
            "_view_count": null,
            "_view_module": "@jupyter-widgets/base",
            "_view_module_version": "1.2.0",
            "_view_name": "LayoutView",
            "align_content": null,
            "align_items": null,
            "align_self": null,
            "border": null,
            "bottom": null,
            "display": null,
            "flex": null,
            "flex_flow": null,
            "grid_area": null,
            "grid_auto_columns": null,
            "grid_auto_flow": null,
            "grid_auto_rows": null,
            "grid_column": null,
            "grid_gap": null,
            "grid_row": null,
            "grid_template_areas": null,
            "grid_template_columns": null,
            "grid_template_rows": null,
            "height": null,
            "justify_content": null,
            "justify_items": null,
            "left": null,
            "margin": null,
            "max_height": null,
            "max_width": null,
            "min_height": null,
            "min_width": null,
            "object_fit": null,
            "object_position": null,
            "order": null,
            "overflow": null,
            "overflow_x": null,
            "overflow_y": null,
            "padding": null,
            "right": null,
            "top": null,
            "visibility": null,
            "width": null
          }
        },
        "4e34f98323b040a3babab702e9028f88": {
          "model_module": "@jupyter-widgets/controls",
          "model_name": "DescriptionStyleModel",
          "model_module_version": "1.5.0",
          "state": {
            "_model_module": "@jupyter-widgets/controls",
            "_model_module_version": "1.5.0",
            "_model_name": "DescriptionStyleModel",
            "_view_count": null,
            "_view_module": "@jupyter-widgets/base",
            "_view_module_version": "1.2.0",
            "_view_name": "StyleView",
            "description_width": ""
          }
        },
        "b868cb5bb9a249e3a0f735bdda56efc6": {
          "model_module": "@jupyter-widgets/base",
          "model_name": "LayoutModel",
          "model_module_version": "1.2.0",
          "state": {
            "_model_module": "@jupyter-widgets/base",
            "_model_module_version": "1.2.0",
            "_model_name": "LayoutModel",
            "_view_count": null,
            "_view_module": "@jupyter-widgets/base",
            "_view_module_version": "1.2.0",
            "_view_name": "LayoutView",
            "align_content": null,
            "align_items": null,
            "align_self": null,
            "border": null,
            "bottom": null,
            "display": null,
            "flex": null,
            "flex_flow": null,
            "grid_area": null,
            "grid_auto_columns": null,
            "grid_auto_flow": null,
            "grid_auto_rows": null,
            "grid_column": null,
            "grid_gap": null,
            "grid_row": null,
            "grid_template_areas": null,
            "grid_template_columns": null,
            "grid_template_rows": null,
            "height": null,
            "justify_content": null,
            "justify_items": null,
            "left": null,
            "margin": null,
            "max_height": null,
            "max_width": null,
            "min_height": null,
            "min_width": null,
            "object_fit": null,
            "object_position": null,
            "order": null,
            "overflow": null,
            "overflow_x": null,
            "overflow_y": null,
            "padding": null,
            "right": null,
            "top": null,
            "visibility": null,
            "width": null
          }
        },
        "0ea77744f98c490ebd2685b4d109b632": {
          "model_module": "@jupyter-widgets/controls",
          "model_name": "ProgressStyleModel",
          "model_module_version": "1.5.0",
          "state": {
            "_model_module": "@jupyter-widgets/controls",
            "_model_module_version": "1.5.0",
            "_model_name": "ProgressStyleModel",
            "_view_count": null,
            "_view_module": "@jupyter-widgets/base",
            "_view_module_version": "1.2.0",
            "_view_name": "StyleView",
            "bar_color": null,
            "description_width": ""
          }
        },
        "c6ff2bf69d894d84b3ab917e3020c32b": {
          "model_module": "@jupyter-widgets/base",
          "model_name": "LayoutModel",
          "model_module_version": "1.2.0",
          "state": {
            "_model_module": "@jupyter-widgets/base",
            "_model_module_version": "1.2.0",
            "_model_name": "LayoutModel",
            "_view_count": null,
            "_view_module": "@jupyter-widgets/base",
            "_view_module_version": "1.2.0",
            "_view_name": "LayoutView",
            "align_content": null,
            "align_items": null,
            "align_self": null,
            "border": null,
            "bottom": null,
            "display": null,
            "flex": null,
            "flex_flow": null,
            "grid_area": null,
            "grid_auto_columns": null,
            "grid_auto_flow": null,
            "grid_auto_rows": null,
            "grid_column": null,
            "grid_gap": null,
            "grid_row": null,
            "grid_template_areas": null,
            "grid_template_columns": null,
            "grid_template_rows": null,
            "height": null,
            "justify_content": null,
            "justify_items": null,
            "left": null,
            "margin": null,
            "max_height": null,
            "max_width": null,
            "min_height": null,
            "min_width": null,
            "object_fit": null,
            "object_position": null,
            "order": null,
            "overflow": null,
            "overflow_x": null,
            "overflow_y": null,
            "padding": null,
            "right": null,
            "top": null,
            "visibility": null,
            "width": null
          }
        },
        "2f5a24bd03fc40c3b8748218d34d42a3": {
          "model_module": "@jupyter-widgets/controls",
          "model_name": "DescriptionStyleModel",
          "model_module_version": "1.5.0",
          "state": {
            "_model_module": "@jupyter-widgets/controls",
            "_model_module_version": "1.5.0",
            "_model_name": "DescriptionStyleModel",
            "_view_count": null,
            "_view_module": "@jupyter-widgets/base",
            "_view_module_version": "1.2.0",
            "_view_name": "StyleView",
            "description_width": ""
          }
        }
      }
    }
  },
  "cells": [
    {
      "cell_type": "markdown",
      "source": [
        "Importing Required Libraries"
      ],
      "metadata": {
        "id": "yPcMOTS1fp0C"
      }
    },
    {
      "cell_type": "code",
      "execution_count": 1,
      "metadata": {
        "id": "o_OoCBRenEM7"
      },
      "outputs": [],
      "source": [
        "import numpy as np\n",
        "import matplotlib.pyplot as plt\n",
        "import torch\n",
        "import torch.nn as nn \n",
        "import torchvision\n",
        "import torchvision.transforms as transforms\n",
        "from torch.utils.data.dataset import TensorDataset\n",
        "from torch.utils.data import DataLoader"
      ]
    },
    {
      "cell_type": "markdown",
      "source": [
        "##**DATASET LOADING AND PREPARATION**"
      ],
      "metadata": {
        "id": "6BZqlSa6fv_X"
      }
    },
    {
      "cell_type": "code",
      "source": [
        "train_dataset = torchvision.datasets.MNIST(root='./data', train=True, transform=transforms.ToTensor(),  download=True)\n",
        "test_dataset = torchvision.datasets.MNIST(root='./data', train=False, transform=transforms.ToTensor())"
      ],
      "metadata": {
        "id": "Hd0823pWnPPH",
        "colab": {
          "base_uri": "https://localhost:8080/",
          "height": 431,
          "referenced_widgets": [
            "00266f78d77e4942bedd25c32b8e83b6",
            "aaa4c8fd4e414d9ea033a84e46f3e9b3",
            "bd31b22043434a92869288761d31e99d",
            "dacfba9ad359461582e8ca9cb551ecd8",
            "b3e0a6bf52d94f3b8aeba9638daa739f",
            "cb7cea790d9447b8ba499e63ee409ddd",
            "046349329fa44074be1a34bf704d9261",
            "c5cdfed726b146afa37211043be5d332",
            "7519a6de981049b39255f4aedee713a5",
            "c41baffcbe9048bf95f13b9655576f9e",
            "e2d1130bff2f4b28bc983f7130b3c3b3",
            "a1c3887bb8a44889b709c3eea0c0dd56",
            "b5cdfdeb8ecd4d62ba0eb4903e2bb187",
            "165e2d6ecab54418b97ac292e2eb875b",
            "05c716e3f7f845d9b14916f8d1bb4a1d",
            "3787a419f7fe48f69188639935a92a7e",
            "7482845c273b412f907fab87e3ebf652",
            "2984738a14064b66a781b5a8eb6e1b51",
            "a591876a7060477fb370b19e06232b4d",
            "aaf81ef125414fa3a1a84a556e40e079",
            "c4bd6188f31040959380229cf2218a90",
            "c0800b77411b4f36bb2ae2947d23cd7b",
            "fa9d53c85881416993ac37c263be21c0",
            "329be3e2f2014950a2a62454beed32d8",
            "7e9f3713826a4a69b7e0dd9b4dc15d91",
            "97448ef8f7b0497f9fe9e23a45419640",
            "dd55ce7470ac415bb0f4110811108297",
            "64e5131c58df4b248415cb9a2dc9bd22",
            "935a67737c464cb4948831c520397e2d",
            "aab7c4d7a6634524aec62f0a8b4e8fc5",
            "fd621451479d4c6a9a7bc9682aa8c03b",
            "00e6dd91e774444ca92a993706d13ce3",
            "c6b35fc45bed4d528105589aa455e2e8",
            "ba69fa7b61ab47d78796d296cc9048f3",
            "3c5e96af95fe41a58f21276ad4e29344",
            "aef4769700f24364aab0de4e19fca0d0",
            "88dfeb2f99524e1a94bd96234f066773",
            "0329778247594e1590c17fef81f30ef6",
            "eb723a6129db49ffbbbecc2de4c8925e",
            "4e34f98323b040a3babab702e9028f88",
            "b868cb5bb9a249e3a0f735bdda56efc6",
            "0ea77744f98c490ebd2685b4d109b632",
            "c6ff2bf69d894d84b3ab917e3020c32b",
            "2f5a24bd03fc40c3b8748218d34d42a3"
          ]
        },
        "outputId": "345c5a52-bbad-4d30-c15b-30a94027a11a"
      },
      "execution_count": 2,
      "outputs": [
        {
          "output_type": "stream",
          "name": "stdout",
          "text": [
            "Downloading http://yann.lecun.com/exdb/mnist/train-images-idx3-ubyte.gz\n",
            "Downloading http://yann.lecun.com/exdb/mnist/train-images-idx3-ubyte.gz to ./data/MNIST/raw/train-images-idx3-ubyte.gz\n"
          ]
        },
        {
          "output_type": "display_data",
          "data": {
            "text/plain": [
              "  0%|          | 0/9912422 [00:00<?, ?it/s]"
            ],
            "application/vnd.jupyter.widget-view+json": {
              "version_major": 2,
              "version_minor": 0,
              "model_id": "00266f78d77e4942bedd25c32b8e83b6"
            }
          },
          "metadata": {}
        },
        {
          "output_type": "stream",
          "name": "stdout",
          "text": [
            "Extracting ./data/MNIST/raw/train-images-idx3-ubyte.gz to ./data/MNIST/raw\n",
            "\n",
            "Downloading http://yann.lecun.com/exdb/mnist/train-labels-idx1-ubyte.gz\n",
            "Downloading http://yann.lecun.com/exdb/mnist/train-labels-idx1-ubyte.gz to ./data/MNIST/raw/train-labels-idx1-ubyte.gz\n"
          ]
        },
        {
          "output_type": "display_data",
          "data": {
            "text/plain": [
              "  0%|          | 0/28881 [00:00<?, ?it/s]"
            ],
            "application/vnd.jupyter.widget-view+json": {
              "version_major": 2,
              "version_minor": 0,
              "model_id": "a1c3887bb8a44889b709c3eea0c0dd56"
            }
          },
          "metadata": {}
        },
        {
          "output_type": "stream",
          "name": "stdout",
          "text": [
            "Extracting ./data/MNIST/raw/train-labels-idx1-ubyte.gz to ./data/MNIST/raw\n",
            "\n",
            "Downloading http://yann.lecun.com/exdb/mnist/t10k-images-idx3-ubyte.gz\n",
            "Downloading http://yann.lecun.com/exdb/mnist/t10k-images-idx3-ubyte.gz to ./data/MNIST/raw/t10k-images-idx3-ubyte.gz\n"
          ]
        },
        {
          "output_type": "display_data",
          "data": {
            "text/plain": [
              "  0%|          | 0/1648877 [00:00<?, ?it/s]"
            ],
            "application/vnd.jupyter.widget-view+json": {
              "version_major": 2,
              "version_minor": 0,
              "model_id": "fa9d53c85881416993ac37c263be21c0"
            }
          },
          "metadata": {}
        },
        {
          "output_type": "stream",
          "name": "stdout",
          "text": [
            "Extracting ./data/MNIST/raw/t10k-images-idx3-ubyte.gz to ./data/MNIST/raw\n",
            "\n",
            "Downloading http://yann.lecun.com/exdb/mnist/t10k-labels-idx1-ubyte.gz\n",
            "Downloading http://yann.lecun.com/exdb/mnist/t10k-labels-idx1-ubyte.gz to ./data/MNIST/raw/t10k-labels-idx1-ubyte.gz\n"
          ]
        },
        {
          "output_type": "display_data",
          "data": {
            "text/plain": [
              "  0%|          | 0/4542 [00:00<?, ?it/s]"
            ],
            "application/vnd.jupyter.widget-view+json": {
              "version_major": 2,
              "version_minor": 0,
              "model_id": "ba69fa7b61ab47d78796d296cc9048f3"
            }
          },
          "metadata": {}
        },
        {
          "output_type": "stream",
          "name": "stdout",
          "text": [
            "Extracting ./data/MNIST/raw/t10k-labels-idx1-ubyte.gz to ./data/MNIST/raw\n",
            "\n"
          ]
        }
      ]
    },
    {
      "cell_type": "code",
      "source": [
        "loader_train = torch.utils.data.DataLoader(dataset=train_dataset,batch_size = len(train_dataset) ,shuffle=True) \n",
        "loader_test = torch.utils.data.DataLoader(dataset=test_dataset,batch_size = len(test_dataset) ,shuffle=True)"
      ],
      "metadata": {
        "id": "JAtpUkFJo5Kc"
      },
      "execution_count": 3,
      "outputs": []
    },
    {
      "cell_type": "code",
      "source": [
        "X_train,y_train=next(iter(loader_train))\n",
        "X_test,y_test=next(iter(loader_test))"
      ],
      "metadata": {
        "id": "M0nP3kRColz0"
      },
      "execution_count": 4,
      "outputs": []
    },
    {
      "cell_type": "code",
      "source": [
        "X_train=X_train.numpy()\n",
        "y_train=y_train.numpy()\n",
        "X_test=X_test.numpy()\n",
        "y_test=y_test.numpy()"
      ],
      "metadata": {
        "id": "pA10C5WdouBO"
      },
      "execution_count": 5,
      "outputs": []
    },
    {
      "cell_type": "code",
      "source": [
        "X_train_flattened=X_train.reshape(X_train.shape[0],X_train.shape[1]*X_train.shape[2]*X_train.shape[3])\n",
        "X_test_flattened=X_test.reshape(X_test.shape[0],X_test.shape[1]*X_test.shape[2]*X_test.shape[3])"
      ],
      "metadata": {
        "id": "MUYMWwUgpnFI"
      },
      "execution_count": 6,
      "outputs": []
    },
    {
      "cell_type": "markdown",
      "source": [
        "One-Hot Encoding"
      ],
      "metadata": {
        "id": "SmLINfqpf6nE"
      }
    },
    {
      "cell_type": "code",
      "source": [
        "train_labels_encoded = []\n",
        "for i in y_train:\n",
        "  A=np.array([0]*10)\n",
        "  A[i]=1\n",
        "  train_labels_encoded.append(A)\n",
        "y_train_encoded=np.array(train_labels_encoded)"
      ],
      "metadata": {
        "id": "uf3Wwnr0py_H"
      },
      "execution_count": 7,
      "outputs": []
    },
    {
      "cell_type": "code",
      "source": [
        "test_labels_encoded = []\n",
        "for i in y_test:\n",
        "  A=np.array([0]*10)\n",
        "  A[i]=1\n",
        "  test_labels_encoded.append(A)\n",
        "y_test_encoded=np.array(test_labels_encoded)"
      ],
      "metadata": {
        "id": "N4iUBJ0Zp29_"
      },
      "execution_count": 8,
      "outputs": []
    },
    {
      "cell_type": "code",
      "source": [
        "X_train_flattened_torch=torch.from_numpy(X_train_flattened)\n",
        "y_train_encoded_torch=torch.from_numpy(y_train_encoded)"
      ],
      "metadata": {
        "id": "ZtruZ-9Cp_52"
      },
      "execution_count": 9,
      "outputs": []
    },
    {
      "cell_type": "code",
      "source": [
        "X_test_flattened_torch=torch.from_numpy(X_test_flattened)\n",
        "y_test_encoded_torch=torch.from_numpy(y_test_encoded)"
      ],
      "metadata": {
        "id": "ka69yDPQ0WNB"
      },
      "execution_count": 10,
      "outputs": []
    },
    {
      "cell_type": "markdown",
      "source": [
        "Here we have prepared dataset with flattenned images and one-hot encoded labels"
      ],
      "metadata": {
        "id": "LcqakPZof_NZ"
      }
    },
    {
      "cell_type": "code",
      "source": [
        "Train_Dataset=TensorDataset(X_train_flattened_torch,y_train_encoded_torch)"
      ],
      "metadata": {
        "id": "P1IypBsJrW8B"
      },
      "execution_count": 11,
      "outputs": []
    },
    {
      "cell_type": "code",
      "source": [
        "Test_Dataset=TensorDataset(X_test_flattened_torch,y_test_encoded_torch)"
      ],
      "metadata": {
        "id": "8AJdKicr0pFl"
      },
      "execution_count": 12,
      "outputs": []
    },
    {
      "cell_type": "markdown",
      "source": [
        "##**HELPER FUNCTIONS**"
      ],
      "metadata": {
        "id": "ET70jqk3Z5bX"
      }
    },
    {
      "cell_type": "code",
      "source": [
        "def sigmoid(z):\n",
        "  return 1/(1+(np.exp(-z)))\n",
        "\n",
        "def softmax(z):\n",
        "    return np.exp(z)/sum(np.exp(z))"
      ],
      "metadata": {
        "id": "G4iwwnPwDbCt"
      },
      "execution_count": 13,
      "outputs": []
    },
    {
      "cell_type": "code",
      "source": [
        "def dif_sigmoid(z):\n",
        "  return ((1-sigmoid(z))*sigmoid(z)) ##since diff of sigmoid is (1-sigmoid)*sigmoid"
      ],
      "metadata": {
        "id": "qQy6mHZvDhTP"
      },
      "execution_count": 14,
      "outputs": []
    },
    {
      "cell_type": "code",
      "source": [
        "def glorot_initialisation(output_n,input_n):\n",
        "  M=np.sqrt(6/(input_n+output_n))\n",
        "  W=np.random.uniform(low=-M, high=M, size=(output_n,input_n))\n",
        "  b=np.random.uniform(low=-M, high=M, size=(output_n,1))\n",
        "  return W,b"
      ],
      "metadata": {
        "id": "tY5KcHj0DkPM"
      },
      "execution_count": 15,
      "outputs": []
    },
    {
      "cell_type": "code",
      "source": [
        "def initialize_parameters(layer_dims):\n",
        "    \"\"\"\n",
        "    Arguments:\n",
        "    layer_dims -- python array (list) containing the dimensions of each layer in our network\n",
        "    \n",
        "    Returns:\n",
        "    parameters -- python dictionary containing your parameters \"W1\", \"b1\", ..., \"WL\", \"bL\":\n",
        "                    W1 -- weight matrix of shape (layer_dims[l], layer_dims[l-1])\n",
        "                    b1 -- bias vector of shape (layer_dims[l], 1)\n",
        "                    Wl -- weight matrix of shape (layer_dims[l-1], layer_dims[l])\n",
        "                    bl -- bias vector of shape (1, layer_dims[l])\n",
        "                    \n",
        "    Tips:\n",
        "    - For example: the layer_dims for the \"Planar Data classification model\" would have been [2,2,1]. \n",
        "    This means W1's shape was (2,2), b1 was (1,2), W2 was (2,1) and b2 was (1,1). Now you have to generalize it!\n",
        "    - In the for loop, use parameters['W' + str(l)] to access Wl, where l is the iterative integer.\n",
        "    \"\"\"\n",
        "    \n",
        "    np.random.seed(1390)\n",
        "    parameters = {}\n",
        "    L = len(layer_dims) # number of layers in the network\n",
        "\n",
        "    for l in range(1, L):\n",
        "\n",
        "        # M=np.sqrt(6/(self.input_n+self.output_n))\n",
        "        parameters['W' + str(l)],parameters['b' + str(l)]  = glorot_initialisation(layer_dims[l], layer_dims[l-1])\n",
        "        \n",
        "        \n",
        "        assert(parameters['W' + str(l)].shape == (layer_dims[l], layer_dims[l-1]))\n",
        "        assert(parameters['b' + str(l)].shape == (layer_dims[l], 1))\n",
        "        \n",
        "    return parameters"
      ],
      "metadata": {
        "id": "rxlwRAJMDxrm"
      },
      "execution_count": 16,
      "outputs": []
    },
    {
      "cell_type": "code",
      "source": [
        "def forward_propagation(X, parameters):\n",
        "    \"\"\"\n",
        "\n",
        "    SHAPE OF X = 784,samples(i.e. 64 for a batch)\n",
        "    Implements the forward propagation (and computes the loss) presented in Figure 2.\n",
        "    \n",
        "    Arguments:\n",
        "    X -- input dataset, of shape (input size, number of examples)\n",
        "    parameters -- python dictionary containing your parameters \"W1\", \"b1\", \"W2\", \"b2\", \"W3\", \"b3\",\"W4\",\"b4\":\n",
        "                    W1 -- weight matrix of shape (500,784)\n",
        "                    b1 -- bias vector of shape (500,1)\n",
        "                    W2 -- weight matrix of shape (250,500)\n",
        "                    b2 -- bias vector of shape (250,1)\n",
        "                    W3 -- weight matrix of shape (100,250)\n",
        "                    b3 -- bias vector of shape (100,1)\n",
        "                    W4 -- weight matrix of shape (10,100)\n",
        "                    b4 -- bias vector of shape (10,1)\n",
        "\n",
        "    \n",
        "    Returns:\n",
        "    loss -- the loss function (vanilla logistic loss)\n",
        "    \"\"\"\n",
        "\n",
        "    cache={}\n",
        "      \n",
        "\n",
        "    cache['Z2']=np.dot(parameters['W1'],X)+parameters['b1']\n",
        "    cache['A2']=sigmoid(cache['Z2'])\n",
        "\n",
        "    cache['Z3']=np.dot(parameters['W2'],cache['A2'])+parameters['b2']\n",
        "    cache['A3']=sigmoid(cache['Z3'])\n",
        "\n",
        "    cache['Z4']=np.dot(parameters['W3'],cache['A3'])+parameters['b3']\n",
        "    cache['A4']=sigmoid(cache['Z4'])\n",
        "\n",
        "    cache['Z5']=np.dot(parameters['W4'],cache['A4'])+parameters['b4']\n",
        "    cache['A5']=softmax(cache['Z5'])\n",
        "\n",
        "    A_last=cache['A5']\n",
        "\n",
        "    cache['W1']=parameters['W1']\n",
        "    cache['b1']=parameters['b1']   \n",
        "        \n",
        "    cache['W2']=parameters['W2']\n",
        "    cache['b2']=parameters['b2']   \n",
        "    \n",
        "    cache['W3']=parameters['W3']\n",
        "    cache['b3']=parameters['b3']   \n",
        "\n",
        "    cache['W4']=parameters['W4']\n",
        "    cache['b4']=parameters['b4']   \n",
        "\n",
        "   # cache = {\"W1\": W1, \"b1\": b1,\"Z2\": Z2, \"A2\": A2, \n",
        "   #          \"W2\": W2, \"b2\": b2,\"Z3\": Z3, \"A3\": A3,\n",
        "   #          \"W3\": W3, \"b3\": b3,\"Z4\": Z4, \"A4\": A4,\n",
        "   #          \"W4\": W4, \"b4\": b4,\"Z5\": Z5, \"A5\": A5}\n",
        "    \n",
        "    return A_last, cache"
      ],
      "metadata": {
        "id": "ULLYLL20EA77"
      },
      "execution_count": 17,
      "outputs": []
    },
    {
      "cell_type": "code",
      "source": [
        "# Calculating the loss function using the cross entropy\n",
        "\"\"\"Arguments:\n",
        "    A -- post-activation, output of forward propagation\n",
        "    Y -- \"true\" labels vector, same shape as A\n",
        "\n",
        "    Returns:\n",
        "    cost - value of the cost function\n",
        "\"\"\"\n",
        "def compute_cost(A, Y):    \n",
        "    #A is predicted\n",
        "    #Y is actual\n",
        "    m = Y.shape[1] \n",
        "    logprobs = np.multiply(-np.log(A),Y) + np.multiply(-np.log(1 - A), 1 - Y)\n",
        "    cost = 1./m * np.nansum(logprobs)\n",
        "    return cost"
      ],
      "metadata": {
        "id": "qrefoXXbEx60"
      },
      "execution_count": 18,
      "outputs": []
    },
    {
      "cell_type": "code",
      "source": [
        "def backward_propagation(X,Y,cache):\n",
        "\n",
        "  m=X.shape[1]\n",
        "\n",
        "  grads={}\n",
        "\n",
        "  grads['dZ5']=cache['A5']-Y\n",
        "  grads['dW4']= 1./m * np.dot(grads['dZ5'],cache['A4'].T)\n",
        "  grads['db4']= 1./m * np.sum(grads['dZ5'],axis=1,keepdims=True)\n",
        "\n",
        "  grads['dA4']=np.dot(cache['W4'].T,grads['dZ5'])\n",
        "  grads['dZ4']=np.multiply(grads['dA4'],dif_sigmoid(cache['Z4']))\n",
        "  grads['dW3']=1./m * np.dot(grads['dZ4'],cache['A3'].T)\n",
        "  grads['db3']=1./m * np.sum(grads['dZ4'],axis=1,keepdims=True)\n",
        "\n",
        "  grads['dA3']=np.dot(cache['W3'].T,grads['dZ4'])\n",
        "  grads['dZ3']=np.multiply(grads['dA3'],dif_sigmoid(cache['Z3']))\n",
        "  grads['dW2']=1./m * np.dot(grads['dZ3'],cache['A2'].T)\n",
        "  grads['db2']=1./m * np.sum(grads['dZ3'],axis=1,keepdims=True)\n",
        "\n",
        "  grads['dA2']=np.dot(cache['W2'].T,grads['dZ3'])\n",
        "  grads['dZ2']=np.multiply(grads['dA2'],dif_sigmoid(cache['Z2']))\n",
        "  grads['dW1']=1./m * np.dot(grads['dZ2'],X.T)\n",
        "  grads['db1']=1./m * np.sum(grads['dZ2'],axis=1,keepdims=True)\n",
        "\n",
        "\n",
        "  return grads\n"
      ],
      "metadata": {
        "id": "g1XAR4N4Ml2g"
      },
      "execution_count": 19,
      "outputs": []
    },
    {
      "cell_type": "code",
      "source": [
        "def update_parameters(parameters,grads,learning_rate):\n",
        "\n",
        "  updated_parameters={}\n",
        "\n",
        "  updated_parameters['W1']=parameters['W1']-learning_rate*grads['dW1']\n",
        "  updated_parameters['b1']=parameters['b1']-learning_rate*grads['db1']\n",
        "\n",
        "  updated_parameters['W2']=parameters['W2']-learning_rate*grads['dW2']\n",
        "  updated_parameters['b2']=parameters['b2']-learning_rate*grads['db2']\n",
        "\n",
        "  updated_parameters['W3']=parameters['W3']-learning_rate*grads['dW3']\n",
        "  updated_parameters['b3']=parameters['b3']-learning_rate*grads['db3']\n",
        "\n",
        "  updated_parameters['W4']=parameters['W4']-learning_rate*grads['dW4']\n",
        "  updated_parameters['b4']=parameters['b4']-learning_rate*grads['db4']\n",
        "\n",
        "  return updated_parameters"
      ],
      "metadata": {
        "id": "bplQAHwTR_tj"
      },
      "execution_count": 20,
      "outputs": []
    },
    {
      "cell_type": "code",
      "source": [
        "#Finding the accuracy of the parameter at the output \n",
        "\"\"\"  \n",
        "    Arguments:\n",
        "    y_actual -  given in the dataset / also called as the ground truth \n",
        "    y_pred - generated from the neural network , after a series of forward and backprop \n",
        "    \n",
        "    Returns:\n",
        "    accuracy =  finding the matches of the prdicted vs the actual\n",
        "\"\"\"\n",
        "def calculate_accuracy(y_actual,y_pred):\n",
        "    accuracy = np.count_nonzero(np.argmax(y_pred,axis=0)==np.argmax(y_actual,axis=0))/y_actual.shape[1]\n",
        "    return accuracy"
      ],
      "metadata": {
        "id": "75L4cOiLTaTF"
      },
      "execution_count": 21,
      "outputs": []
    },
    {
      "cell_type": "code",
      "source": [
        "def predict(X,Y,parameters):\n",
        "\n",
        "    \"\"\"\n",
        "    This function is used to predict the results of a  n-layer neural network.\n",
        "    \n",
        "    Arguments:\n",
        "    X -- data set of examples you would like to label\n",
        "    Y -- data set of examples\n",
        "    parameters -- parameters of the trained model\n",
        "    \n",
        "    Returns:\n",
        "    ypred -- predictions for the given dataset X\n",
        "    \"\"\"\n",
        "\n",
        "    y_pred,cache=forward_propagation(X,parameters)\n",
        "    return y_pred"
      ],
      "metadata": {
        "id": "gkSYGUHwUQto"
      },
      "execution_count": 22,
      "outputs": []
    },
    {
      "cell_type": "markdown",
      "source": [
        "##**MODEL TRAINING**"
      ],
      "metadata": {
        "id": "lePPqNOQwPpP"
      }
    },
    {
      "cell_type": "code",
      "source": [
        "def model(Train_Dataset,layer_dimensions,total_epochs=15,Batch_Size=64,learning_rate=0.01):\n",
        "\n",
        "  costs=[]\n",
        "  accuracy=[]\n",
        "\n",
        "  parameters=initialize_parameters(layer_dimensions)\n",
        "  num_iterations=len(Train_Dataset)//Batch_Size\n",
        "\n",
        "\n",
        "  for epoch in range(total_epochs):\n",
        "    for iteration in range(num_iterations):\n",
        "      Data_Loader=torch.utils.data.DataLoader(dataset=Train_Dataset,batch_size=64, shuffle=True)\n",
        "      \n",
        "      data_iter=iter(Data_Loader)\n",
        "      Data=next(data_iter)\n",
        "      X,y=Data #X.shape=(batch_size,784) y.shape=(batch_size,10)\n",
        "      X=X.numpy()\n",
        "      y=y.numpy()\n",
        "      a5,cache=forward_propagation(X.T,parameters)\n",
        "      cost=compute_cost(a5,y.T)\n",
        "      gradients=backward_propagation(X.T,y.T,cache)\n",
        "      parameters=update_parameters(parameters,gradients,learning_rate)\n",
        "\n",
        "      if iteration%200==0:\n",
        "        print(\"epoch: \",epoch+1,\"/\",total_epochs, \"  iteration= \",iteration+1,\"/\",num_iterations, \"  Loss: \",cost)\n",
        "      accuracy.append(calculate_accuracy(y.T,a5))\n",
        "      costs.append(cost)\n",
        "\n",
        "  return accuracy,costs,parameters\n",
        "\n"
      ],
      "metadata": {
        "id": "TOTB3f_JUUet"
      },
      "execution_count": 23,
      "outputs": []
    },
    {
      "cell_type": "code",
      "source": [
        "layer_dimensions=[784,500,250,100,10]\n",
        "Train_accuracy,Train_costs,Trained_parameters=model(Train_Dataset,layer_dimensions,15,64,0.01)"
      ],
      "metadata": {
        "colab": {
          "base_uri": "https://localhost:8080/"
        },
        "id": "zMHQ9jr-q51w",
        "outputId": "9f03be3f-b488-471d-8e6d-d93efb078358"
      },
      "execution_count": 24,
      "outputs": [
        {
          "output_type": "stream",
          "name": "stdout",
          "text": [
            "epoch:  1 / 15   iteration=  1 / 937   Loss:  3.528933913473381\n",
            "epoch:  1 / 15   iteration=  201 / 937   Loss:  3.2295368549473595\n",
            "epoch:  1 / 15   iteration=  401 / 937   Loss:  3.242631231086987\n",
            "epoch:  1 / 15   iteration=  601 / 937   Loss:  3.2512596589972222\n",
            "epoch:  1 / 15   iteration=  801 / 937   Loss:  3.2301902686212207\n",
            "epoch:  2 / 15   iteration=  1 / 937   Loss:  3.2447326250897324\n",
            "epoch:  2 / 15   iteration=  201 / 937   Loss:  3.2324886265456714\n",
            "epoch:  2 / 15   iteration=  401 / 937   Loss:  3.2333129665809\n",
            "epoch:  2 / 15   iteration=  601 / 937   Loss:  3.240644758292385\n",
            "epoch:  2 / 15   iteration=  801 / 937   Loss:  3.2188152128410774\n",
            "epoch:  3 / 15   iteration=  1 / 937   Loss:  3.202937459221192\n",
            "epoch:  3 / 15   iteration=  201 / 937   Loss:  3.2384451696367775\n",
            "epoch:  3 / 15   iteration=  401 / 937   Loss:  3.2243901901273264\n",
            "epoch:  3 / 15   iteration=  601 / 937   Loss:  3.21005947468937\n",
            "epoch:  3 / 15   iteration=  801 / 937   Loss:  3.196689693254491\n",
            "epoch:  4 / 15   iteration=  1 / 937   Loss:  3.203091746347312\n",
            "epoch:  4 / 15   iteration=  201 / 937   Loss:  3.2120254483484327\n",
            "epoch:  4 / 15   iteration=  401 / 937   Loss:  3.1849661365464756\n",
            "epoch:  4 / 15   iteration=  601 / 937   Loss:  3.194624929340704\n",
            "epoch:  4 / 15   iteration=  801 / 937   Loss:  3.179794590903228\n",
            "epoch:  5 / 15   iteration=  1 / 937   Loss:  3.154745830565319\n",
            "epoch:  5 / 15   iteration=  201 / 937   Loss:  3.112783349933035\n",
            "epoch:  5 / 15   iteration=  401 / 937   Loss:  3.1595545330993455\n",
            "epoch:  5 / 15   iteration=  601 / 937   Loss:  3.152586387242789\n",
            "epoch:  5 / 15   iteration=  801 / 937   Loss:  3.1192595486985772\n",
            "epoch:  6 / 15   iteration=  1 / 937   Loss:  3.1017414402166676\n",
            "epoch:  6 / 15   iteration=  201 / 937   Loss:  3.1110908336395413\n",
            "epoch:  6 / 15   iteration=  401 / 937   Loss:  3.059002938657069\n",
            "epoch:  6 / 15   iteration=  601 / 937   Loss:  3.0556463153629165\n",
            "epoch:  6 / 15   iteration=  801 / 937   Loss:  2.996314992931155\n",
            "epoch:  7 / 15   iteration=  1 / 937   Loss:  2.9535544743377105\n",
            "epoch:  7 / 15   iteration=  201 / 937   Loss:  2.893522977960649\n",
            "epoch:  7 / 15   iteration=  401 / 937   Loss:  2.889575061301709\n",
            "epoch:  7 / 15   iteration=  601 / 937   Loss:  2.7733852872204485\n",
            "epoch:  7 / 15   iteration=  801 / 937   Loss:  2.7178981347073625\n",
            "epoch:  8 / 15   iteration=  1 / 937   Loss:  2.6631192335457547\n",
            "epoch:  8 / 15   iteration=  201 / 937   Loss:  2.5806944120456015\n",
            "epoch:  8 / 15   iteration=  401 / 937   Loss:  2.5204179631551566\n",
            "epoch:  8 / 15   iteration=  601 / 937   Loss:  2.4621674905573956\n",
            "epoch:  8 / 15   iteration=  801 / 937   Loss:  2.4706587507795685\n",
            "epoch:  9 / 15   iteration=  1 / 937   Loss:  2.1807854558629143\n",
            "epoch:  9 / 15   iteration=  201 / 937   Loss:  2.3088419527638417\n",
            "epoch:  9 / 15   iteration=  401 / 937   Loss:  2.2206123741188692\n",
            "epoch:  9 / 15   iteration=  601 / 937   Loss:  2.0933125807780755\n",
            "epoch:  9 / 15   iteration=  801 / 937   Loss:  2.0711535664981566\n",
            "epoch:  10 / 15   iteration=  1 / 937   Loss:  2.1878524693648878\n",
            "epoch:  10 / 15   iteration=  201 / 937   Loss:  1.9416069624938286\n",
            "epoch:  10 / 15   iteration=  401 / 937   Loss:  1.96478963780603\n",
            "epoch:  10 / 15   iteration=  601 / 937   Loss:  1.8452532111874778\n",
            "epoch:  10 / 15   iteration=  801 / 937   Loss:  1.8312166271346975\n",
            "epoch:  11 / 15   iteration=  1 / 937   Loss:  1.658432782796748\n",
            "epoch:  11 / 15   iteration=  201 / 937   Loss:  1.7922312269088874\n",
            "epoch:  11 / 15   iteration=  401 / 937   Loss:  1.5365322614449102\n",
            "epoch:  11 / 15   iteration=  601 / 937   Loss:  1.5530971284019228\n",
            "epoch:  11 / 15   iteration=  801 / 937   Loss:  1.45867301401834\n",
            "epoch:  12 / 15   iteration=  1 / 937   Loss:  1.6461964709829917\n",
            "epoch:  12 / 15   iteration=  201 / 937   Loss:  1.7546243695318067\n",
            "epoch:  12 / 15   iteration=  401 / 937   Loss:  1.508935180153573\n",
            "epoch:  12 / 15   iteration=  601 / 937   Loss:  1.5657814183237377\n",
            "epoch:  12 / 15   iteration=  801 / 937   Loss:  1.2779010605014365\n",
            "epoch:  13 / 15   iteration=  1 / 937   Loss:  1.3677715753119157\n",
            "epoch:  13 / 15   iteration=  201 / 937   Loss:  1.3593053619671391\n",
            "epoch:  13 / 15   iteration=  401 / 937   Loss:  1.5256851323295058\n",
            "epoch:  13 / 15   iteration=  601 / 937   Loss:  1.1525399712001616\n",
            "epoch:  13 / 15   iteration=  801 / 937   Loss:  1.2509171601790114\n",
            "epoch:  14 / 15   iteration=  1 / 937   Loss:  1.307047368715477\n",
            "epoch:  14 / 15   iteration=  201 / 937   Loss:  1.2819540625030836\n",
            "epoch:  14 / 15   iteration=  401 / 937   Loss:  1.0567583539852194\n",
            "epoch:  14 / 15   iteration=  601 / 937   Loss:  1.2239266930802515\n",
            "epoch:  14 / 15   iteration=  801 / 937   Loss:  1.1545694960790631\n",
            "epoch:  15 / 15   iteration=  1 / 937   Loss:  1.120516714218322\n",
            "epoch:  15 / 15   iteration=  201 / 937   Loss:  1.058407912053907\n",
            "epoch:  15 / 15   iteration=  401 / 937   Loss:  1.0835894625660238\n",
            "epoch:  15 / 15   iteration=  601 / 937   Loss:  1.2591326387087962\n",
            "epoch:  15 / 15   iteration=  801 / 937   Loss:  1.3880216242889456\n"
          ]
        }
      ]
    },
    {
      "cell_type": "code",
      "source": [
        "plt.plot(Train_costs)"
      ],
      "metadata": {
        "colab": {
          "base_uri": "https://localhost:8080/",
          "height": 283
        },
        "id": "WYhpRl_bzXfX",
        "outputId": "8ad26b88-2de4-4ec5-a260-e427dc6bd34c"
      },
      "execution_count": 25,
      "outputs": [
        {
          "output_type": "execute_result",
          "data": {
            "text/plain": [
              "[<matplotlib.lines.Line2D at 0x7fc45f7b8ed0>]"
            ]
          },
          "metadata": {},
          "execution_count": 25
        },
        {
          "output_type": "display_data",
          "data": {
            "text/plain": [
              "<Figure size 432x288 with 1 Axes>"
            ],
            "image/png": "[encoded data removed]"
          },
          "metadata": {
            "needs_background": "light"
          }
        }
      ]
    },
    {
      "cell_type": "code",
      "source": [
        "plt.plot(Train_accuracy)"
      ],
      "metadata": {
        "colab": {
          "base_uri": "https://localhost:8080/",
          "height": 287
        },
        "id": "LALd3SKjzuaJ",
        "outputId": "ecd007ec-e5d0-4347-caff-de641ff7e6cc"
      },
      "execution_count": 26,
      "outputs": [
        {
          "output_type": "execute_result",
          "data": {
            "text/plain": [
              "[<matplotlib.lines.Line2D at 0x7fc45f6ddc50>]"
            ]
          },
          "metadata": {},
          "execution_count": 26
        },
        {
          "output_type": "display_data",
          "data": {
            "text/plain": [
              "<Figure size 432x288 with 1 Axes>"
            ],
            "image/png": "[encoded data removed]"
          },
          "metadata": {
            "needs_background": "light"
          }
        }
      ]
    },
    {
      "cell_type": "code",
      "source": [
        "Train_accuracy[-1]"
      ],
      "metadata": {
        "colab": {
          "base_uri": "https://localhost:8080/"
        },
        "id": "XhKJy_Lj_zo-",
        "outputId": "2b20b93e-efdc-44f3-93b5-39a12f875487"
      },
      "execution_count": 27,
      "outputs": [
        {
          "output_type": "execute_result",
          "data": {
            "text/plain": [
              "0.875"
            ]
          },
          "metadata": {},
          "execution_count": 27
        }
      ]
    },
    {
      "cell_type": "code",
      "source": [
        "Test_Data_Loader=torch.utils.data.DataLoader(dataset=Test_Dataset,batch_size=len(Test_Dataset),shuffle=True)\n",
        "data_iter=iter(Test_Data_Loader)\n",
        "Test_Data=next(data_iter)\n",
        "X,y=Test_Data #X.shape=(batch_size,784) y.shape=(batch_size,10)\n",
        "X=X.numpy()\n",
        "y=y.numpy()\n",
        "y_predicted,cache_out=forward_propagation(X.T,Trained_parameters)\n",
        "cost=compute_cost(y_predicted,y.T)\n",
        "Test_accuracy=calculate_accuracy(y.T,y_predicted)"
      ],
      "metadata": {
        "id": "wDKtgZWOz2Ee"
      },
      "execution_count": 28,
      "outputs": []
    },
    {
      "cell_type": "code",
      "source": [
        "Test_accuracy"
      ],
      "metadata": {
        "colab": {
          "base_uri": "https://localhost:8080/"
        },
        "id": "lEJoAhB51pB0",
        "outputId": "174dd1cc-4452-4642-c6c9-aaf1fb055957"
      },
      "execution_count": 29,
      "outputs": [
        {
          "output_type": "execute_result",
          "data": {
            "text/plain": [
              "0.8223"
            ]
          },
          "metadata": {},
          "execution_count": 29
        }
      ]
    },
    {
      "cell_type": "code",
      "source": [
        "Y_Predicted=np.array(np.argmax(y_predicted,axis=0))"
      ],
      "metadata": {
        "id": "u3Q0wUp315e8"
      },
      "execution_count": 30,
      "outputs": []
    },
    {
      "cell_type": "code",
      "source": [
        "Y_Actual=np.array(np.argmax(y.T,axis=0)  )"
      ],
      "metadata": {
        "id": "tzKEHt6c4PTD"
      },
      "execution_count": 31,
      "outputs": []
    },
    {
      "cell_type": "markdown",
      "source": [
        "##**CONFUSION MATRIX AND CLASSIFICATION REPORT**"
      ],
      "metadata": {
        "id": "ThLMN-JHhGP9"
      }
    },
    {
      "cell_type": "code",
      "source": [
        "from sklearn.metrics import confusion_matrix\n",
        "import seaborn as sns\n",
        "plt.figure(figsize=(10,10))\n",
        "conf_matrix = (confusion_matrix(Y_Actual, Y_Predicted, labels=np.unique(Y_Actual)))\n",
        "\n",
        "# Using Seaborn heatmap to create the plot\n",
        "fx = sns.heatmap(conf_matrix, annot=True, cmap='Blues',fmt='d')\n",
        "\n",
        "# labels the title and x, y axis of plot\n",
        "fx.set_title('Plotting Confusion Matrix using Seaborn\\n\\n');\n",
        "fx.set_xlabel('Predicted Values')\n",
        "fx.set_ylabel('Actual Values ');\n",
        "\n",
        "\n",
        "plt.show()"
      ],
      "metadata": {
        "colab": {
          "base_uri": "https://localhost:8080/",
          "height": 651
        },
        "id": "sPaOghW54nW_",
        "outputId": "e5e3d8f7-42c3-43c0-dd2b-697ebaee5f63"
      },
      "execution_count": 32,
      "outputs": [
        {
          "output_type": "display_data",
          "data": {
            "text/plain": [
              "<Figure size 720x720 with 2 Axes>"
            ],
            "image/png": "[encoded data removed]"
          },
          "metadata": {
            "needs_background": "light"
          }
        }
      ]
    },
    {
      "cell_type": "code",
      "source": [
        "from sklearn.metrics import classification_report\n",
        "print(classification_report(Y_Actual, Y_Predicted))"
      ],
      "metadata": {
        "colab": {
          "base_uri": "https://localhost:8080/"
        },
        "id": "K-cwGLUmAwZU",
        "outputId": "959e0274-d318-4d6c-87ca-89d5de90439d"
      },
      "execution_count": 33,
      "outputs": [
        {
          "output_type": "stream",
          "name": "stdout",
          "text": [
            "              precision    recall  f1-score   support\n",
            "\n",
            "           0       0.91      0.95      0.93       980\n",
            "           1       0.89      0.98      0.93      1135\n",
            "           2       0.86      0.81      0.83      1032\n",
            "           3       0.76      0.85      0.80      1010\n",
            "           4       0.74      0.79      0.77       982\n",
            "           5       0.75      0.62      0.68       892\n",
            "           6       0.85      0.89      0.87       958\n",
            "           7       0.86      0.89      0.87      1028\n",
            "           8       0.81      0.71      0.76       974\n",
            "           9       0.75      0.68      0.72      1009\n",
            "\n",
            "    accuracy                           0.82     10000\n",
            "   macro avg       0.82      0.82      0.82     10000\n",
            "weighted avg       0.82      0.82      0.82     10000\n",
            "\n"
          ]
        }
      ]
    },
    {
      "cell_type": "code",
      "source": [
        "unique_p, counts_p = np.unique(Y_Predicted, return_counts=True)"
      ],
      "metadata": {
        "id": "c1Zv45QGCpa9"
      },
      "execution_count": 34,
      "outputs": []
    },
    {
      "cell_type": "code",
      "source": [
        "unique_p"
      ],
      "metadata": {
        "colab": {
          "base_uri": "https://localhost:8080/"
        },
        "id": "JCyiZum-Cv3P",
        "outputId": "b05796c6-4c47-42b0-fdd1-9caf829fbb04"
      },
      "execution_count": 35,
      "outputs": [
        {
          "output_type": "execute_result",
          "data": {
            "text/plain": [
              "array([0, 1, 2, 3, 4, 5, 6, 7, 8, 9])"
            ]
          },
          "metadata": {},
          "execution_count": 35
        }
      ]
    },
    {
      "cell_type": "code",
      "source": [
        "counts_p"
      ],
      "metadata": {
        "colab": {
          "base_uri": "https://localhost:8080/"
        },
        "id": "JZYywpxLCy01",
        "outputId": "91e66722-9548-4447-a580-26220e2eecaf"
      },
      "execution_count": 36,
      "outputs": [
        {
          "output_type": "execute_result",
          "data": {
            "text/plain": [
              "array([1031, 1244,  979, 1122, 1052,  738, 1014, 1055,  852,  913])"
            ]
          },
          "metadata": {},
          "execution_count": 36
        }
      ]
    },
    {
      "cell_type": "markdown",
      "source": [
        "##**REPORTING ACCURACY OF MODEL**\n",
        "\n",
        "TRAIN ACCURACY: 87.5%\n",
        "\n",
        "TEST ACCURACY: 82.23%"
      ],
      "metadata": {
        "id": "2Lw9TC3tbfkx"
      }
    }
  ]
}