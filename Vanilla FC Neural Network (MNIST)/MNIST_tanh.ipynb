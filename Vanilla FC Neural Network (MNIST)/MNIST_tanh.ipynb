{
  "nbformat": 4,
  "nbformat_minor": 0,
  "metadata": {
    "colab": {
      "name": "MNIST_tanh.ipynb",
      "provenance": []
    },
    "kernelspec": {
      "name": "python3",
      "display_name": "Python 3"
    },
    "language_info": {
      "name": "python"
    },
    "accelerator": "GPU",
    "gpuClass": "standard",
    "widgets": {
      "application/vnd.jupyter.widget-state+json": {
        "ccce4274152f43c8afc3132831c1120f": {
          "model_module": "@jupyter-widgets/controls",
          "model_name": "HBoxModel",
          "model_module_version": "1.5.0",
          "state": {
            "_dom_classes": [],
            "_model_module": "@jupyter-widgets/controls",
            "_model_module_version": "1.5.0",
            "_model_name": "HBoxModel",
            "_view_count": null,
            "_view_module": "@jupyter-widgets/controls",
            "_view_module_version": "1.5.0",
            "_view_name": "HBoxView",
            "box_style": "",
            "children": [
              "IPY_MODEL_511e3d05477d45739e3f8c784505670d",
              "IPY_MODEL_cf05f09d111d4d13b1f8a3d9dd6c0021",
              "IPY_MODEL_93f698b397c348de9031441826e56466"
            ],
            "layout": "IPY_MODEL_816adddc175f48bbaf77f5591387c48f"
          }
        },
        "511e3d05477d45739e3f8c784505670d": {
          "model_module": "@jupyter-widgets/controls",
          "model_name": "HTMLModel",
          "model_module_version": "1.5.0",
          "state": {
            "_dom_classes": [],
            "_model_module": "@jupyter-widgets/controls",
            "_model_module_version": "1.5.0",
            "_model_name": "HTMLModel",
            "_view_count": null,
            "_view_module": "@jupyter-widgets/controls",
            "_view_module_version": "1.5.0",
            "_view_name": "HTMLView",
            "description": "",
            "description_tooltip": null,
            "layout": "IPY_MODEL_0c528c3acdd04ee0b589fb7e251adc45",
            "placeholder": "​",
            "style": "IPY_MODEL_ee40850916e84a72979bfe378858e3f5",
            "value": "100%"
          }
        },
        "cf05f09d111d4d13b1f8a3d9dd6c0021": {
          "model_module": "@jupyter-widgets/controls",
          "model_name": "FloatProgressModel",
          "model_module_version": "1.5.0",
          "state": {
            "_dom_classes": [],
            "_model_module": "@jupyter-widgets/controls",
            "_model_module_version": "1.5.0",
            "_model_name": "FloatProgressModel",
            "_view_count": null,
            "_view_module": "@jupyter-widgets/controls",
            "_view_module_version": "1.5.0",
            "_view_name": "ProgressView",
            "bar_style": "success",
            "description": "",
            "description_tooltip": null,
            "layout": "IPY_MODEL_de1e7c1d4c394e36bd7d136184d94355",
            "max": 9912422,
            "min": 0,
            "orientation": "horizontal",
            "style": "IPY_MODEL_f070b34425054ca38588d23c1e4e7ef2",
            "value": 9912422
          }
        },
        "93f698b397c348de9031441826e56466": {
          "model_module": "@jupyter-widgets/controls",
          "model_name": "HTMLModel",
          "model_module_version": "1.5.0",
          "state": {
            "_dom_classes": [],
            "_model_module": "@jupyter-widgets/controls",
            "_model_module_version": "1.5.0",
            "_model_name": "HTMLModel",
            "_view_count": null,
            "_view_module": "@jupyter-widgets/controls",
            "_view_module_version": "1.5.0",
            "_view_name": "HTMLView",
            "description": "",
            "description_tooltip": null,
            "layout": "IPY_MODEL_86fdf10e4dec4866b020278c8cc11051",
            "placeholder": "​",
            "style": "IPY_MODEL_d7c4769943954aedb1d37f91c00f4630",
            "value": " 9912422/9912422 [00:00&lt;00:00, 7498353.61it/s]"
          }
        },
        "816adddc175f48bbaf77f5591387c48f": {
          "model_module": "@jupyter-widgets/base",
          "model_name": "LayoutModel",
          "model_module_version": "1.2.0",
          "state": {
            "_model_module": "@jupyter-widgets/base",
            "_model_module_version": "1.2.0",
            "_model_name": "LayoutModel",
            "_view_count": null,
            "_view_module": "@jupyter-widgets/base",
            "_view_module_version": "1.2.0",
            "_view_name": "LayoutView",
            "align_content": null,
            "align_items": null,
            "align_self": null,
            "border": null,
            "bottom": null,
            "display": null,
            "flex": null,
            "flex_flow": null,
            "grid_area": null,
            "grid_auto_columns": null,
            "grid_auto_flow": null,
            "grid_auto_rows": null,
            "grid_column": null,
            "grid_gap": null,
            "grid_row": null,
            "grid_template_areas": null,
            "grid_template_columns": null,
            "grid_template_rows": null,
            "height": null,
            "justify_content": null,
            "justify_items": null,
            "left": null,
            "margin": null,
            "max_height": null,
            "max_width": null,
            "min_height": null,
            "min_width": null,
            "object_fit": null,
            "object_position": null,
            "order": null,
            "overflow": null,
            "overflow_x": null,
            "overflow_y": null,
            "padding": null,
            "right": null,
            "top": null,
            "visibility": null,
            "width": null
          }
        },
        "0c528c3acdd04ee0b589fb7e251adc45": {
          "model_module": "@jupyter-widgets/base",
          "model_name": "LayoutModel",
          "model_module_version": "1.2.0",
          "state": {
            "_model_module": "@jupyter-widgets/base",
            "_model_module_version": "1.2.0",
            "_model_name": "LayoutModel",
            "_view_count": null,
            "_view_module": "@jupyter-widgets/base",
            "_view_module_version": "1.2.0",
            "_view_name": "LayoutView",
            "align_content": null,
            "align_items": null,
            "align_self": null,
            "border": null,
            "bottom": null,
            "display": null,
            "flex": null,
            "flex_flow": null,
            "grid_area": null,
            "grid_auto_columns": null,
            "grid_auto_flow": null,
            "grid_auto_rows": null,
            "grid_column": null,
            "grid_gap": null,
            "grid_row": null,
            "grid_template_areas": null,
            "grid_template_columns": null,
            "grid_template_rows": null,
            "height": null,
            "justify_content": null,
            "justify_items": null,
            "left": null,
            "margin": null,
            "max_height": null,
            "max_width": null,
            "min_height": null,
            "min_width": null,
            "object_fit": null,
            "object_position": null,
            "order": null,
            "overflow": null,
            "overflow_x": null,
            "overflow_y": null,
            "padding": null,
            "right": null,
            "top": null,
            "visibility": null,
            "width": null
          }
        },
        "ee40850916e84a72979bfe378858e3f5": {
          "model_module": "@jupyter-widgets/controls",
          "model_name": "DescriptionStyleModel",
          "model_module_version": "1.5.0",
          "state": {
            "_model_module": "@jupyter-widgets/controls",
            "_model_module_version": "1.5.0",
            "_model_name": "DescriptionStyleModel",
            "_view_count": null,
            "_view_module": "@jupyter-widgets/base",
            "_view_module_version": "1.2.0",
            "_view_name": "StyleView",
            "description_width": ""
          }
        },
        "de1e7c1d4c394e36bd7d136184d94355": {
          "model_module": "@jupyter-widgets/base",
          "model_name": "LayoutModel",
          "model_module_version": "1.2.0",
          "state": {
            "_model_module": "@jupyter-widgets/base",
            "_model_module_version": "1.2.0",
            "_model_name": "LayoutModel",
            "_view_count": null,
            "_view_module": "@jupyter-widgets/base",
            "_view_module_version": "1.2.0",
            "_view_name": "LayoutView",
            "align_content": null,
            "align_items": null,
            "align_self": null,
            "border": null,
            "bottom": null,
            "display": null,
            "flex": null,
            "flex_flow": null,
            "grid_area": null,
            "grid_auto_columns": null,
            "grid_auto_flow": null,
            "grid_auto_rows": null,
            "grid_column": null,
            "grid_gap": null,
            "grid_row": null,
            "grid_template_areas": null,
            "grid_template_columns": null,
            "grid_template_rows": null,
            "height": null,
            "justify_content": null,
            "justify_items": null,
            "left": null,
            "margin": null,
            "max_height": null,
            "max_width": null,
            "min_height": null,
            "min_width": null,
            "object_fit": null,
            "object_position": null,
            "order": null,
            "overflow": null,
            "overflow_x": null,
            "overflow_y": null,
            "padding": null,
            "right": null,
            "top": null,
            "visibility": null,
            "width": null
          }
        },
        "f070b34425054ca38588d23c1e4e7ef2": {
          "model_module": "@jupyter-widgets/controls",
          "model_name": "ProgressStyleModel",
          "model_module_version": "1.5.0",
          "state": {
            "_model_module": "@jupyter-widgets/controls",
            "_model_module_version": "1.5.0",
            "_model_name": "ProgressStyleModel",
            "_view_count": null,
            "_view_module": "@jupyter-widgets/base",
            "_view_module_version": "1.2.0",
            "_view_name": "StyleView",
            "bar_color": null,
            "description_width": ""
          }
        },
        "86fdf10e4dec4866b020278c8cc11051": {
          "model_module": "@jupyter-widgets/base",
          "model_name": "LayoutModel",
          "model_module_version": "1.2.0",
          "state": {
            "_model_module": "@jupyter-widgets/base",
            "_model_module_version": "1.2.0",
            "_model_name": "LayoutModel",
            "_view_count": null,
            "_view_module": "@jupyter-widgets/base",
            "_view_module_version": "1.2.0",
            "_view_name": "LayoutView",
            "align_content": null,
            "align_items": null,
            "align_self": null,
            "border": null,
            "bottom": null,
            "display": null,
            "flex": null,
            "flex_flow": null,
            "grid_area": null,
            "grid_auto_columns": null,
            "grid_auto_flow": null,
            "grid_auto_rows": null,
            "grid_column": null,
            "grid_gap": null,
            "grid_row": null,
            "grid_template_areas": null,
            "grid_template_columns": null,
            "grid_template_rows": null,
            "height": null,
            "justify_content": null,
            "justify_items": null,
            "left": null,
            "margin": null,
            "max_height": null,
            "max_width": null,
            "min_height": null,
            "min_width": null,
            "object_fit": null,
            "object_position": null,
            "order": null,
            "overflow": null,
            "overflow_x": null,
            "overflow_y": null,
            "padding": null,
            "right": null,
            "top": null,
            "visibility": null,
            "width": null
          }
        },
        "d7c4769943954aedb1d37f91c00f4630": {
          "model_module": "@jupyter-widgets/controls",
          "model_name": "DescriptionStyleModel",
          "model_module_version": "1.5.0",
          "state": {
            "_model_module": "@jupyter-widgets/controls",
            "_model_module_version": "1.5.0",
            "_model_name": "DescriptionStyleModel",
            "_view_count": null,
            "_view_module": "@jupyter-widgets/base",
            "_view_module_version": "1.2.0",
            "_view_name": "StyleView",
            "description_width": ""
          }
        },
        "9be771c1c876427bbbfebe30f19c7417": {
          "model_module": "@jupyter-widgets/controls",
          "model_name": "HBoxModel",
          "model_module_version": "1.5.0",
          "state": {
            "_dom_classes": [],
            "_model_module": "@jupyter-widgets/controls",
            "_model_module_version": "1.5.0",
            "_model_name": "HBoxModel",
            "_view_count": null,
            "_view_module": "@jupyter-widgets/controls",
            "_view_module_version": "1.5.0",
            "_view_name": "HBoxView",
            "box_style": "",
            "children": [
              "IPY_MODEL_e33b57e41247422e99836b1f9848397d",
              "IPY_MODEL_d3d075cba190406cb5741d8f956de016",
              "IPY_MODEL_85368f9cae544cc0994f07e150336e50"
            ],
            "layout": "IPY_MODEL_e1e87bd9a4ac4a018faf586971464814"
          }
        },
        "e33b57e41247422e99836b1f9848397d": {
          "model_module": "@jupyter-widgets/controls",
          "model_name": "HTMLModel",
          "model_module_version": "1.5.0",
          "state": {
            "_dom_classes": [],
            "_model_module": "@jupyter-widgets/controls",
            "_model_module_version": "1.5.0",
            "_model_name": "HTMLModel",
            "_view_count": null,
            "_view_module": "@jupyter-widgets/controls",
            "_view_module_version": "1.5.0",
            "_view_name": "HTMLView",
            "description": "",
            "description_tooltip": null,
            "layout": "IPY_MODEL_d8a902b723ea43f4bf9f99b40aa4789c",
            "placeholder": "​",
            "style": "IPY_MODEL_f9e544a771ea424bb32b89b26c238dca",
            "value": "100%"
          }
        },
        "d3d075cba190406cb5741d8f956de016": {
          "model_module": "@jupyter-widgets/controls",
          "model_name": "FloatProgressModel",
          "model_module_version": "1.5.0",
          "state": {
            "_dom_classes": [],
            "_model_module": "@jupyter-widgets/controls",
            "_model_module_version": "1.5.0",
            "_model_name": "FloatProgressModel",
            "_view_count": null,
            "_view_module": "@jupyter-widgets/controls",
            "_view_module_version": "1.5.0",
            "_view_name": "ProgressView",
            "bar_style": "success",
            "description": "",
            "description_tooltip": null,
            "layout": "IPY_MODEL_0b97294dc4b2497bbb64e54983e669b8",
            "max": 28881,
            "min": 0,
            "orientation": "horizontal",
            "style": "IPY_MODEL_c3263882fae34d2eb97ebdfac3955571",
            "value": 28881
          }
        },
        "85368f9cae544cc0994f07e150336e50": {
          "model_module": "@jupyter-widgets/controls",
          "model_name": "HTMLModel",
          "model_module_version": "1.5.0",
          "state": {
            "_dom_classes": [],
            "_model_module": "@jupyter-widgets/controls",
            "_model_module_version": "1.5.0",
            "_model_name": "HTMLModel",
            "_view_count": null,
            "_view_module": "@jupyter-widgets/controls",
            "_view_module_version": "1.5.0",
            "_view_name": "HTMLView",
            "description": "",
            "description_tooltip": null,
            "layout": "IPY_MODEL_1e5cabc64f8840e490fa214cd6ae0b93",
            "placeholder": "​",
            "style": "IPY_MODEL_6b0bb25bc65041cab2a4d465b1ee7e83",
            "value": " 28881/28881 [00:00&lt;00:00, 767395.58it/s]"
          }
        },
        "e1e87bd9a4ac4a018faf586971464814": {
          "model_module": "@jupyter-widgets/base",
          "model_name": "LayoutModel",
          "model_module_version": "1.2.0",
          "state": {
            "_model_module": "@jupyter-widgets/base",
            "_model_module_version": "1.2.0",
            "_model_name": "LayoutModel",
            "_view_count": null,
            "_view_module": "@jupyter-widgets/base",
            "_view_module_version": "1.2.0",
            "_view_name": "LayoutView",
            "align_content": null,
            "align_items": null,
            "align_self": null,
            "border": null,
            "bottom": null,
            "display": null,
            "flex": null,
            "flex_flow": null,
            "grid_area": null,
            "grid_auto_columns": null,
            "grid_auto_flow": null,
            "grid_auto_rows": null,
            "grid_column": null,
            "grid_gap": null,
            "grid_row": null,
            "grid_template_areas": null,
            "grid_template_columns": null,
            "grid_template_rows": null,
            "height": null,
            "justify_content": null,
            "justify_items": null,
            "left": null,
            "margin": null,
            "max_height": null,
            "max_width": null,
            "min_height": null,
            "min_width": null,
            "object_fit": null,
            "object_position": null,
            "order": null,
            "overflow": null,
            "overflow_x": null,
            "overflow_y": null,
            "padding": null,
            "right": null,
            "top": null,
            "visibility": null,
            "width": null
          }
        },
        "d8a902b723ea43f4bf9f99b40aa4789c": {
          "model_module": "@jupyter-widgets/base",
          "model_name": "LayoutModel",
          "model_module_version": "1.2.0",
          "state": {
            "_model_module": "@jupyter-widgets/base",
            "_model_module_version": "1.2.0",
            "_model_name": "LayoutModel",
            "_view_count": null,
            "_view_module": "@jupyter-widgets/base",
            "_view_module_version": "1.2.0",
            "_view_name": "LayoutView",
            "align_content": null,
            "align_items": null,
            "align_self": null,
            "border": null,
            "bottom": null,
            "display": null,
            "flex": null,
            "flex_flow": null,
            "grid_area": null,
            "grid_auto_columns": null,
            "grid_auto_flow": null,
            "grid_auto_rows": null,
            "grid_column": null,
            "grid_gap": null,
            "grid_row": null,
            "grid_template_areas": null,
            "grid_template_columns": null,
            "grid_template_rows": null,
            "height": null,
            "justify_content": null,
            "justify_items": null,
            "left": null,
            "margin": null,
            "max_height": null,
            "max_width": null,
            "min_height": null,
            "min_width": null,
            "object_fit": null,
            "object_position": null,
            "order": null,
            "overflow": null,
            "overflow_x": null,
            "overflow_y": null,
            "padding": null,
            "right": null,
            "top": null,
            "visibility": null,
            "width": null
          }
        },
        "f9e544a771ea424bb32b89b26c238dca": {
          "model_module": "@jupyter-widgets/controls",
          "model_name": "DescriptionStyleModel",
          "model_module_version": "1.5.0",
          "state": {
            "_model_module": "@jupyter-widgets/controls",
            "_model_module_version": "1.5.0",
            "_model_name": "DescriptionStyleModel",
            "_view_count": null,
            "_view_module": "@jupyter-widgets/base",
            "_view_module_version": "1.2.0",
            "_view_name": "StyleView",
            "description_width": ""
          }
        },
        "0b97294dc4b2497bbb64e54983e669b8": {
          "model_module": "@jupyter-widgets/base",
          "model_name": "LayoutModel",
          "model_module_version": "1.2.0",
          "state": {
            "_model_module": "@jupyter-widgets/base",
            "_model_module_version": "1.2.0",
            "_model_name": "LayoutModel",
            "_view_count": null,
            "_view_module": "@jupyter-widgets/base",
            "_view_module_version": "1.2.0",
            "_view_name": "LayoutView",
            "align_content": null,
            "align_items": null,
            "align_self": null,
            "border": null,
            "bottom": null,
            "display": null,
            "flex": null,
            "flex_flow": null,
            "grid_area": null,
            "grid_auto_columns": null,
            "grid_auto_flow": null,
            "grid_auto_rows": null,
            "grid_column": null,
            "grid_gap": null,
            "grid_row": null,
            "grid_template_areas": null,
            "grid_template_columns": null,
            "grid_template_rows": null,
            "height": null,
            "justify_content": null,
            "justify_items": null,
            "left": null,
            "margin": null,
            "max_height": null,
            "max_width": null,
            "min_height": null,
            "min_width": null,
            "object_fit": null,
            "object_position": null,
            "order": null,
            "overflow": null,
            "overflow_x": null,
            "overflow_y": null,
            "padding": null,
            "right": null,
            "top": null,
            "visibility": null,
            "width": null
          }
        },
        "c3263882fae34d2eb97ebdfac3955571": {
          "model_module": "@jupyter-widgets/controls",
          "model_name": "ProgressStyleModel",
          "model_module_version": "1.5.0",
          "state": {
            "_model_module": "@jupyter-widgets/controls",
            "_model_module_version": "1.5.0",
            "_model_name": "ProgressStyleModel",
            "_view_count": null,
            "_view_module": "@jupyter-widgets/base",
            "_view_module_version": "1.2.0",
            "_view_name": "StyleView",
            "bar_color": null,
            "description_width": ""
          }
        },
        "1e5cabc64f8840e490fa214cd6ae0b93": {
          "model_module": "@jupyter-widgets/base",
          "model_name": "LayoutModel",
          "model_module_version": "1.2.0",
          "state": {
            "_model_module": "@jupyter-widgets/base",
            "_model_module_version": "1.2.0",
            "_model_name": "LayoutModel",
            "_view_count": null,
            "_view_module": "@jupyter-widgets/base",
            "_view_module_version": "1.2.0",
            "_view_name": "LayoutView",
            "align_content": null,
            "align_items": null,
            "align_self": null,
            "border": null,
            "bottom": null,
            "display": null,
            "flex": null,
            "flex_flow": null,
            "grid_area": null,
            "grid_auto_columns": null,
            "grid_auto_flow": null,
            "grid_auto_rows": null,
            "grid_column": null,
            "grid_gap": null,
            "grid_row": null,
            "grid_template_areas": null,
            "grid_template_columns": null,
            "grid_template_rows": null,
            "height": null,
            "justify_content": null,
            "justify_items": null,
            "left": null,
            "margin": null,
            "max_height": null,
            "max_width": null,
            "min_height": null,
            "min_width": null,
            "object_fit": null,
            "object_position": null,
            "order": null,
            "overflow": null,
            "overflow_x": null,
            "overflow_y": null,
            "padding": null,
            "right": null,
            "top": null,
            "visibility": null,
            "width": null
          }
        },
        "6b0bb25bc65041cab2a4d465b1ee7e83": {
          "model_module": "@jupyter-widgets/controls",
          "model_name": "DescriptionStyleModel",
          "model_module_version": "1.5.0",
          "state": {
            "_model_module": "@jupyter-widgets/controls",
            "_model_module_version": "1.5.0",
            "_model_name": "DescriptionStyleModel",
            "_view_count": null,
            "_view_module": "@jupyter-widgets/base",
            "_view_module_version": "1.2.0",
            "_view_name": "StyleView",
            "description_width": ""
          }
        },
        "ee2ec38f3b38436590005a15c739caba": {
          "model_module": "@jupyter-widgets/controls",
          "model_name": "HBoxModel",
          "model_module_version": "1.5.0",
          "state": {
            "_dom_classes": [],
            "_model_module": "@jupyter-widgets/controls",
            "_model_module_version": "1.5.0",
            "_model_name": "HBoxModel",
            "_view_count": null,
            "_view_module": "@jupyter-widgets/controls",
            "_view_module_version": "1.5.0",
            "_view_name": "HBoxView",
            "box_style": "",
            "children": [
              "IPY_MODEL_d7eac8152dd94605bd49a954e8255bb6",
              "IPY_MODEL_5841737223b34487af3cf5e4872670f7",
              "IPY_MODEL_a31e6e5580b24309b25d7f00c0c69e30"
            ],
            "layout": "IPY_MODEL_82fdc77aab794cf6af1120e783b34550"
          }
        },
        "d7eac8152dd94605bd49a954e8255bb6": {
          "model_module": "@jupyter-widgets/controls",
          "model_name": "HTMLModel",
          "model_module_version": "1.5.0",
          "state": {
            "_dom_classes": [],
            "_model_module": "@jupyter-widgets/controls",
            "_model_module_version": "1.5.0",
            "_model_name": "HTMLModel",
            "_view_count": null,
            "_view_module": "@jupyter-widgets/controls",
            "_view_module_version": "1.5.0",
            "_view_name": "HTMLView",
            "description": "",
            "description_tooltip": null,
            "layout": "IPY_MODEL_25cabc2b89ba4259a586742245c1a7f0",
            "placeholder": "​",
            "style": "IPY_MODEL_c7f103e8bc434363aae96780aa1d809a",
            "value": "100%"
          }
        },
        "5841737223b34487af3cf5e4872670f7": {
          "model_module": "@jupyter-widgets/controls",
          "model_name": "FloatProgressModel",
          "model_module_version": "1.5.0",
          "state": {
            "_dom_classes": [],
            "_model_module": "@jupyter-widgets/controls",
            "_model_module_version": "1.5.0",
            "_model_name": "FloatProgressModel",
            "_view_count": null,
            "_view_module": "@jupyter-widgets/controls",
            "_view_module_version": "1.5.0",
            "_view_name": "ProgressView",
            "bar_style": "success",
            "description": "",
            "description_tooltip": null,
            "layout": "IPY_MODEL_cf4de12e727c4202ab8680eeda2894c5",
            "max": 1648877,
            "min": 0,
            "orientation": "horizontal",
            "style": "IPY_MODEL_c3386583dc3b4d83a549aa5af1c50eb7",
            "value": 1648877
          }
        },
        "a31e6e5580b24309b25d7f00c0c69e30": {
          "model_module": "@jupyter-widgets/controls",
          "model_name": "HTMLModel",
          "model_module_version": "1.5.0",
          "state": {
            "_dom_classes": [],
            "_model_module": "@jupyter-widgets/controls",
            "_model_module_version": "1.5.0",
            "_model_name": "HTMLModel",
            "_view_count": null,
            "_view_module": "@jupyter-widgets/controls",
            "_view_module_version": "1.5.0",
            "_view_name": "HTMLView",
            "description": "",
            "description_tooltip": null,
            "layout": "IPY_MODEL_88957903a38e4658aaf7dc1792b70b5a",
            "placeholder": "​",
            "style": "IPY_MODEL_b7844439e64b4c29bd68ec20c2115f76",
            "value": " 1648877/1648877 [00:00&lt;00:00, 7950772.03it/s]"
          }
        },
        "82fdc77aab794cf6af1120e783b34550": {
          "model_module": "@jupyter-widgets/base",
          "model_name": "LayoutModel",
          "model_module_version": "1.2.0",
          "state": {
            "_model_module": "@jupyter-widgets/base",
            "_model_module_version": "1.2.0",
            "_model_name": "LayoutModel",
            "_view_count": null,
            "_view_module": "@jupyter-widgets/base",
            "_view_module_version": "1.2.0",
            "_view_name": "LayoutView",
            "align_content": null,
            "align_items": null,
            "align_self": null,
            "border": null,
            "bottom": null,
            "display": null,
            "flex": null,
            "flex_flow": null,
            "grid_area": null,
            "grid_auto_columns": null,
            "grid_auto_flow": null,
            "grid_auto_rows": null,
            "grid_column": null,
            "grid_gap": null,
            "grid_row": null,
            "grid_template_areas": null,
            "grid_template_columns": null,
            "grid_template_rows": null,
            "height": null,
            "justify_content": null,
            "justify_items": null,
            "left": null,
            "margin": null,
            "max_height": null,
            "max_width": null,
            "min_height": null,
            "min_width": null,
            "object_fit": null,
            "object_position": null,
            "order": null,
            "overflow": null,
            "overflow_x": null,
            "overflow_y": null,
            "padding": null,
            "right": null,
            "top": null,
            "visibility": null,
            "width": null
          }
        },
        "25cabc2b89ba4259a586742245c1a7f0": {
          "model_module": "@jupyter-widgets/base",
          "model_name": "LayoutModel",
          "model_module_version": "1.2.0",
          "state": {
            "_model_module": "@jupyter-widgets/base",
            "_model_module_version": "1.2.0",
            "_model_name": "LayoutModel",
            "_view_count": null,
            "_view_module": "@jupyter-widgets/base",
            "_view_module_version": "1.2.0",
            "_view_name": "LayoutView",
            "align_content": null,
            "align_items": null,
            "align_self": null,
            "border": null,
            "bottom": null,
            "display": null,
            "flex": null,
            "flex_flow": null,
            "grid_area": null,
            "grid_auto_columns": null,
            "grid_auto_flow": null,
            "grid_auto_rows": null,
            "grid_column": null,
            "grid_gap": null,
            "grid_row": null,
            "grid_template_areas": null,
            "grid_template_columns": null,
            "grid_template_rows": null,
            "height": null,
            "justify_content": null,
            "justify_items": null,
            "left": null,
            "margin": null,
            "max_height": null,
            "max_width": null,
            "min_height": null,
            "min_width": null,
            "object_fit": null,
            "object_position": null,
            "order": null,
            "overflow": null,
            "overflow_x": null,
            "overflow_y": null,
            "padding": null,
            "right": null,
            "top": null,
            "visibility": null,
            "width": null
          }
        },
        "c7f103e8bc434363aae96780aa1d809a": {
          "model_module": "@jupyter-widgets/controls",
          "model_name": "DescriptionStyleModel",
          "model_module_version": "1.5.0",
          "state": {
            "_model_module": "@jupyter-widgets/controls",
            "_model_module_version": "1.5.0",
            "_model_name": "DescriptionStyleModel",
            "_view_count": null,
            "_view_module": "@jupyter-widgets/base",
            "_view_module_version": "1.2.0",
            "_view_name": "StyleView",
            "description_width": ""
          }
        },
        "cf4de12e727c4202ab8680eeda2894c5": {
          "model_module": "@jupyter-widgets/base",
          "model_name": "LayoutModel",
          "model_module_version": "1.2.0",
          "state": {
            "_model_module": "@jupyter-widgets/base",
            "_model_module_version": "1.2.0",
            "_model_name": "LayoutModel",
            "_view_count": null,
            "_view_module": "@jupyter-widgets/base",
            "_view_module_version": "1.2.0",
            "_view_name": "LayoutView",
            "align_content": null,
            "align_items": null,
            "align_self": null,
            "border": null,
            "bottom": null,
            "display": null,
            "flex": null,
            "flex_flow": null,
            "grid_area": null,
            "grid_auto_columns": null,
            "grid_auto_flow": null,
            "grid_auto_rows": null,
            "grid_column": null,
            "grid_gap": null,
            "grid_row": null,
            "grid_template_areas": null,
            "grid_template_columns": null,
            "grid_template_rows": null,
            "height": null,
            "justify_content": null,
            "justify_items": null,
            "left": null,
            "margin": null,
            "max_height": null,
            "max_width": null,
            "min_height": null,
            "min_width": null,
            "object_fit": null,
            "object_position": null,
            "order": null,
            "overflow": null,
            "overflow_x": null,
            "overflow_y": null,
            "padding": null,
            "right": null,
            "top": null,
            "visibility": null,
            "width": null
          }
        },
        "c3386583dc3b4d83a549aa5af1c50eb7": {
          "model_module": "@jupyter-widgets/controls",
          "model_name": "ProgressStyleModel",
          "model_module_version": "1.5.0",
          "state": {
            "_model_module": "@jupyter-widgets/controls",
            "_model_module_version": "1.5.0",
            "_model_name": "ProgressStyleModel",
            "_view_count": null,
            "_view_module": "@jupyter-widgets/base",
            "_view_module_version": "1.2.0",
            "_view_name": "StyleView",
            "bar_color": null,
            "description_width": ""
          }
        },
        "88957903a38e4658aaf7dc1792b70b5a": {
          "model_module": "@jupyter-widgets/base",
          "model_name": "LayoutModel",
          "model_module_version": "1.2.0",
          "state": {
            "_model_module": "@jupyter-widgets/base",
            "_model_module_version": "1.2.0",
            "_model_name": "LayoutModel",
            "_view_count": null,
            "_view_module": "@jupyter-widgets/base",
            "_view_module_version": "1.2.0",
            "_view_name": "LayoutView",
            "align_content": null,
            "align_items": null,
            "align_self": null,
            "border": null,
            "bottom": null,
            "display": null,
            "flex": null,
            "flex_flow": null,
            "grid_area": null,
            "grid_auto_columns": null,
            "grid_auto_flow": null,
            "grid_auto_rows": null,
            "grid_column": null,
            "grid_gap": null,
            "grid_row": null,
            "grid_template_areas": null,
            "grid_template_columns": null,
            "grid_template_rows": null,
            "height": null,
            "justify_content": null,
            "justify_items": null,
            "left": null,
            "margin": null,
            "max_height": null,
            "max_width": null,
            "min_height": null,
            "min_width": null,
            "object_fit": null,
            "object_position": null,
            "order": null,
            "overflow": null,
            "overflow_x": null,
            "overflow_y": null,
            "padding": null,
            "right": null,
            "top": null,
            "visibility": null,
            "width": null
          }
        },
        "b7844439e64b4c29bd68ec20c2115f76": {
          "model_module": "@jupyter-widgets/controls",
          "model_name": "DescriptionStyleModel",
          "model_module_version": "1.5.0",
          "state": {
            "_model_module": "@jupyter-widgets/controls",
            "_model_module_version": "1.5.0",
            "_model_name": "DescriptionStyleModel",
            "_view_count": null,
            "_view_module": "@jupyter-widgets/base",
            "_view_module_version": "1.2.0",
            "_view_name": "StyleView",
            "description_width": ""
          }
        },
        "78f485676166407387f5a2f4a6e372b0": {
          "model_module": "@jupyter-widgets/controls",
          "model_name": "HBoxModel",
          "model_module_version": "1.5.0",
          "state": {
            "_dom_classes": [],
            "_model_module": "@jupyter-widgets/controls",
            "_model_module_version": "1.5.0",
            "_model_name": "HBoxModel",
            "_view_count": null,
            "_view_module": "@jupyter-widgets/controls",
            "_view_module_version": "1.5.0",
            "_view_name": "HBoxView",
            "box_style": "",
            "children": [
              "IPY_MODEL_d84c8d3722b14362878b91918d5ff0de",
              "IPY_MODEL_cbd399fddc9b451793fe29ee9ca02def",
              "IPY_MODEL_92616df86d9149afa79520b6ead162ce"
            ],
            "layout": "IPY_MODEL_60160de8b9324d00ba9a6b5ce2e7a283"
          }
        },
        "d84c8d3722b14362878b91918d5ff0de": {
          "model_module": "@jupyter-widgets/controls",
          "model_name": "HTMLModel",
          "model_module_version": "1.5.0",
          "state": {
            "_dom_classes": [],
            "_model_module": "@jupyter-widgets/controls",
            "_model_module_version": "1.5.0",
            "_model_name": "HTMLModel",
            "_view_count": null,
            "_view_module": "@jupyter-widgets/controls",
            "_view_module_version": "1.5.0",
            "_view_name": "HTMLView",
            "description": "",
            "description_tooltip": null,
            "layout": "IPY_MODEL_cffbd8db774f4eb58a8b2a30cf3d38ee",
            "placeholder": "​",
            "style": "IPY_MODEL_362d58e79c23453ba11209effc9b84c9",
            "value": "100%"
          }
        },
        "cbd399fddc9b451793fe29ee9ca02def": {
          "model_module": "@jupyter-widgets/controls",
          "model_name": "FloatProgressModel",
          "model_module_version": "1.5.0",
          "state": {
            "_dom_classes": [],
            "_model_module": "@jupyter-widgets/controls",
            "_model_module_version": "1.5.0",
            "_model_name": "FloatProgressModel",
            "_view_count": null,
            "_view_module": "@jupyter-widgets/controls",
            "_view_module_version": "1.5.0",
            "_view_name": "ProgressView",
            "bar_style": "success",
            "description": "",
            "description_tooltip": null,
            "layout": "IPY_MODEL_e7a8b9b350e34c3aa13038cb749dd37a",
            "max": 4542,
            "min": 0,
            "orientation": "horizontal",
            "style": "IPY_MODEL_715cf657940f43af9b59902d41bf412c",
            "value": 4542
          }
        },
        "92616df86d9149afa79520b6ead162ce": {
          "model_module": "@jupyter-widgets/controls",
          "model_name": "HTMLModel",
          "model_module_version": "1.5.0",
          "state": {
            "_dom_classes": [],
            "_model_module": "@jupyter-widgets/controls",
            "_model_module_version": "1.5.0",
            "_model_name": "HTMLModel",
            "_view_count": null,
            "_view_module": "@jupyter-widgets/controls",
            "_view_module_version": "1.5.0",
            "_view_name": "HTMLView",
            "description": "",
            "description_tooltip": null,
            "layout": "IPY_MODEL_f88ecd0d7a504321b0057927c01425ca",
            "placeholder": "​",
            "style": "IPY_MODEL_2a4f0b5926cd4d85813128a0a359eb90",
            "value": " 4542/4542 [00:00&lt;00:00, 114371.57it/s]"
          }
        },
        "60160de8b9324d00ba9a6b5ce2e7a283": {
          "model_module": "@jupyter-widgets/base",
          "model_name": "LayoutModel",
          "model_module_version": "1.2.0",
          "state": {
            "_model_module": "@jupyter-widgets/base",
            "_model_module_version": "1.2.0",
            "_model_name": "LayoutModel",
            "_view_count": null,
            "_view_module": "@jupyter-widgets/base",
            "_view_module_version": "1.2.0",
            "_view_name": "LayoutView",
            "align_content": null,
            "align_items": null,
            "align_self": null,
            "border": null,
            "bottom": null,
            "display": null,
            "flex": null,
            "flex_flow": null,
            "grid_area": null,
            "grid_auto_columns": null,
            "grid_auto_flow": null,
            "grid_auto_rows": null,
            "grid_column": null,
            "grid_gap": null,
            "grid_row": null,
            "grid_template_areas": null,
            "grid_template_columns": null,
            "grid_template_rows": null,
            "height": null,
            "justify_content": null,
            "justify_items": null,
            "left": null,
            "margin": null,
            "max_height": null,
            "max_width": null,
            "min_height": null,
            "min_width": null,
            "object_fit": null,
            "object_position": null,
            "order": null,
            "overflow": null,
            "overflow_x": null,
            "overflow_y": null,
            "padding": null,
            "right": null,
            "top": null,
            "visibility": null,
            "width": null
          }
        },
        "cffbd8db774f4eb58a8b2a30cf3d38ee": {
          "model_module": "@jupyter-widgets/base",
          "model_name": "LayoutModel",
          "model_module_version": "1.2.0",
          "state": {
            "_model_module": "@jupyter-widgets/base",
            "_model_module_version": "1.2.0",
            "_model_name": "LayoutModel",
            "_view_count": null,
            "_view_module": "@jupyter-widgets/base",
            "_view_module_version": "1.2.0",
            "_view_name": "LayoutView",
            "align_content": null,
            "align_items": null,
            "align_self": null,
            "border": null,
            "bottom": null,
            "display": null,
            "flex": null,
            "flex_flow": null,
            "grid_area": null,
            "grid_auto_columns": null,
            "grid_auto_flow": null,
            "grid_auto_rows": null,
            "grid_column": null,
            "grid_gap": null,
            "grid_row": null,
            "grid_template_areas": null,
            "grid_template_columns": null,
            "grid_template_rows": null,
            "height": null,
            "justify_content": null,
            "justify_items": null,
            "left": null,
            "margin": null,
            "max_height": null,
            "max_width": null,
            "min_height": null,
            "min_width": null,
            "object_fit": null,
            "object_position": null,
            "order": null,
            "overflow": null,
            "overflow_x": null,
            "overflow_y": null,
            "padding": null,
            "right": null,
            "top": null,
            "visibility": null,
            "width": null
          }
        },
        "362d58e79c23453ba11209effc9b84c9": {
          "model_module": "@jupyter-widgets/controls",
          "model_name": "DescriptionStyleModel",
          "model_module_version": "1.5.0",
          "state": {
            "_model_module": "@jupyter-widgets/controls",
            "_model_module_version": "1.5.0",
            "_model_name": "DescriptionStyleModel",
            "_view_count": null,
            "_view_module": "@jupyter-widgets/base",
            "_view_module_version": "1.2.0",
            "_view_name": "StyleView",
            "description_width": ""
          }
        },
        "e7a8b9b350e34c3aa13038cb749dd37a": {
          "model_module": "@jupyter-widgets/base",
          "model_name": "LayoutModel",
          "model_module_version": "1.2.0",
          "state": {
            "_model_module": "@jupyter-widgets/base",
            "_model_module_version": "1.2.0",
            "_model_name": "LayoutModel",
            "_view_count": null,
            "_view_module": "@jupyter-widgets/base",
            "_view_module_version": "1.2.0",
            "_view_name": "LayoutView",
            "align_content": null,
            "align_items": null,
            "align_self": null,
            "border": null,
            "bottom": null,
            "display": null,
            "flex": null,
            "flex_flow": null,
            "grid_area": null,
            "grid_auto_columns": null,
            "grid_auto_flow": null,
            "grid_auto_rows": null,
            "grid_column": null,
            "grid_gap": null,
            "grid_row": null,
            "grid_template_areas": null,
            "grid_template_columns": null,
            "grid_template_rows": null,
            "height": null,
            "justify_content": null,
            "justify_items": null,
            "left": null,
            "margin": null,
            "max_height": null,
            "max_width": null,
            "min_height": null,
            "min_width": null,
            "object_fit": null,
            "object_position": null,
            "order": null,
            "overflow": null,
            "overflow_x": null,
            "overflow_y": null,
            "padding": null,
            "right": null,
            "top": null,
            "visibility": null,
            "width": null
          }
        },
        "715cf657940f43af9b59902d41bf412c": {
          "model_module": "@jupyter-widgets/controls",
          "model_name": "ProgressStyleModel",
          "model_module_version": "1.5.0",
          "state": {
            "_model_module": "@jupyter-widgets/controls",
            "_model_module_version": "1.5.0",
            "_model_name": "ProgressStyleModel",
            "_view_count": null,
            "_view_module": "@jupyter-widgets/base",
            "_view_module_version": "1.2.0",
            "_view_name": "StyleView",
            "bar_color": null,
            "description_width": ""
          }
        },
        "f88ecd0d7a504321b0057927c01425ca": {
          "model_module": "@jupyter-widgets/base",
          "model_name": "LayoutModel",
          "model_module_version": "1.2.0",
          "state": {
            "_model_module": "@jupyter-widgets/base",
            "_model_module_version": "1.2.0",
            "_model_name": "LayoutModel",
            "_view_count": null,
            "_view_module": "@jupyter-widgets/base",
            "_view_module_version": "1.2.0",
            "_view_name": "LayoutView",
            "align_content": null,
            "align_items": null,
            "align_self": null,
            "border": null,
            "bottom": null,
            "display": null,
            "flex": null,
            "flex_flow": null,
            "grid_area": null,
            "grid_auto_columns": null,
            "grid_auto_flow": null,
            "grid_auto_rows": null,
            "grid_column": null,
            "grid_gap": null,
            "grid_row": null,
            "grid_template_areas": null,
            "grid_template_columns": null,
            "grid_template_rows": null,
            "height": null,
            "justify_content": null,
            "justify_items": null,
            "left": null,
            "margin": null,
            "max_height": null,
            "max_width": null,
            "min_height": null,
            "min_width": null,
            "object_fit": null,
            "object_position": null,
            "order": null,
            "overflow": null,
            "overflow_x": null,
            "overflow_y": null,
            "padding": null,
            "right": null,
            "top": null,
            "visibility": null,
            "width": null
          }
        },
        "2a4f0b5926cd4d85813128a0a359eb90": {
          "model_module": "@jupyter-widgets/controls",
          "model_name": "DescriptionStyleModel",
          "model_module_version": "1.5.0",
          "state": {
            "_model_module": "@jupyter-widgets/controls",
            "_model_module_version": "1.5.0",
            "_model_name": "DescriptionStyleModel",
            "_view_count": null,
            "_view_module": "@jupyter-widgets/base",
            "_view_module_version": "1.2.0",
            "_view_name": "StyleView",
            "description_width": ""
          }
        }
      }
    }
  },
  "cells": [
    {
      "cell_type": "markdown",
      "source": [
        "Importing Required Libraries"
      ],
      "metadata": {
        "id": "yPcMOTS1fp0C"
      }
    },
    {
      "cell_type": "code",
      "execution_count": 2,
      "metadata": {
        "id": "o_OoCBRenEM7"
      },
      "outputs": [],
      "source": [
        "import numpy as np\n",
        "import matplotlib.pyplot as plt\n",
        "import torch\n",
        "import torch.nn as nn \n",
        "import torchvision\n",
        "import torchvision.transforms as transforms\n",
        "from torch.utils.data.dataset import TensorDataset\n",
        "from torch.utils.data import DataLoader"
      ]
    },
    {
      "cell_type": "markdown",
      "source": [
        "##**DATASET LOADING AND PREPARATION**"
      ],
      "metadata": {
        "id": "6BZqlSa6fv_X"
      }
    },
    {
      "cell_type": "code",
      "source": [
        "train_dataset = torchvision.datasets.MNIST(root='./data', train=True, transform=transforms.ToTensor(),  download=True)\n",
        "test_dataset = torchvision.datasets.MNIST(root='./data', train=False, transform=transforms.ToTensor())"
      ],
      "metadata": {
        "id": "Hd0823pWnPPH",
        "colab": {
          "base_uri": "https://localhost:8080/",
          "height": 431,
          "referenced_widgets": [
            "ccce4274152f43c8afc3132831c1120f",
            "511e3d05477d45739e3f8c784505670d",
            "cf05f09d111d4d13b1f8a3d9dd6c0021",
            "93f698b397c348de9031441826e56466",
            "816adddc175f48bbaf77f5591387c48f",
            "0c528c3acdd04ee0b589fb7e251adc45",
            "ee40850916e84a72979bfe378858e3f5",
            "de1e7c1d4c394e36bd7d136184d94355",
            "f070b34425054ca38588d23c1e4e7ef2",
            "86fdf10e4dec4866b020278c8cc11051",
            "d7c4769943954aedb1d37f91c00f4630",
            "9be771c1c876427bbbfebe30f19c7417",
            "e33b57e41247422e99836b1f9848397d",
            "d3d075cba190406cb5741d8f956de016",
            "85368f9cae544cc0994f07e150336e50",
            "e1e87bd9a4ac4a018faf586971464814",
            "d8a902b723ea43f4bf9f99b40aa4789c",
            "f9e544a771ea424bb32b89b26c238dca",
            "0b97294dc4b2497bbb64e54983e669b8",
            "c3263882fae34d2eb97ebdfac3955571",
            "1e5cabc64f8840e490fa214cd6ae0b93",
            "6b0bb25bc65041cab2a4d465b1ee7e83",
            "ee2ec38f3b38436590005a15c739caba",
            "d7eac8152dd94605bd49a954e8255bb6",
            "5841737223b34487af3cf5e4872670f7",
            "a31e6e5580b24309b25d7f00c0c69e30",
            "82fdc77aab794cf6af1120e783b34550",
            "25cabc2b89ba4259a586742245c1a7f0",
            "c7f103e8bc434363aae96780aa1d809a",
            "cf4de12e727c4202ab8680eeda2894c5",
            "c3386583dc3b4d83a549aa5af1c50eb7",
            "88957903a38e4658aaf7dc1792b70b5a",
            "b7844439e64b4c29bd68ec20c2115f76",
            "78f485676166407387f5a2f4a6e372b0",
            "d84c8d3722b14362878b91918d5ff0de",
            "cbd399fddc9b451793fe29ee9ca02def",
            "92616df86d9149afa79520b6ead162ce",
            "60160de8b9324d00ba9a6b5ce2e7a283",
            "cffbd8db774f4eb58a8b2a30cf3d38ee",
            "362d58e79c23453ba11209effc9b84c9",
            "e7a8b9b350e34c3aa13038cb749dd37a",
            "715cf657940f43af9b59902d41bf412c",
            "f88ecd0d7a504321b0057927c01425ca",
            "2a4f0b5926cd4d85813128a0a359eb90"
          ]
        },
        "outputId": "33408657-81bb-4b6b-eba9-b31f7084fdad"
      },
      "execution_count": 3,
      "outputs": [
        {
          "output_type": "stream",
          "name": "stdout",
          "text": [
            "Downloading http://yann.lecun.com/exdb/mnist/train-images-idx3-ubyte.gz\n",
            "Downloading http://yann.lecun.com/exdb/mnist/train-images-idx3-ubyte.gz to ./data/MNIST/raw/train-images-idx3-ubyte.gz\n"
          ]
        },
        {
          "output_type": "display_data",
          "data": {
            "text/plain": [
              "  0%|          | 0/9912422 [00:00<?, ?it/s]"
            ],
            "application/vnd.jupyter.widget-view+json": {
              "version_major": 2,
              "version_minor": 0,
              "model_id": "ccce4274152f43c8afc3132831c1120f"
            }
          },
          "metadata": {}
        },
        {
          "output_type": "stream",
          "name": "stdout",
          "text": [
            "Extracting ./data/MNIST/raw/train-images-idx3-ubyte.gz to ./data/MNIST/raw\n",
            "\n",
            "Downloading http://yann.lecun.com/exdb/mnist/train-labels-idx1-ubyte.gz\n",
            "Downloading http://yann.lecun.com/exdb/mnist/train-labels-idx1-ubyte.gz to ./data/MNIST/raw/train-labels-idx1-ubyte.gz\n"
          ]
        },
        {
          "output_type": "display_data",
          "data": {
            "text/plain": [
              "  0%|          | 0/28881 [00:00<?, ?it/s]"
            ],
            "application/vnd.jupyter.widget-view+json": {
              "version_major": 2,
              "version_minor": 0,
              "model_id": "9be771c1c876427bbbfebe30f19c7417"
            }
          },
          "metadata": {}
        },
        {
          "output_type": "stream",
          "name": "stdout",
          "text": [
            "Extracting ./data/MNIST/raw/train-labels-idx1-ubyte.gz to ./data/MNIST/raw\n",
            "\n",
            "Downloading http://yann.lecun.com/exdb/mnist/t10k-images-idx3-ubyte.gz\n",
            "Downloading http://yann.lecun.com/exdb/mnist/t10k-images-idx3-ubyte.gz to ./data/MNIST/raw/t10k-images-idx3-ubyte.gz\n"
          ]
        },
        {
          "output_type": "display_data",
          "data": {
            "text/plain": [
              "  0%|          | 0/1648877 [00:00<?, ?it/s]"
            ],
            "application/vnd.jupyter.widget-view+json": {
              "version_major": 2,
              "version_minor": 0,
              "model_id": "ee2ec38f3b38436590005a15c739caba"
            }
          },
          "metadata": {}
        },
        {
          "output_type": "stream",
          "name": "stdout",
          "text": [
            "Extracting ./data/MNIST/raw/t10k-images-idx3-ubyte.gz to ./data/MNIST/raw\n",
            "\n",
            "Downloading http://yann.lecun.com/exdb/mnist/t10k-labels-idx1-ubyte.gz\n",
            "Downloading http://yann.lecun.com/exdb/mnist/t10k-labels-idx1-ubyte.gz to ./data/MNIST/raw/t10k-labels-idx1-ubyte.gz\n"
          ]
        },
        {
          "output_type": "display_data",
          "data": {
            "text/plain": [
              "  0%|          | 0/4542 [00:00<?, ?it/s]"
            ],
            "application/vnd.jupyter.widget-view+json": {
              "version_major": 2,
              "version_minor": 0,
              "model_id": "78f485676166407387f5a2f4a6e372b0"
            }
          },
          "metadata": {}
        },
        {
          "output_type": "stream",
          "name": "stdout",
          "text": [
            "Extracting ./data/MNIST/raw/t10k-labels-idx1-ubyte.gz to ./data/MNIST/raw\n",
            "\n"
          ]
        }
      ]
    },
    {
      "cell_type": "code",
      "source": [
        "loader_train = torch.utils.data.DataLoader(dataset=train_dataset,batch_size = len(train_dataset) ,shuffle=True) \n",
        "loader_test = torch.utils.data.DataLoader(dataset=test_dataset,batch_size = len(test_dataset) ,shuffle=True)"
      ],
      "metadata": {
        "id": "JAtpUkFJo5Kc"
      },
      "execution_count": 4,
      "outputs": []
    },
    {
      "cell_type": "code",
      "source": [
        "X_train,y_train=next(iter(loader_train))\n",
        "X_test,y_test=next(iter(loader_test))"
      ],
      "metadata": {
        "id": "M0nP3kRColz0"
      },
      "execution_count": 5,
      "outputs": []
    },
    {
      "cell_type": "code",
      "source": [
        "X_train=X_train.numpy()\n",
        "y_train=y_train.numpy()\n",
        "X_test=X_test.numpy()\n",
        "y_test=y_test.numpy()"
      ],
      "metadata": {
        "id": "pA10C5WdouBO"
      },
      "execution_count": 6,
      "outputs": []
    },
    {
      "cell_type": "code",
      "source": [
        "X_train_flattened=X_train.reshape(X_train.shape[0],X_train.shape[1]*X_train.shape[2]*X_train.shape[3])\n",
        "X_test_flattened=X_test.reshape(X_test.shape[0],X_test.shape[1]*X_test.shape[2]*X_test.shape[3])"
      ],
      "metadata": {
        "id": "MUYMWwUgpnFI"
      },
      "execution_count": 7,
      "outputs": []
    },
    {
      "cell_type": "markdown",
      "source": [
        "One-Hot Encoding"
      ],
      "metadata": {
        "id": "SmLINfqpf6nE"
      }
    },
    {
      "cell_type": "code",
      "source": [
        "train_labels_encoded = []\n",
        "for i in y_train:\n",
        "  A=np.array([0]*10)\n",
        "  A[i]=1\n",
        "  train_labels_encoded.append(A)\n",
        "y_train_encoded=np.array(train_labels_encoded)"
      ],
      "metadata": {
        "id": "uf3Wwnr0py_H"
      },
      "execution_count": 8,
      "outputs": []
    },
    {
      "cell_type": "code",
      "source": [
        "test_labels_encoded = []\n",
        "for i in y_test:\n",
        "  A=np.array([0]*10)\n",
        "  A[i]=1\n",
        "  test_labels_encoded.append(A)\n",
        "y_test_encoded=np.array(test_labels_encoded)"
      ],
      "metadata": {
        "id": "N4iUBJ0Zp29_"
      },
      "execution_count": 9,
      "outputs": []
    },
    {
      "cell_type": "code",
      "source": [
        "X_train_flattened_torch=torch.from_numpy(X_train_flattened)\n",
        "y_train_encoded_torch=torch.from_numpy(y_train_encoded)"
      ],
      "metadata": {
        "id": "ZtruZ-9Cp_52"
      },
      "execution_count": 10,
      "outputs": []
    },
    {
      "cell_type": "code",
      "source": [
        "X_test_flattened_torch=torch.from_numpy(X_test_flattened)\n",
        "y_test_encoded_torch=torch.from_numpy(y_test_encoded)"
      ],
      "metadata": {
        "id": "ka69yDPQ0WNB"
      },
      "execution_count": 11,
      "outputs": []
    },
    {
      "cell_type": "markdown",
      "source": [
        "Here we have prepared out train and test datasets with flatenned images and one hot encoded labels"
      ],
      "metadata": {
        "id": "1VIkiPQJipRg"
      }
    },
    {
      "cell_type": "code",
      "source": [
        "Train_Dataset=TensorDataset(X_train_flattened_torch,y_train_encoded_torch)"
      ],
      "metadata": {
        "id": "P1IypBsJrW8B"
      },
      "execution_count": 12,
      "outputs": []
    },
    {
      "cell_type": "code",
      "source": [
        "Test_Dataset=TensorDataset(X_test_flattened_torch,y_test_encoded_torch)"
      ],
      "metadata": {
        "id": "8AJdKicr0pFl"
      },
      "execution_count": 13,
      "outputs": []
    },
    {
      "cell_type": "markdown",
      "source": [
        "##**HELPER FUNCTIONS**"
      ],
      "metadata": {
        "id": "ET70jqk3Z5bX"
      }
    },
    {
      "cell_type": "code",
      "source": [
        "def tanh(z):\n",
        "    return np.tanh(z)\n",
        "\n",
        "def softmax(z):\n",
        "    return np.exp(z)/sum(np.exp(z))"
      ],
      "metadata": {
        "id": "G4iwwnPwDbCt"
      },
      "execution_count": 14,
      "outputs": []
    },
    {
      "cell_type": "code",
      "source": [
        "def dif_tanh(z):\n",
        "  return (1 - np.square(np.tanh(z)))"
      ],
      "metadata": {
        "id": "qQy6mHZvDhTP"
      },
      "execution_count": 15,
      "outputs": []
    },
    {
      "cell_type": "code",
      "source": [
        "def glorot_initialisation(output_n,input_n):\n",
        "  M=np.sqrt(6/(input_n+output_n))\n",
        "  W=np.random.uniform(low=-M, high=M, size=(output_n,input_n))\n",
        "  b=np.random.uniform(low=-M, high=M, size=(output_n,1))\n",
        "  return W,b"
      ],
      "metadata": {
        "id": "tY5KcHj0DkPM"
      },
      "execution_count": 16,
      "outputs": []
    },
    {
      "cell_type": "code",
      "source": [
        "def initialize_parameters(layer_dims):\n",
        "    \"\"\"\n",
        "    Arguments:\n",
        "    layer_dims -- python array (list) containing the dimensions of each layer in our network\n",
        "    \n",
        "    Returns:\n",
        "    parameters -- python dictionary containing your parameters \"W1\", \"b1\", ..., \"WL\", \"bL\":\n",
        "                    W1 -- weight matrix of shape (layer_dims[l], layer_dims[l-1])\n",
        "                    b1 -- bias vector of shape (layer_dims[l], 1)\n",
        "                    Wl -- weight matrix of shape (layer_dims[l-1], layer_dims[l])\n",
        "                    bl -- bias vector of shape (1, layer_dims[l])\n",
        "                    \n",
        "    Tips:\n",
        "    - For example: the layer_dims for the \"Planar Data classification model\" would have been [2,2,1]. \n",
        "    This means W1's shape was (2,2), b1 was (1,2), W2 was (2,1) and b2 was (1,1). Now you have to generalize it!\n",
        "    - In the for loop, use parameters['W' + str(l)] to access Wl, where l is the iterative integer.\n",
        "    \"\"\"\n",
        "    \n",
        "    np.random.seed(39)\n",
        "    parameters = {}\n",
        "    L = len(layer_dims) # number of layers in the network\n",
        "\n",
        "    for l in range(1, L):\n",
        "\n",
        "        # M=np.sqrt(6/(self.input_n+self.output_n))\n",
        "        parameters['W' + str(l)],parameters['b' + str(l)]  = glorot_initialisation(layer_dims[l], layer_dims[l-1])\n",
        "        \n",
        "        \n",
        "        assert(parameters['W' + str(l)].shape == (layer_dims[l], layer_dims[l-1]))\n",
        "        assert(parameters['b' + str(l)].shape == (layer_dims[l], 1))\n",
        "        \n",
        "    return parameters"
      ],
      "metadata": {
        "id": "rxlwRAJMDxrm"
      },
      "execution_count": 17,
      "outputs": []
    },
    {
      "cell_type": "code",
      "source": [
        "def forward_propagation(X, parameters):\n",
        "    \"\"\"\n",
        "\n",
        "    SHAPE OF X = 784,samples(i.e. 64 for a batch)\n",
        "    Implements the forward propagation (and computes the loss) presented in Figure 2.\n",
        "    \n",
        "    Arguments:\n",
        "    X -- input dataset, of shape (input size, number of examples)\n",
        "    parameters -- python dictionary containing your parameters \"W1\", \"b1\", \"W2\", \"b2\", \"W3\", \"b3\",\"W4\",\"b4\":\n",
        "                    W1 -- weight matrix of shape (500,784)\n",
        "                    b1 -- bias vector of shape (500,1)\n",
        "                    W2 -- weight matrix of shape (250,500)\n",
        "                    b2 -- bias vector of shape (250,1)\n",
        "                    W3 -- weight matrix of shape (100,250)\n",
        "                    b3 -- bias vector of shape (100,1)\n",
        "                    W4 -- weight matrix of shape (10,100)\n",
        "                    b4 -- bias vector of shape (10,1)\n",
        "\n",
        "    \n",
        "    Returns:\n",
        "    loss -- the loss function (vanilla logistic loss)\n",
        "    \"\"\"\n",
        "    \n",
        "    cache={}\n",
        "      \n",
        "\n",
        "    cache['Z2']=np.dot(parameters['W1'],X)+parameters['b1']\n",
        "    cache['A2']=tanh(cache['Z2'])\n",
        "\n",
        "    cache['Z3']=np.dot(parameters['W2'],cache['A2'])+parameters['b2']\n",
        "    cache['A3']=tanh(cache['Z3'])\n",
        "\n",
        "    cache['Z4']=np.dot(parameters['W3'],cache['A3'])+parameters['b3']\n",
        "    cache['A4']=tanh(cache['Z4'])\n",
        "\n",
        "    cache['Z5']=np.dot(parameters['W4'],cache['A4'])+parameters['b4']\n",
        "    cache['A5']=softmax(cache['Z5'])\n",
        "\n",
        "    A_last=cache['A5']\n",
        "\n",
        "    cache['W1']=parameters['W1']\n",
        "    cache['b1']=parameters['b1']   \n",
        "        \n",
        "    cache['W2']=parameters['W2']\n",
        "    cache['b2']=parameters['b2']   \n",
        "    \n",
        "    cache['W3']=parameters['W3']\n",
        "    cache['b3']=parameters['b3']   \n",
        "\n",
        "    cache['W4']=parameters['W4']\n",
        "    cache['b4']=parameters['b4']   \n",
        "\n",
        "   # cache = {\"W1\": W1, \"b1\": b1,\"Z2\": Z2, \"A2\": A2, \n",
        "   #          \"W2\": W2, \"b2\": b2,\"Z3\": Z3, \"A3\": A3,\n",
        "   #          \"W3\": W3, \"b3\": b3,\"Z4\": Z4, \"A4\": A4,\n",
        "   #          \"W4\": W4, \"b4\": b4,\"Z5\": Z5, \"A5\": A5}\n",
        "    \n",
        "    return A_last, cache"
      ],
      "metadata": {
        "id": "ULLYLL20EA77"
      },
      "execution_count": 18,
      "outputs": []
    },
    {
      "cell_type": "code",
      "source": [
        "# Calculating the loss function using the cross entropy\n",
        "\"\"\"Arguments:\n",
        "    A -- post-activation, output of forward propagation\n",
        "    Y -- \"true\" labels vector, same shape as A\n",
        "\n",
        "    Returns:\n",
        "    cost - value of the cost function\n",
        "\"\"\"\n",
        "def compute_cost(A, Y):    \n",
        "    #A is predicted\n",
        "    #Y is actual\n",
        "    m = Y.shape[1] \n",
        "    logprobs = np.multiply(-np.log(A),Y) + np.multiply(-np.log(1 - A), 1 - Y)\n",
        "    cost = 1./m * np.nansum(logprobs)\n",
        "    return cost"
      ],
      "metadata": {
        "id": "qrefoXXbEx60"
      },
      "execution_count": 19,
      "outputs": []
    },
    {
      "cell_type": "code",
      "source": [
        "def backward_propagation(X,Y,cache):\n",
        "\n",
        "  m=X.shape[1]\n",
        "\n",
        "  grads={}\n",
        "\n",
        "  grads['dZ5']=cache['A5']-Y\n",
        "  grads['dW4']= 1./m * np.dot(grads['dZ5'],cache['A4'].T)\n",
        "  grads['db4']= 1./m * np.sum(grads['dZ5'],axis=1,keepdims=True)\n",
        "\n",
        "  grads['dA4']=np.dot(cache['W4'].T,grads['dZ5'])\n",
        "  grads['dZ4']=np.multiply(grads['dA4'],dif_tanh(cache['Z4']))\n",
        "  grads['dW3']=1./m * np.dot(grads['dZ4'],cache['A3'].T)\n",
        "  grads['db3']=1./m * np.sum(grads['dZ4'],axis=1,keepdims=True)\n",
        "\n",
        "  grads['dA3']=np.dot(cache['W3'].T,grads['dZ4'])\n",
        "  grads['dZ3']=np.multiply(grads['dA3'],dif_tanh(cache['Z3']))\n",
        "  grads['dW2']=1./m * np.dot(grads['dZ3'],cache['A2'].T)\n",
        "  grads['db2']=1./m * np.sum(grads['dZ3'],axis=1,keepdims=True)\n",
        "\n",
        "  grads['dA2']=np.dot(cache['W2'].T,grads['dZ3'])\n",
        "  grads['dZ2']=np.multiply(grads['dA2'],dif_tanh(cache['Z2']))\n",
        "  grads['dW1']=1./m * np.dot(grads['dZ2'],X.T)\n",
        "  grads['db1']=1./m * np.sum(grads['dZ2'],axis=1,keepdims=True)\n",
        "\n",
        "\n",
        "  return grads\n"
      ],
      "metadata": {
        "id": "g1XAR4N4Ml2g"
      },
      "execution_count": 20,
      "outputs": []
    },
    {
      "cell_type": "code",
      "source": [
        "def update_parameters(parameters,grads,learning_rate):\n",
        "\n",
        "  updated_parameters={}\n",
        "\n",
        "  updated_parameters['W1']=parameters['W1']-learning_rate*grads['dW1']\n",
        "  updated_parameters['b1']=parameters['b1']-learning_rate*grads['db1']\n",
        "\n",
        "  updated_parameters['W2']=parameters['W2']-learning_rate*grads['dW2']\n",
        "  updated_parameters['b2']=parameters['b2']-learning_rate*grads['db2']\n",
        "\n",
        "  updated_parameters['W3']=parameters['W3']-learning_rate*grads['dW3']\n",
        "  updated_parameters['b3']=parameters['b3']-learning_rate*grads['db3']\n",
        "\n",
        "  updated_parameters['W4']=parameters['W4']-learning_rate*grads['dW4']\n",
        "  updated_parameters['b4']=parameters['b4']-learning_rate*grads['db4']\n",
        "\n",
        "  return updated_parameters"
      ],
      "metadata": {
        "id": "bplQAHwTR_tj"
      },
      "execution_count": 21,
      "outputs": []
    },
    {
      "cell_type": "code",
      "source": [
        "#Finding the accuracy of the parameter at the output \n",
        "\"\"\"  \n",
        "    Arguments:\n",
        "    y_actual -  given in the dataset / also called as the ground truth \n",
        "    y_pred - generated from the neural network , after a series of forward and backprop \n",
        "    \n",
        "    Returns:\n",
        "    accuracy =  finding the matches of the prdicted vs the actual\n",
        "\"\"\"\n",
        "def calculate_accuracy(y_actual,y_pred):\n",
        "    accuracy = np.count_nonzero(np.argmax(y_pred,axis=0)==np.argmax(y_actual,axis=0))/y_actual.shape[1]\n",
        "    return accuracy"
      ],
      "metadata": {
        "id": "75L4cOiLTaTF"
      },
      "execution_count": 22,
      "outputs": []
    },
    {
      "cell_type": "code",
      "source": [
        "def predict(X,Y,parameters):\n",
        "\n",
        "    \"\"\"\n",
        "    This function is used to predict the results of a  n-layer neural network.\n",
        "    \n",
        "    Arguments:\n",
        "    X -- data set of examples you would like to label\n",
        "    Y -- data set of examples\n",
        "    parameters -- parameters of the trained model\n",
        "    \n",
        "    Returns:\n",
        "    ypred -- predictions for the given dataset X\n",
        "    \"\"\"\n",
        "\n",
        "    y_pred,cache=forward_propagation(X,parameters)\n",
        "    return y_pred"
      ],
      "metadata": {
        "id": "gkSYGUHwUQto"
      },
      "execution_count": 23,
      "outputs": []
    },
    {
      "cell_type": "markdown",
      "source": [
        "##**MODEL TRAINING**"
      ],
      "metadata": {
        "id": "kSLeuFoPltGO"
      }
    },
    {
      "cell_type": "code",
      "source": [
        "def model(Train_Dataset,layer_dimensions,total_epochs=15,Batch_Size=64,learning_rate=0.01):\n",
        "\n",
        "  costs=[]\n",
        "  accuracy=[]\n",
        "\n",
        "  parameters=initialize_parameters(layer_dimensions)\n",
        "  num_iterations=len(Train_Dataset)//Batch_Size\n",
        "\n",
        "  # X_training=torch.from_numpy(X_training)\n",
        "  # Y_training=torch.from_numpy(Y_training)\n",
        "\n",
        "  #Train_Dataset=TensorDataset(X_training,Y_training)\n",
        "  for epoch in range(total_epochs):\n",
        "    for iteration in range(num_iterations):\n",
        "      Data_Loader=torch.utils.data.DataLoader(dataset=Train_Dataset,batch_size=64, shuffle=True)\n",
        "      \n",
        "      data_iter=iter(Data_Loader)\n",
        "      Data=next(data_iter)\n",
        "      X,y=Data #X.shape=(batch_size,784) y.shape=(batch_size,10)\n",
        "      X=X.numpy()\n",
        "      y=y.numpy()\n",
        "      a5,cache=forward_propagation(X.T,parameters)\n",
        "      cost=compute_cost(a5,y.T)\n",
        "      gradients=backward_propagation(X.T,y.T,cache)\n",
        "      parameters=update_parameters(parameters,gradients,learning_rate)\n",
        "\n",
        "      if iteration%200==0:\n",
        "        print(\"epoch: \",epoch+1,\"/\",total_epochs, \"  iteration= \",iteration+1,\"/\",num_iterations, \"  Loss: \",cost)\n",
        "      accuracy.append(calculate_accuracy(y.T,a5))\n",
        "      costs.append(cost)\n",
        "\n",
        "  return accuracy,costs,parameters\n",
        "\n"
      ],
      "metadata": {
        "id": "TOTB3f_JUUet"
      },
      "execution_count": 24,
      "outputs": []
    },
    {
      "cell_type": "code",
      "source": [
        "layer_dimensions=[784,500,250,100,10]\n",
        "Train_accuracy,Train_costs,Trained_parameters=model(Train_Dataset,layer_dimensions,15,64,0.01)"
      ],
      "metadata": {
        "colab": {
          "base_uri": "https://localhost:8080/"
        },
        "id": "zMHQ9jr-q51w",
        "outputId": "6c6c2f2d-502b-47af-934a-af7e310c82a0"
      },
      "execution_count": 25,
      "outputs": [
        {
          "output_type": "stream",
          "name": "stdout",
          "text": [
            "epoch:  1 / 15   iteration=  1 / 937   Loss:  3.214091454120693\n",
            "epoch:  1 / 15   iteration=  201 / 937   Loss:  1.2032114070270699\n",
            "epoch:  1 / 15   iteration=  401 / 937   Loss:  0.8196476881990568\n",
            "epoch:  1 / 15   iteration=  601 / 937   Loss:  0.5380089907199577\n",
            "epoch:  1 / 15   iteration=  801 / 937   Loss:  0.8741302256907593\n",
            "epoch:  2 / 15   iteration=  1 / 937   Loss:  0.6816779397996198\n",
            "epoch:  2 / 15   iteration=  201 / 937   Loss:  0.5891961292613173\n",
            "epoch:  2 / 15   iteration=  401 / 937   Loss:  0.643266747574362\n",
            "epoch:  2 / 15   iteration=  601 / 937   Loss:  0.4009888789898751\n",
            "epoch:  2 / 15   iteration=  801 / 937   Loss:  0.46269453430336716\n",
            "epoch:  3 / 15   iteration=  1 / 937   Loss:  0.4352073117162539\n",
            "epoch:  3 / 15   iteration=  201 / 937   Loss:  0.5349312522892202\n",
            "epoch:  3 / 15   iteration=  401 / 937   Loss:  0.3207694974202114\n",
            "epoch:  3 / 15   iteration=  601 / 937   Loss:  0.3015073140903967\n",
            "epoch:  3 / 15   iteration=  801 / 937   Loss:  0.35139007987617665\n",
            "epoch:  4 / 15   iteration=  1 / 937   Loss:  0.3357530700275208\n",
            "epoch:  4 / 15   iteration=  201 / 937   Loss:  0.40596430556956353\n",
            "epoch:  4 / 15   iteration=  401 / 937   Loss:  0.5623266189492993\n",
            "epoch:  4 / 15   iteration=  601 / 937   Loss:  0.5434884977006176\n",
            "epoch:  4 / 15   iteration=  801 / 937   Loss:  0.47206174662701594\n",
            "epoch:  5 / 15   iteration=  1 / 937   Loss:  0.6969777247071713\n",
            "epoch:  5 / 15   iteration=  201 / 937   Loss:  0.3446981159529631\n",
            "epoch:  5 / 15   iteration=  401 / 937   Loss:  0.31500060510886607\n",
            "epoch:  5 / 15   iteration=  601 / 937   Loss:  0.17088044980620204\n",
            "epoch:  5 / 15   iteration=  801 / 937   Loss:  0.3907122005226137\n",
            "epoch:  6 / 15   iteration=  1 / 937   Loss:  0.4264773299808655\n",
            "epoch:  6 / 15   iteration=  201 / 937   Loss:  0.4468310463525439\n",
            "epoch:  6 / 15   iteration=  401 / 937   Loss:  0.26048760335669197\n",
            "epoch:  6 / 15   iteration=  601 / 937   Loss:  0.2612433194806546\n",
            "epoch:  6 / 15   iteration=  801 / 937   Loss:  0.49159588362430245\n",
            "epoch:  7 / 15   iteration=  1 / 937   Loss:  0.41749983538236657\n",
            "epoch:  7 / 15   iteration=  201 / 937   Loss:  0.3432968120464681\n",
            "epoch:  7 / 15   iteration=  401 / 937   Loss:  0.6112224290116169\n",
            "epoch:  7 / 15   iteration=  601 / 937   Loss:  0.2094886495030352\n",
            "epoch:  7 / 15   iteration=  801 / 937   Loss:  0.46764299301377454\n",
            "epoch:  8 / 15   iteration=  1 / 937   Loss:  0.4803959070772662\n",
            "epoch:  8 / 15   iteration=  201 / 937   Loss:  0.3044096885911611\n",
            "epoch:  8 / 15   iteration=  401 / 937   Loss:  0.19401437650109338\n",
            "epoch:  8 / 15   iteration=  601 / 937   Loss:  0.4995785260109974\n",
            "epoch:  8 / 15   iteration=  801 / 937   Loss:  0.2591277721744359\n",
            "epoch:  9 / 15   iteration=  1 / 937   Loss:  0.32717812192201023\n",
            "epoch:  9 / 15   iteration=  201 / 937   Loss:  0.16495636703539712\n",
            "epoch:  9 / 15   iteration=  401 / 937   Loss:  0.17373676958996465\n",
            "epoch:  9 / 15   iteration=  601 / 937   Loss:  0.33313006869571055\n",
            "epoch:  9 / 15   iteration=  801 / 937   Loss:  0.24837182888085743\n",
            "epoch:  10 / 15   iteration=  1 / 937   Loss:  0.2920075428936638\n",
            "epoch:  10 / 15   iteration=  201 / 937   Loss:  0.3761629086195454\n",
            "epoch:  10 / 15   iteration=  401 / 937   Loss:  0.16415607363824675\n",
            "epoch:  10 / 15   iteration=  601 / 937   Loss:  0.22673927730805918\n",
            "epoch:  10 / 15   iteration=  801 / 937   Loss:  0.4267881280087634\n",
            "epoch:  11 / 15   iteration=  1 / 937   Loss:  0.3463215986306749\n",
            "epoch:  11 / 15   iteration=  201 / 937   Loss:  0.35745377078313045\n",
            "epoch:  11 / 15   iteration=  401 / 937   Loss:  0.36292456396202855\n",
            "epoch:  11 / 15   iteration=  601 / 937   Loss:  0.32894369464182477\n",
            "epoch:  11 / 15   iteration=  801 / 937   Loss:  0.10888209599184479\n",
            "epoch:  12 / 15   iteration=  1 / 937   Loss:  0.30239008052381244\n",
            "epoch:  12 / 15   iteration=  201 / 937   Loss:  0.17158321646418628\n",
            "epoch:  12 / 15   iteration=  401 / 937   Loss:  0.18084036318626281\n",
            "epoch:  12 / 15   iteration=  601 / 937   Loss:  0.2008184861778133\n",
            "epoch:  12 / 15   iteration=  801 / 937   Loss:  0.31122034060212533\n",
            "epoch:  13 / 15   iteration=  1 / 937   Loss:  0.17165117799992094\n",
            "epoch:  13 / 15   iteration=  201 / 937   Loss:  0.5634914244720035\n",
            "epoch:  13 / 15   iteration=  401 / 937   Loss:  0.5406524966337289\n",
            "epoch:  13 / 15   iteration=  601 / 937   Loss:  0.2795869841168458\n",
            "epoch:  13 / 15   iteration=  801 / 937   Loss:  0.26922719792505084\n",
            "epoch:  14 / 15   iteration=  1 / 937   Loss:  0.22464688903018498\n",
            "epoch:  14 / 15   iteration=  201 / 937   Loss:  0.19889115666784546\n",
            "epoch:  14 / 15   iteration=  401 / 937   Loss:  0.22219072420025365\n",
            "epoch:  14 / 15   iteration=  601 / 937   Loss:  0.2418654870409614\n",
            "epoch:  14 / 15   iteration=  801 / 937   Loss:  0.27507779389305176\n",
            "epoch:  15 / 15   iteration=  1 / 937   Loss:  0.17624694788311557\n",
            "epoch:  15 / 15   iteration=  201 / 937   Loss:  0.29527626817986474\n",
            "epoch:  15 / 15   iteration=  401 / 937   Loss:  0.2148041135859286\n",
            "epoch:  15 / 15   iteration=  601 / 937   Loss:  0.1305085944111764\n",
            "epoch:  15 / 15   iteration=  801 / 937   Loss:  0.20924152515822486\n"
          ]
        }
      ]
    },
    {
      "cell_type": "code",
      "source": [
        "plt.plot(Train_costs)"
      ],
      "metadata": {
        "colab": {
          "base_uri": "https://localhost:8080/",
          "height": 283
        },
        "id": "WYhpRl_bzXfX",
        "outputId": "b16f7e6a-086f-4aa5-d022-ed2e03718860"
      },
      "execution_count": 26,
      "outputs": [
        {
          "output_type": "execute_result",
          "data": {
            "text/plain": [
              "[<matplotlib.lines.Line2D at 0x7fc8a8c8bb50>]"
            ]
          },
          "metadata": {},
          "execution_count": 26
        },
        {
          "output_type": "display_data",
          "data": {
            "text/plain": [
              "<Figure size 432x288 with 1 Axes>"
            ],
            "image/png": "[encoded data removed]"
          },
          "metadata": {
            "needs_background": "light"
          }
        }
      ]
    },
    {
      "cell_type": "code",
      "source": [
        "plt.plot(Train_accuracy)"
      ],
      "metadata": {
        "colab": {
          "base_uri": "https://localhost:8080/",
          "height": 283
        },
        "id": "LALd3SKjzuaJ",
        "outputId": "d9b8fd2b-f5eb-4471-ac45-6ff7b001da06"
      },
      "execution_count": 27,
      "outputs": [
        {
          "output_type": "execute_result",
          "data": {
            "text/plain": [
              "[<matplotlib.lines.Line2D at 0x7fc8a923ab90>]"
            ]
          },
          "metadata": {},
          "execution_count": 27
        },
        {
          "output_type": "display_data",
          "data": {
            "text/plain": [
              "<Figure size 432x288 with 1 Axes>"
            ],
            "image/png": "[encoded data removed]"
          },
          "metadata": {
            "needs_background": "light"
          }
        }
      ]
    },
    {
      "cell_type": "code",
      "source": [
        "Train_accuracy[-1]"
      ],
      "metadata": {
        "colab": {
          "base_uri": "https://localhost:8080/"
        },
        "id": "XhKJy_Lj_zo-",
        "outputId": "8985b182-989f-4e49-b9b1-03cbd440402a"
      },
      "execution_count": 28,
      "outputs": [
        {
          "output_type": "execute_result",
          "data": {
            "text/plain": [
              "0.96875"
            ]
          },
          "metadata": {},
          "execution_count": 28
        }
      ]
    },
    {
      "cell_type": "code",
      "source": [
        "Test_Data_Loader=torch.utils.data.DataLoader(dataset=Test_Dataset,batch_size=len(Test_Dataset),shuffle=True)\n",
        "data_iter=iter(Test_Data_Loader)\n",
        "Test_Data=next(data_iter)\n",
        "X,y=Test_Data \n",
        "X=X.numpy()\n",
        "y=y.numpy()\n",
        "y_predicted,cache_out=forward_propagation(X.T,Trained_parameters)\n",
        "cost=compute_cost(y_predicted,y.T)\n",
        "Test_accuracy=calculate_accuracy(y.T,y_predicted)"
      ],
      "metadata": {
        "id": "wDKtgZWOz2Ee"
      },
      "execution_count": 29,
      "outputs": []
    },
    {
      "cell_type": "code",
      "source": [
        "Test_accuracy"
      ],
      "metadata": {
        "colab": {
          "base_uri": "https://localhost:8080/"
        },
        "id": "lEJoAhB51pB0",
        "outputId": "278ac5cf-a41c-44fc-efe1-24554f99cbf1"
      },
      "execution_count": 30,
      "outputs": [
        {
          "output_type": "execute_result",
          "data": {
            "text/plain": [
              "0.9579"
            ]
          },
          "metadata": {},
          "execution_count": 30
        }
      ]
    },
    {
      "cell_type": "code",
      "source": [
        "Y_Predicted=np.array(np.argmax(y_predicted,axis=0))"
      ],
      "metadata": {
        "id": "u3Q0wUp315e8"
      },
      "execution_count": 31,
      "outputs": []
    },
    {
      "cell_type": "code",
      "source": [
        "Y_Actual=np.array(np.argmax(y.T,axis=0)  )"
      ],
      "metadata": {
        "id": "tzKEHt6c4PTD"
      },
      "execution_count": 32,
      "outputs": []
    },
    {
      "cell_type": "markdown",
      "source": [
        "##**CONFUSION MATRIX AND CLASSIFICATION REPORT**"
      ],
      "metadata": {
        "id": "ThLMN-JHhGP9"
      }
    },
    {
      "cell_type": "code",
      "source": [
        "from sklearn.metrics import confusion_matrix\n",
        "import seaborn as sns\n",
        "plt.figure(figsize=(10,10))\n",
        "conf_matrix = (confusion_matrix(Y_Actual, Y_Predicted, labels=np.unique(Y_Actual)))\n",
        "\n",
        "# Using Seaborn heatmap to create the plot\n",
        "fx = sns.heatmap(conf_matrix, annot=True, cmap='Blues',fmt='d')\n",
        "\n",
        "# labels the title and x, y axis of plot\n",
        "fx.set_title('Plotting Confusion Matrix using Seaborn\\n\\n');\n",
        "fx.set_xlabel('Predicted Values')\n",
        "fx.set_ylabel('Actual Values ');\n",
        "\n",
        "\n",
        "plt.show()"
      ],
      "metadata": {
        "colab": {
          "base_uri": "https://localhost:8080/",
          "height": 651
        },
        "id": "sPaOghW54nW_",
        "outputId": "ee80d26a-0bd8-4e72-deb4-48320233c398"
      },
      "execution_count": 33,
      "outputs": [
        {
          "output_type": "display_data",
          "data": {
            "text/plain": [
              "<Figure size 720x720 with 2 Axes>"
            ],
            "image/png": "[encoded data removed]"
          },
          "metadata": {
            "needs_background": "light"
          }
        }
      ]
    },
    {
      "cell_type": "code",
      "source": [
        "from sklearn.metrics import classification_report\n",
        "print(classification_report(Y_Actual, Y_Predicted))"
      ],
      "metadata": {
        "colab": {
          "base_uri": "https://localhost:8080/"
        },
        "id": "K-cwGLUmAwZU",
        "outputId": "808b64d2-12c1-4ded-e5ce-410da826a60e"
      },
      "execution_count": 34,
      "outputs": [
        {
          "output_type": "stream",
          "name": "stdout",
          "text": [
            "              precision    recall  f1-score   support\n",
            "\n",
            "           0       0.96      0.99      0.97       980\n",
            "           1       0.98      0.98      0.98      1135\n",
            "           2       0.96      0.95      0.95      1032\n",
            "           3       0.95      0.96      0.95      1010\n",
            "           4       0.97      0.94      0.96       982\n",
            "           5       0.96      0.93      0.95       892\n",
            "           6       0.96      0.96      0.96       958\n",
            "           7       0.96      0.95      0.96      1028\n",
            "           8       0.95      0.96      0.95       974\n",
            "           9       0.93      0.95      0.94      1009\n",
            "\n",
            "    accuracy                           0.96     10000\n",
            "   macro avg       0.96      0.96      0.96     10000\n",
            "weighted avg       0.96      0.96      0.96     10000\n",
            "\n"
          ]
        }
      ]
    },
    {
      "cell_type": "code",
      "source": [
        "unique_p, counts_p = np.unique(Y_Predicted, return_counts=True)"
      ],
      "metadata": {
        "id": "c1Zv45QGCpa9"
      },
      "execution_count": 35,
      "outputs": []
    },
    {
      "cell_type": "code",
      "source": [
        "unique_p"
      ],
      "metadata": {
        "colab": {
          "base_uri": "https://localhost:8080/"
        },
        "id": "JCyiZum-Cv3P",
        "outputId": "f1011119-76b2-422e-b25b-4de066a2bf09"
      },
      "execution_count": 36,
      "outputs": [
        {
          "output_type": "execute_result",
          "data": {
            "text/plain": [
              "array([0, 1, 2, 3, 4, 5, 6, 7, 8, 9])"
            ]
          },
          "metadata": {},
          "execution_count": 36
        }
      ]
    },
    {
      "cell_type": "code",
      "source": [
        "counts_p"
      ],
      "metadata": {
        "colab": {
          "base_uri": "https://localhost:8080/"
        },
        "id": "JZYywpxLCy01",
        "outputId": "63f7c7d0-8c39-4ca1-f183-9d8c22859681"
      },
      "execution_count": 37,
      "outputs": [
        {
          "output_type": "execute_result",
          "data": {
            "text/plain": [
              "array([1005, 1137, 1031, 1019,  953,  862,  961, 1013,  986, 1033])"
            ]
          },
          "metadata": {},
          "execution_count": 37
        }
      ]
    },
    {
      "cell_type": "markdown",
      "source": [
        "##**REPORTING ACCURACY OF MODEL**\n",
        "\n",
        "TRAIN ACCURACY: 96.87%\n",
        "\n",
        "TEST ACCURACY: 95.79%"
      ],
      "metadata": {
        "id": "2Lw9TC3tbfkx"
      }
    },
    {
      "cell_type": "markdown",
      "source": [
        "*Inference*: *This model performs better than baseline sigmoid.*"
      ],
      "metadata": {
        "id": "Ab_Vj8bik-DL"
      }
    }
  ]
}