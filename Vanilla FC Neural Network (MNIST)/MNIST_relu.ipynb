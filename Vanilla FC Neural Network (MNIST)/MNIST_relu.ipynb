{
  "nbformat": 4,
  "nbformat_minor": 0,
  "metadata": {
    "colab": {
      "name": "MNIST_relu.ipynb",
      "provenance": []
    },
    "kernelspec": {
      "name": "python3",
      "display_name": "Python 3"
    },
    "language_info": {
      "name": "python"
    },
    "accelerator": "GPU",
    "gpuClass": "standard"
  },
  "cells": [
    {
      "cell_type": "markdown",
      "source": [
        "Importing Required Libraries"
      ],
      "metadata": {
        "id": "Xk9LKwcgkGUl"
      }
    },
    {
      "cell_type": "code",
      "execution_count": 151,
      "metadata": {
        "id": "o_OoCBRenEM7"
      },
      "outputs": [],
      "source": [
        "import numpy as np\n",
        "import matplotlib.pyplot as plt\n",
        "import torch\n",
        "import torch.nn as nn \n",
        "import torchvision\n",
        "import torchvision.transforms as transforms\n",
        "from torch.utils.data.dataset import TensorDataset\n",
        "from torch.utils.data import DataLoader"
      ]
    },
    {
      "cell_type": "markdown",
      "source": [
        "##**DATASET LOADING AND PREPARATION**"
      ],
      "metadata": {
        "id": "6BZqlSa6fv_X"
      }
    },
    {
      "cell_type": "code",
      "source": [
        "train_dataset = torchvision.datasets.MNIST(root='./data', train=True, transform=transforms.ToTensor(),  download=True)\n",
        "test_dataset = torchvision.datasets.MNIST(root='./data', train=False, transform=transforms.ToTensor())"
      ],
      "metadata": {
        "id": "Hd0823pWnPPH"
      },
      "execution_count": 152,
      "outputs": []
    },
    {
      "cell_type": "code",
      "source": [
        "loader_train = torch.utils.data.DataLoader(dataset=train_dataset,batch_size = len(train_dataset) ,shuffle=True) \n",
        "loader_test = torch.utils.data.DataLoader(dataset=test_dataset,batch_size = len(test_dataset) ,shuffle=True)"
      ],
      "metadata": {
        "id": "JAtpUkFJo5Kc"
      },
      "execution_count": 153,
      "outputs": []
    },
    {
      "cell_type": "code",
      "source": [
        "X_train,y_train=next(iter(loader_train))\n",
        "X_test,y_test=next(iter(loader_test))"
      ],
      "metadata": {
        "id": "M0nP3kRColz0"
      },
      "execution_count": 154,
      "outputs": []
    },
    {
      "cell_type": "code",
      "source": [
        "X_train=X_train.numpy()\n",
        "y_train=y_train.numpy()\n",
        "X_test=X_test.numpy()\n",
        "y_test=y_test.numpy()"
      ],
      "metadata": {
        "id": "pA10C5WdouBO"
      },
      "execution_count": 155,
      "outputs": []
    },
    {
      "cell_type": "code",
      "source": [
        "X_train_flattened=X_train.reshape(X_train.shape[0],X_train.shape[1]*X_train.shape[2]*X_train.shape[3])\n",
        "X_test_flattened=X_test.reshape(X_test.shape[0],X_test.shape[1]*X_test.shape[2]*X_test.shape[3])"
      ],
      "metadata": {
        "id": "MUYMWwUgpnFI"
      },
      "execution_count": 156,
      "outputs": []
    },
    {
      "cell_type": "markdown",
      "source": [
        "One-Hot Encoding"
      ],
      "metadata": {
        "id": "qc7emDdQkDLL"
      }
    },
    {
      "cell_type": "code",
      "source": [
        "train_labels_encoded = []\n",
        "for i in y_train:\n",
        "  A=np.array([0]*10)\n",
        "  A[i]=1\n",
        "  train_labels_encoded.append(A)\n",
        "y_train_encoded=np.array(train_labels_encoded)"
      ],
      "metadata": {
        "id": "uf3Wwnr0py_H"
      },
      "execution_count": 157,
      "outputs": []
    },
    {
      "cell_type": "code",
      "source": [
        "test_labels_encoded = []\n",
        "for i in y_test:\n",
        "  A=np.array([0]*10)\n",
        "  A[i]=1\n",
        "  test_labels_encoded.append(A)\n",
        "y_test_encoded=np.array(test_labels_encoded)"
      ],
      "metadata": {
        "id": "N4iUBJ0Zp29_"
      },
      "execution_count": 158,
      "outputs": []
    },
    {
      "cell_type": "code",
      "source": [
        "X_train_flattened_torch=torch.from_numpy(X_train_flattened)\n",
        "y_train_encoded_torch=torch.from_numpy(y_train_encoded)"
      ],
      "metadata": {
        "id": "ZtruZ-9Cp_52"
      },
      "execution_count": 159,
      "outputs": []
    },
    {
      "cell_type": "code",
      "source": [
        "X_test_flattened_torch=torch.from_numpy(X_test_flattened)\n",
        "y_test_encoded_torch=torch.from_numpy(y_test_encoded)"
      ],
      "metadata": {
        "id": "ka69yDPQ0WNB"
      },
      "execution_count": 160,
      "outputs": []
    },
    {
      "cell_type": "markdown",
      "source": [
        "Here we have prepared test and train dataset with flattenned images and one hot encoded labels"
      ],
      "metadata": {
        "id": "8CeezCoUj2wt"
      }
    },
    {
      "cell_type": "code",
      "source": [
        "Train_Dataset=TensorDataset(X_train_flattened_torch,y_train_encoded_torch)"
      ],
      "metadata": {
        "id": "P1IypBsJrW8B"
      },
      "execution_count": 161,
      "outputs": []
    },
    {
      "cell_type": "code",
      "source": [
        "Test_Dataset=TensorDataset(X_test_flattened_torch,y_test_encoded_torch)"
      ],
      "metadata": {
        "id": "8AJdKicr0pFl"
      },
      "execution_count": 162,
      "outputs": []
    },
    {
      "cell_type": "markdown",
      "source": [
        "##**HELPER FUNCTIONS**"
      ],
      "metadata": {
        "id": "ET70jqk3Z5bX"
      }
    },
    {
      "cell_type": "code",
      "source": [
        "def relu(z):\n",
        "    return np.maximum(0,z)\n",
        "\n",
        "def softmax(z):\n",
        "    return np.exp(z)/sum(np.exp(z))"
      ],
      "metadata": {
        "id": "G4iwwnPwDbCt"
      },
      "execution_count": 163,
      "outputs": []
    },
    {
      "cell_type": "code",
      "source": [
        "def dif_relu(z):\n",
        "  return z>0"
      ],
      "metadata": {
        "id": "qQy6mHZvDhTP"
      },
      "execution_count": 164,
      "outputs": []
    },
    {
      "cell_type": "code",
      "source": [
        "def glorot_initialisation(output_n,input_n):\n",
        "  M=np.sqrt(6/(input_n+output_n))\n",
        "  W=np.random.uniform(low=-M, high=M, size=(output_n,input_n))\n",
        "  b=np.random.uniform(low=-M, high=M, size=(output_n,1))\n",
        "  return W,b"
      ],
      "metadata": {
        "id": "tY5KcHj0DkPM"
      },
      "execution_count": 165,
      "outputs": []
    },
    {
      "cell_type": "code",
      "source": [
        "def initialize_parameters(layer_dims):\n",
        "    \"\"\"\n",
        "    Arguments:\n",
        "    layer_dims -- python array (list) containing the dimensions of each layer in our network\n",
        "    \n",
        "    Returns:\n",
        "    parameters -- python dictionary containing your parameters \"W1\", \"b1\", ..., \"WL\", \"bL\":\n",
        "                    W1 -- weight matrix of shape (layer_dims[l], layer_dims[l-1])\n",
        "                    b1 -- bias vector of shape (layer_dims[l], 1)\n",
        "                    Wl -- weight matrix of shape (layer_dims[l-1], layer_dims[l])\n",
        "                    bl -- bias vector of shape (1, layer_dims[l])\n",
        "                    \n",
        "    Tips:\n",
        "    - For example: the layer_dims for the \"Planar Data classification model\" would have been [2,2,1]. \n",
        "    This means W1's shape was (2,2), b1 was (1,2), W2 was (2,1) and b2 was (1,1). Now you have to generalize it!\n",
        "    - In the for loop, use parameters['W' + str(l)] to access Wl, where l is the iterative integer.\n",
        "    \"\"\"\n",
        "    \n",
        "    np.random.seed(1390)\n",
        "    parameters = {}\n",
        "    L = len(layer_dims) # number of layers in the network\n",
        "\n",
        "    for l in range(1, L):\n",
        "\n",
        "        # M=np.sqrt(6/(self.input_n+self.output_n))\n",
        "        parameters['W' + str(l)],parameters['b' + str(l)]  = glorot_initialisation(layer_dims[l], layer_dims[l-1])\n",
        "        \n",
        "        \n",
        "        assert(parameters['W' + str(l)].shape == (layer_dims[l], layer_dims[l-1]))\n",
        "        assert(parameters['b' + str(l)].shape == (layer_dims[l], 1))\n",
        "        \n",
        "    return parameters"
      ],
      "metadata": {
        "id": "rxlwRAJMDxrm"
      },
      "execution_count": 166,
      "outputs": []
    },
    {
      "cell_type": "code",
      "source": [
        "def forward_propagation(X, parameters):\n",
        "    \"\"\"\n",
        "\n",
        "    SHAPE OF X = 784,samples(i.e. 64 for a batch)\n",
        "    Implements the forward propagation (and computes the loss) presented in Figure 2.\n",
        "    \n",
        "    Arguments:\n",
        "    X -- input dataset, of shape (input size, number of examples)\n",
        "    parameters -- python dictionary containing your parameters \"W1\", \"b1\", \"W2\", \"b2\", \"W3\", \"b3\",\"W4\",\"b4\":\n",
        "                    W1 -- weight matrix of shape (500,784)\n",
        "                    b1 -- bias vector of shape (500,1)\n",
        "                    W2 -- weight matrix of shape (250,500)\n",
        "                    b2 -- bias vector of shape (250,1)\n",
        "                    W3 -- weight matrix of shape (100,250)\n",
        "                    b3 -- bias vector of shape (100,1)\n",
        "                    W4 -- weight matrix of shape (10,100)\n",
        "                    b4 -- bias vector of shape (10,1)\n",
        "\n",
        "    \n",
        "    Returns:\n",
        "    loss -- the loss function (vanilla logistic loss)\n",
        "    \"\"\"\n",
        "   \n",
        "    cache={}\n",
        "      \n",
        "\n",
        "    cache['Z2']=np.dot(parameters['W1'],X)+parameters['b1']\n",
        "    cache['A2']=relu(cache['Z2'])\n",
        "\n",
        "    cache['Z3']=np.dot(parameters['W2'],cache['A2'])+parameters['b2']\n",
        "    cache['A3']=relu(cache['Z3'])\n",
        "\n",
        "    cache['Z4']=np.dot(parameters['W3'],cache['A3'])+parameters['b3']\n",
        "    cache['A4']=relu(cache['Z4'])\n",
        "\n",
        "    cache['Z5']=np.dot(parameters['W4'],cache['A4'])+parameters['b4']\n",
        "    cache['A5']=softmax(cache['Z5'])\n",
        "\n",
        "    A_last=cache['A5']\n",
        "\n",
        "    cache['W1']=parameters['W1']\n",
        "    cache['b1']=parameters['b1']   \n",
        "        \n",
        "    cache['W2']=parameters['W2']\n",
        "    cache['b2']=parameters['b2']   \n",
        "    \n",
        "    cache['W3']=parameters['W3']\n",
        "    cache['b3']=parameters['b3']   \n",
        "\n",
        "    cache['W4']=parameters['W4']\n",
        "    cache['b4']=parameters['b4']   \n",
        "\n",
        "   # cache = {\"W1\": W1, \"b1\": b1,\"Z2\": Z2, \"A2\": A2, \n",
        "   #          \"W2\": W2, \"b2\": b2,\"Z3\": Z3, \"A3\": A3,\n",
        "   #          \"W3\": W3, \"b3\": b3,\"Z4\": Z4, \"A4\": A4,\n",
        "   #          \"W4\": W4, \"b4\": b4,\"Z5\": Z5, \"A5\": A5}\n",
        "    \n",
        "    return A_last, cache"
      ],
      "metadata": {
        "id": "ULLYLL20EA77"
      },
      "execution_count": 167,
      "outputs": []
    },
    {
      "cell_type": "code",
      "source": [
        "# Calculating the loss function using the cross entropy\n",
        "\"\"\"Arguments:\n",
        "    A -- post-activation, output of forward propagation\n",
        "    Y -- \"true\" labels vector, same shape as A\n",
        "\n",
        "    Returns:\n",
        "    cost - value of the cost function\n",
        "\"\"\"\n",
        "def compute_cost(A, Y):    \n",
        "    #A is predicted\n",
        "    #Y is actual\n",
        "    m = Y.shape[1] \n",
        "    logprobs = np.multiply(-np.log(A),Y) + np.multiply(-np.log(1 - A), 1 - Y)\n",
        "    cost = 1./m * np.nansum(logprobs)\n",
        "    return cost"
      ],
      "metadata": {
        "id": "qrefoXXbEx60"
      },
      "execution_count": 168,
      "outputs": []
    },
    {
      "cell_type": "code",
      "source": [
        "def backward_propagation(X,Y,cache):\n",
        "\n",
        "  m=X.shape[1]\n",
        "\n",
        "  grads={}\n",
        "\n",
        "  grads['dZ5']=cache['A5']-Y\n",
        "  grads['dW4']= 1./m * np.dot(grads['dZ5'],cache['A4'].T)\n",
        "  grads['db4']= 1./m * np.sum(grads['dZ5'],axis=1,keepdims=True)\n",
        "\n",
        "  grads['dA4']=np.dot(cache['W4'].T,grads['dZ5'])\n",
        "  grads['dZ4']=np.multiply(grads['dA4'],dif_relu(cache['Z4']))\n",
        "  grads['dW3']=1./m * np.dot(grads['dZ4'],cache['A3'].T)\n",
        "  grads['db3']=1./m * np.sum(grads['dZ4'],axis=1,keepdims=True)\n",
        "\n",
        "  grads['dA3']=np.dot(cache['W3'].T,grads['dZ4'])\n",
        "  grads['dZ3']=np.multiply(grads['dA3'],dif_relu(cache['Z3']))\n",
        "  grads['dW2']=1./m * np.dot(grads['dZ3'],cache['A2'].T)\n",
        "  grads['db2']=1./m * np.sum(grads['dZ3'],axis=1,keepdims=True)\n",
        "\n",
        "  grads['dA2']=np.dot(cache['W2'].T,grads['dZ3'])\n",
        "  grads['dZ2']=np.multiply(grads['dA2'],dif_relu(cache['Z2']))\n",
        "  grads['dW1']=1./m * np.dot(grads['dZ2'],X.T)\n",
        "  grads['db1']=1./m * np.sum(grads['dZ2'],axis=1,keepdims=True)\n",
        "\n",
        "\n",
        "  return grads\n"
      ],
      "metadata": {
        "id": "g1XAR4N4Ml2g"
      },
      "execution_count": 169,
      "outputs": []
    },
    {
      "cell_type": "code",
      "source": [
        "def update_parameters(parameters,grads,learning_rate):\n",
        "\n",
        "  updated_parameters={}\n",
        "\n",
        "  updated_parameters['W1']=parameters['W1']-learning_rate*grads['dW1']\n",
        "  updated_parameters['b1']=parameters['b1']-learning_rate*grads['db1']\n",
        "\n",
        "  updated_parameters['W2']=parameters['W2']-learning_rate*grads['dW2']\n",
        "  updated_parameters['b2']=parameters['b2']-learning_rate*grads['db2']\n",
        "\n",
        "  updated_parameters['W3']=parameters['W3']-learning_rate*grads['dW3']\n",
        "  updated_parameters['b3']=parameters['b3']-learning_rate*grads['db3']\n",
        "\n",
        "  updated_parameters['W4']=parameters['W4']-learning_rate*grads['dW4']\n",
        "  updated_parameters['b4']=parameters['b4']-learning_rate*grads['db4']\n",
        "\n",
        "  return updated_parameters"
      ],
      "metadata": {
        "id": "bplQAHwTR_tj"
      },
      "execution_count": 170,
      "outputs": []
    },
    {
      "cell_type": "code",
      "source": [
        "#Calculating accuracy of the parameter at the output \n",
        "\"\"\"  \n",
        "    Arguments:\n",
        "    y_actual -  given in the dataset / also called as the ground truth \n",
        "    y_pred - generated from the neural network , after a series of forward and backprop \n",
        "    \n",
        "    Returns:\n",
        "    accuracy =  finding the matches of the prdicted vs the actual\n",
        "\"\"\"\n",
        "def calculate_accuracy(y_actual,y_pred):\n",
        "    accuracy = np.count_nonzero(np.argmax(y_pred,axis=0)==np.argmax(y_actual,axis=0))/y_actual.shape[1]\n",
        "    return accuracy"
      ],
      "metadata": {
        "id": "75L4cOiLTaTF"
      },
      "execution_count": 171,
      "outputs": []
    },
    {
      "cell_type": "code",
      "source": [
        "def predict(X,Y,parameters):\n",
        "\n",
        "    \"\"\"\n",
        "    This function is used to predict the results of a  n-layer neural network.\n",
        "    \n",
        "    Arguments:\n",
        "    X -- data set of examples you would like to label\n",
        "    Y -- data set of examples\n",
        "    parameters -- parameters of the trained model\n",
        "    \n",
        "    Returns:\n",
        "    ypred -- predictions for the given dataset X\n",
        "    \"\"\"\n",
        "\n",
        "    y_pred,cache=forward_propagation(X,parameters)\n",
        "    return y_pred"
      ],
      "metadata": {
        "id": "gkSYGUHwUQto"
      },
      "execution_count": 172,
      "outputs": []
    },
    {
      "cell_type": "code",
      "source": [
        "def model(Train_Dataset,layer_dimensions,total_epochs=15,Batch_Size=64,learning_rate=0.01):\n",
        "\n",
        "  costs=[]\n",
        "  accuracy=[]\n",
        "\n",
        "  parameters=initialize_parameters(layer_dimensions)\n",
        "  num_iterations=len(Train_Dataset)//Batch_Size\n",
        "\n",
        "\n",
        "\n",
        "  #Train_Dataset=TensorDataset(X_training,Y_training)\n",
        "  for epoch in range(total_epochs):\n",
        "    for iteration in range(num_iterations):\n",
        "      Data_Loader=torch.utils.data.DataLoader(dataset=Train_Dataset,batch_size=64, shuffle=True)\n",
        "      \n",
        "      data_iter=iter(Data_Loader)\n",
        "      Data=next(data_iter)\n",
        "      X,y=Data #X.shape=(batch_size,784) y.shape=(batch_size,10)\n",
        "      X=X.numpy()\n",
        "      y=y.numpy()\n",
        "      a5,cache=forward_propagation(X.T,parameters)\n",
        "      cost=compute_cost(a5,y.T)\n",
        "      gradients=backward_propagation(X.T,y.T,cache)\n",
        "      parameters=update_parameters(parameters,gradients,learning_rate)\n",
        "\n",
        "      if iteration%200==0:\n",
        "        print(\"epoch: \",epoch+1,\"/\",total_epochs, \"  iteration= \",iteration+1,\"/\",num_iterations, \"  Loss: \",cost)\n",
        "      accuracy.append(calculate_accuracy(y.T,a5))\n",
        "      costs.append(cost)\n",
        "\n",
        "  return accuracy,costs,parameters\n",
        "\n"
      ],
      "metadata": {
        "id": "TOTB3f_JUUet"
      },
      "execution_count": 173,
      "outputs": []
    },
    {
      "cell_type": "code",
      "source": [
        "layer_dimensions=[784,500,250,100,10]\n",
        "Train_accuracy,Train_costs,Trained_parameters=model(Train_Dataset,layer_dimensions,15,64,0.01)"
      ],
      "metadata": {
        "colab": {
          "base_uri": "https://localhost:8080/"
        },
        "id": "zMHQ9jr-q51w",
        "outputId": "9072fabd-7420-429c-90cb-a803926caaaf"
      },
      "execution_count": 174,
      "outputs": [
        {
          "output_type": "stream",
          "name": "stdout",
          "text": [
            "epoch:  1 / 15   iteration=  1 / 937   Loss:  3.29407977813217\n",
            "epoch:  1 / 15   iteration=  201 / 937   Loss:  1.6627210071024752\n",
            "epoch:  1 / 15   iteration=  401 / 937   Loss:  0.9182173362911166\n",
            "epoch:  1 / 15   iteration=  601 / 937   Loss:  0.8881546656754662\n",
            "epoch:  1 / 15   iteration=  801 / 937   Loss:  0.6482982901984773\n",
            "epoch:  2 / 15   iteration=  1 / 937   Loss:  0.7209205518947087\n",
            "epoch:  2 / 15   iteration=  201 / 937   Loss:  0.724783929373435\n",
            "epoch:  2 / 15   iteration=  401 / 937   Loss:  0.6026104563690713\n",
            "epoch:  2 / 15   iteration=  601 / 937   Loss:  0.564973011083954\n",
            "epoch:  2 / 15   iteration=  801 / 937   Loss:  0.5325791780407113\n",
            "epoch:  3 / 15   iteration=  1 / 937   Loss:  0.3174605385417676\n",
            "epoch:  3 / 15   iteration=  201 / 937   Loss:  0.4000062064141455\n",
            "epoch:  3 / 15   iteration=  401 / 937   Loss:  0.36046783529714765\n",
            "epoch:  3 / 15   iteration=  601 / 937   Loss:  0.5979444373404367\n",
            "epoch:  3 / 15   iteration=  801 / 937   Loss:  0.4656260592292043\n",
            "epoch:  4 / 15   iteration=  1 / 937   Loss:  0.29786494420348464\n",
            "epoch:  4 / 15   iteration=  201 / 937   Loss:  0.1809752282333488\n",
            "epoch:  4 / 15   iteration=  401 / 937   Loss:  0.5251086449164396\n",
            "epoch:  4 / 15   iteration=  601 / 937   Loss:  0.2872652552504207\n",
            "epoch:  4 / 15   iteration=  801 / 937   Loss:  0.3186067204964655\n",
            "epoch:  5 / 15   iteration=  1 / 937   Loss:  0.18791682238315255\n",
            "epoch:  5 / 15   iteration=  201 / 937   Loss:  0.42774623406279555\n",
            "epoch:  5 / 15   iteration=  401 / 937   Loss:  0.30644336369836855\n",
            "epoch:  5 / 15   iteration=  601 / 937   Loss:  0.2800557165951709\n",
            "epoch:  5 / 15   iteration=  801 / 937   Loss:  0.3624913244213082\n",
            "epoch:  6 / 15   iteration=  1 / 937   Loss:  0.23434464721735915\n",
            "epoch:  6 / 15   iteration=  201 / 937   Loss:  0.23342689514633796\n",
            "epoch:  6 / 15   iteration=  401 / 937   Loss:  0.2057274802447116\n",
            "epoch:  6 / 15   iteration=  601 / 937   Loss:  0.1385572115149952\n",
            "epoch:  6 / 15   iteration=  801 / 937   Loss:  0.19863783561988807\n",
            "epoch:  7 / 15   iteration=  1 / 937   Loss:  0.26699711227846823\n",
            "epoch:  7 / 15   iteration=  201 / 937   Loss:  0.18235101307197593\n",
            "epoch:  7 / 15   iteration=  401 / 937   Loss:  0.2152246770143896\n",
            "epoch:  7 / 15   iteration=  601 / 937   Loss:  0.29614714421607763\n",
            "epoch:  7 / 15   iteration=  801 / 937   Loss:  0.19705903820443493\n",
            "epoch:  8 / 15   iteration=  1 / 937   Loss:  0.27326279637596906\n",
            "epoch:  8 / 15   iteration=  201 / 937   Loss:  0.4599160344284716\n",
            "epoch:  8 / 15   iteration=  401 / 937   Loss:  0.32950710960831475\n",
            "epoch:  8 / 15   iteration=  601 / 937   Loss:  0.1638453647801498\n",
            "epoch:  8 / 15   iteration=  801 / 937   Loss:  0.18328637774679601\n",
            "epoch:  9 / 15   iteration=  1 / 937   Loss:  0.2585832367096489\n",
            "epoch:  9 / 15   iteration=  201 / 937   Loss:  0.21172953308772044\n",
            "epoch:  9 / 15   iteration=  401 / 937   Loss:  0.1611034559981763\n",
            "epoch:  9 / 15   iteration=  601 / 937   Loss:  0.2459757621937695\n",
            "epoch:  9 / 15   iteration=  801 / 937   Loss:  0.20608936146058907\n",
            "epoch:  10 / 15   iteration=  1 / 937   Loss:  0.2598337096238988\n",
            "epoch:  10 / 15   iteration=  201 / 937   Loss:  0.1687004532876285\n",
            "epoch:  10 / 15   iteration=  401 / 937   Loss:  0.18983107423201026\n",
            "epoch:  10 / 15   iteration=  601 / 937   Loss:  0.1506146043655602\n",
            "epoch:  10 / 15   iteration=  801 / 937   Loss:  0.1610571453690105\n",
            "epoch:  11 / 15   iteration=  1 / 937   Loss:  0.09806433829943666\n",
            "epoch:  11 / 15   iteration=  201 / 937   Loss:  0.2171259401366003\n",
            "epoch:  11 / 15   iteration=  401 / 937   Loss:  0.09400254651080858\n",
            "epoch:  11 / 15   iteration=  601 / 937   Loss:  0.2631639165233999\n",
            "epoch:  11 / 15   iteration=  801 / 937   Loss:  0.26664382135037296\n",
            "epoch:  12 / 15   iteration=  1 / 937   Loss:  0.21250345051747183\n",
            "epoch:  12 / 15   iteration=  201 / 937   Loss:  0.19633486965936475\n",
            "epoch:  12 / 15   iteration=  401 / 937   Loss:  0.31763841942343374\n",
            "epoch:  12 / 15   iteration=  601 / 937   Loss:  0.23522792415028237\n",
            "epoch:  12 / 15   iteration=  801 / 937   Loss:  0.05559882672794416\n",
            "epoch:  13 / 15   iteration=  1 / 937   Loss:  0.11780774461068838\n",
            "epoch:  13 / 15   iteration=  201 / 937   Loss:  0.20408612938846155\n",
            "epoch:  13 / 15   iteration=  401 / 937   Loss:  0.17027088492964992\n",
            "epoch:  13 / 15   iteration=  601 / 937   Loss:  0.18728915671640933\n",
            "epoch:  13 / 15   iteration=  801 / 937   Loss:  0.04128862424173241\n",
            "epoch:  14 / 15   iteration=  1 / 937   Loss:  0.07128548750104899\n",
            "epoch:  14 / 15   iteration=  201 / 937   Loss:  0.09600554456200874\n",
            "epoch:  14 / 15   iteration=  401 / 937   Loss:  0.1138127788763494\n",
            "epoch:  14 / 15   iteration=  601 / 937   Loss:  0.3104434510976468\n",
            "epoch:  14 / 15   iteration=  801 / 937   Loss:  0.09724889816207247\n",
            "epoch:  15 / 15   iteration=  1 / 937   Loss:  0.07995103685920389\n",
            "epoch:  15 / 15   iteration=  201 / 937   Loss:  0.18837370122730704\n",
            "epoch:  15 / 15   iteration=  401 / 937   Loss:  0.08159515253388488\n",
            "epoch:  15 / 15   iteration=  601 / 937   Loss:  0.15917562031532834\n",
            "epoch:  15 / 15   iteration=  801 / 937   Loss:  0.1460621810813611\n"
          ]
        }
      ]
    },
    {
      "cell_type": "code",
      "source": [
        "plt.plot(Train_costs)"
      ],
      "metadata": {
        "colab": {
          "base_uri": "https://localhost:8080/",
          "height": 287
        },
        "id": "WYhpRl_bzXfX",
        "outputId": "1b8ef64a-52d4-49ed-f9d4-4a5e63b27105"
      },
      "execution_count": 175,
      "outputs": [
        {
          "output_type": "execute_result",
          "data": {
            "text/plain": [
              "[<matplotlib.lines.Line2D at 0x7f71cb356fd0>]"
            ]
          },
          "metadata": {},
          "execution_count": 175
        },
        {
          "output_type": "display_data",
          "data": {
            "text/plain": [
              "<Figure size 432x288 with 1 Axes>"
            ],
            "image/png": "[encoded data removed]"
          },
          "metadata": {
            "needs_background": "light"
          }
        }
      ]
    },
    {
      "cell_type": "code",
      "source": [
        "plt.plot(Train_accuracy)"
      ],
      "metadata": {
        "colab": {
          "base_uri": "https://localhost:8080/",
          "height": 283
        },
        "id": "LALd3SKjzuaJ",
        "outputId": "f1dd0eff-5a30-4082-aa6b-040939ef3e6d"
      },
      "execution_count": 176,
      "outputs": [
        {
          "output_type": "execute_result",
          "data": {
            "text/plain": [
              "[<matplotlib.lines.Line2D at 0x7f71e1e96510>]"
            ]
          },
          "metadata": {},
          "execution_count": 176
        },
        {
          "output_type": "display_data",
          "data": {
            "text/plain": [
              "<Figure size 432x288 with 1 Axes>"
            ],
            "image/png": "[encoded data removed]"
          },
          "metadata": {
            "needs_background": "light"
          }
        }
      ]
    },
    {
      "cell_type": "code",
      "source": [
        "Train_accuracy[-1]"
      ],
      "metadata": {
        "colab": {
          "base_uri": "https://localhost:8080/"
        },
        "id": "XhKJy_Lj_zo-",
        "outputId": "533b951b-a95b-4d85-9d13-dcaae9e0153e"
      },
      "execution_count": 177,
      "outputs": [
        {
          "output_type": "execute_result",
          "data": {
            "text/plain": [
              "0.984375"
            ]
          },
          "metadata": {},
          "execution_count": 177
        }
      ]
    },
    {
      "cell_type": "code",
      "source": [
        "Test_Data_Loader=torch.utils.data.DataLoader(dataset=Test_Dataset,batch_size=len(Test_Dataset),shuffle=True)\n",
        "data_iter=iter(Test_Data_Loader)\n",
        "Test_Data=next(data_iter)\n",
        "X,y=Test_Data\n",
        "X=X.numpy()\n",
        "y=y.numpy()\n",
        "y_predicted,cache_out=forward_propagation(X.T,Trained_parameters)\n",
        "cost=compute_cost(y_predicted,y.T)\n",
        "Test_accuracy=calculate_accuracy(y.T,y_predicted)"
      ],
      "metadata": {
        "id": "wDKtgZWOz2Ee"
      },
      "execution_count": 178,
      "outputs": []
    },
    {
      "cell_type": "code",
      "source": [
        "Test_accuracy"
      ],
      "metadata": {
        "colab": {
          "base_uri": "https://localhost:8080/"
        },
        "id": "lEJoAhB51pB0",
        "outputId": "48851c14-5a86-4727-fd9a-391f1833ca38"
      },
      "execution_count": 179,
      "outputs": [
        {
          "output_type": "execute_result",
          "data": {
            "text/plain": [
              "0.9712"
            ]
          },
          "metadata": {},
          "execution_count": 179
        }
      ]
    },
    {
      "cell_type": "code",
      "source": [
        "Y_Predicted=np.array(np.argmax(y_predicted,axis=0))"
      ],
      "metadata": {
        "id": "u3Q0wUp315e8"
      },
      "execution_count": 180,
      "outputs": []
    },
    {
      "cell_type": "code",
      "source": [
        "Y_Actual=np.array(np.argmax(y.T,axis=0)  )"
      ],
      "metadata": {
        "id": "tzKEHt6c4PTD"
      },
      "execution_count": 181,
      "outputs": []
    },
    {
      "cell_type": "markdown",
      "source": [
        "##**CONFUSION MATRIX AND CLASSIFICATION REPORT**"
      ],
      "metadata": {
        "id": "ThLMN-JHhGP9"
      }
    },
    {
      "cell_type": "code",
      "source": [
        "from sklearn.metrics import confusion_matrix\n",
        "import seaborn as sns\n",
        "plt.figure(figsize=(10,10))\n",
        "conf_matrix = (confusion_matrix(Y_Actual, Y_Predicted, labels=np.unique(Y_Actual)))\n",
        "\n",
        "# Using Seaborn heatmap to create the plot\n",
        "fx = sns.heatmap(conf_matrix, annot=True, cmap='Blues',fmt='d')\n",
        "\n",
        "# labels the title and x, y axis of plot\n",
        "fx.set_title('Plotting Confusion Matrix using Seaborn\\n\\n');\n",
        "fx.set_xlabel('Predicted Values')\n",
        "fx.set_ylabel('Actual Values ');\n",
        "\n",
        "\n",
        "plt.show()"
      ],
      "metadata": {
        "colab": {
          "base_uri": "https://localhost:8080/",
          "height": 651
        },
        "id": "sPaOghW54nW_",
        "outputId": "b399d8d7-c104-401e-c7be-b1ea25c31d82"
      },
      "execution_count": 182,
      "outputs": [
        {
          "output_type": "display_data",
          "data": {
            "text/plain": [
              "<Figure size 720x720 with 2 Axes>"
            ],
            "image/png": "[encoded data removed]"
          },
          "metadata": {
            "needs_background": "light"
          }
        }
      ]
    },
    {
      "cell_type": "code",
      "source": [
        "from sklearn.metrics import classification_report\n",
        "print(classification_report(Y_Actual, Y_Predicted))"
      ],
      "metadata": {
        "colab": {
          "base_uri": "https://localhost:8080/"
        },
        "id": "K-cwGLUmAwZU",
        "outputId": "03c77b7b-73c6-4c2a-c83f-d561074f60d2"
      },
      "execution_count": 183,
      "outputs": [
        {
          "output_type": "stream",
          "name": "stdout",
          "text": [
            "              precision    recall  f1-score   support\n",
            "\n",
            "           0       0.98      0.99      0.98       980\n",
            "           1       0.98      0.99      0.99      1135\n",
            "           2       0.98      0.97      0.97      1032\n",
            "           3       0.97      0.98      0.97      1010\n",
            "           4       0.98      0.96      0.97       982\n",
            "           5       0.97      0.97      0.97       892\n",
            "           6       0.98      0.97      0.97       958\n",
            "           7       0.97      0.96      0.97      1028\n",
            "           8       0.95      0.97      0.96       974\n",
            "           9       0.96      0.96      0.96      1009\n",
            "\n",
            "    accuracy                           0.97     10000\n",
            "   macro avg       0.97      0.97      0.97     10000\n",
            "weighted avg       0.97      0.97      0.97     10000\n",
            "\n"
          ]
        }
      ]
    },
    {
      "cell_type": "code",
      "source": [
        "unique_p, counts_p = np.unique(Y_Predicted, return_counts=True)"
      ],
      "metadata": {
        "id": "c1Zv45QGCpa9"
      },
      "execution_count": 184,
      "outputs": []
    },
    {
      "cell_type": "code",
      "source": [
        "unique_p"
      ],
      "metadata": {
        "colab": {
          "base_uri": "https://localhost:8080/"
        },
        "id": "JCyiZum-Cv3P",
        "outputId": "59640485-9360-4740-a19e-044a872d617c"
      },
      "execution_count": 185,
      "outputs": [
        {
          "output_type": "execute_result",
          "data": {
            "text/plain": [
              "array([0, 1, 2, 3, 4, 5, 6, 7, 8, 9])"
            ]
          },
          "metadata": {},
          "execution_count": 185
        }
      ]
    },
    {
      "cell_type": "code",
      "source": [
        "counts_p"
      ],
      "metadata": {
        "colab": {
          "base_uri": "https://localhost:8080/"
        },
        "id": "JZYywpxLCy01",
        "outputId": "8935dd15-8ebd-439b-9d09-e08b2414e533"
      },
      "execution_count": 186,
      "outputs": [
        {
          "output_type": "execute_result",
          "data": {
            "text/plain": [
              "array([ 987, 1139, 1019, 1018,  966,  896,  949, 1021,  995, 1010])"
            ]
          },
          "metadata": {},
          "execution_count": 186
        }
      ]
    },
    {
      "cell_type": "markdown",
      "source": [
        "##**REPORTING ACCURACY OF MODEL**\n",
        "\n",
        "TRAIN ACCURACY: 98.43%\n",
        "\n",
        "TEST ACCURACY: 97.12%"
      ],
      "metadata": {
        "id": "2Lw9TC3tbfkx"
      }
    },
    {
      "cell_type": "markdown",
      "source": [
        "*Inference: This model performs better than baseline sigmoid and also better than tanh activation but looks like it is tending to overfit, regularization might help in this case.* "
      ],
      "metadata": {
        "id": "zqXsBalzmpmp"
      }
    }
  ]
}