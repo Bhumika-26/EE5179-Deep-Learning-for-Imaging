{
  "nbformat": 4,
  "nbformat_minor": 0,
  "metadata": {
    "colab": {
      "name": "MNIST_relu_regularized.ipynb",
      "provenance": []
    },
    "kernelspec": {
      "name": "python3",
      "display_name": "Python 3"
    },
    "language_info": {
      "name": "python"
    },
    "accelerator": "GPU",
    "gpuClass": "standard"
  },
  "cells": [
    {
      "cell_type": "markdown",
      "source": [
        "Importing Required Libraries"
      ],
      "metadata": {
        "id": "Xk9LKwcgkGUl"
      }
    },
    {
      "cell_type": "code",
      "execution_count": 78,
      "metadata": {
        "id": "o_OoCBRenEM7"
      },
      "outputs": [],
      "source": [
        "import numpy as np\n",
        "import matplotlib.pyplot as plt\n",
        "import torch\n",
        "import torch.nn as nn \n",
        "import torchvision\n",
        "import torchvision.transforms as transforms\n",
        "from torch.utils.data.dataset import TensorDataset\n",
        "from torch.utils.data import DataLoader"
      ]
    },
    {
      "cell_type": "markdown",
      "source": [
        "##**DATASET LOADING AND PREPARATION**"
      ],
      "metadata": {
        "id": "6BZqlSa6fv_X"
      }
    },
    {
      "cell_type": "code",
      "source": [
        "train_dataset = torchvision.datasets.MNIST(root='./data', train=True, transform=transforms.ToTensor(),  download=True)\n",
        "test_dataset = torchvision.datasets.MNIST(root='./data', train=False, transform=transforms.ToTensor())"
      ],
      "metadata": {
        "id": "Hd0823pWnPPH"
      },
      "execution_count": 79,
      "outputs": []
    },
    {
      "cell_type": "code",
      "source": [
        "loader_train = torch.utils.data.DataLoader(dataset=train_dataset,batch_size = len(train_dataset) ,shuffle=True) \n",
        "loader_test = torch.utils.data.DataLoader(dataset=test_dataset,batch_size = len(test_dataset) ,shuffle=True)"
      ],
      "metadata": {
        "id": "JAtpUkFJo5Kc"
      },
      "execution_count": 80,
      "outputs": []
    },
    {
      "cell_type": "code",
      "source": [
        "X_train,y_train=next(iter(loader_train))\n",
        "X_test,y_test=next(iter(loader_test))"
      ],
      "metadata": {
        "id": "M0nP3kRColz0"
      },
      "execution_count": 81,
      "outputs": []
    },
    {
      "cell_type": "code",
      "source": [
        "X_train=X_train.numpy()\n",
        "y_train=y_train.numpy()\n",
        "X_test=X_test.numpy()\n",
        "y_test=y_test.numpy()"
      ],
      "metadata": {
        "id": "pA10C5WdouBO"
      },
      "execution_count": 82,
      "outputs": []
    },
    {
      "cell_type": "code",
      "source": [
        "X_train_flattened=X_train.reshape(X_train.shape[0],X_train.shape[1]*X_train.shape[2]*X_train.shape[3])\n",
        "X_test_flattened=X_test.reshape(X_test.shape[0],X_test.shape[1]*X_test.shape[2]*X_test.shape[3])"
      ],
      "metadata": {
        "id": "MUYMWwUgpnFI"
      },
      "execution_count": 83,
      "outputs": []
    },
    {
      "cell_type": "markdown",
      "source": [
        "One-Hot Encoding"
      ],
      "metadata": {
        "id": "qc7emDdQkDLL"
      }
    },
    {
      "cell_type": "code",
      "source": [
        "train_labels_encoded = []\n",
        "for i in y_train:\n",
        "  A=np.array([0]*10)\n",
        "  A[i]=1\n",
        "  train_labels_encoded.append(A)\n",
        "y_train_encoded=np.array(train_labels_encoded)"
      ],
      "metadata": {
        "id": "uf3Wwnr0py_H"
      },
      "execution_count": 84,
      "outputs": []
    },
    {
      "cell_type": "code",
      "source": [
        "test_labels_encoded = []\n",
        "for i in y_test:\n",
        "  A=np.array([0]*10)\n",
        "  A[i]=1\n",
        "  test_labels_encoded.append(A)\n",
        "y_test_encoded=np.array(test_labels_encoded)"
      ],
      "metadata": {
        "id": "N4iUBJ0Zp29_"
      },
      "execution_count": 85,
      "outputs": []
    },
    {
      "cell_type": "code",
      "source": [
        "X_train_flattened_torch=torch.from_numpy(X_train_flattened)\n",
        "y_train_encoded_torch=torch.from_numpy(y_train_encoded)"
      ],
      "metadata": {
        "id": "ZtruZ-9Cp_52"
      },
      "execution_count": 86,
      "outputs": []
    },
    {
      "cell_type": "code",
      "source": [
        "X_test_flattened_torch=torch.from_numpy(X_test_flattened)\n",
        "y_test_encoded_torch=torch.from_numpy(y_test_encoded)"
      ],
      "metadata": {
        "id": "ka69yDPQ0WNB"
      },
      "execution_count": 87,
      "outputs": []
    },
    {
      "cell_type": "markdown",
      "source": [
        "Here we have prepared test and train dataset with flattenned images and one hot encoded labels"
      ],
      "metadata": {
        "id": "8CeezCoUj2wt"
      }
    },
    {
      "cell_type": "code",
      "source": [
        "Train_Dataset=TensorDataset(X_train_flattened_torch,y_train_encoded_torch)"
      ],
      "metadata": {
        "id": "P1IypBsJrW8B"
      },
      "execution_count": 88,
      "outputs": []
    },
    {
      "cell_type": "code",
      "source": [
        "Test_Dataset=TensorDataset(X_test_flattened_torch,y_test_encoded_torch)"
      ],
      "metadata": {
        "id": "8AJdKicr0pFl"
      },
      "execution_count": 89,
      "outputs": []
    },
    {
      "cell_type": "markdown",
      "source": [
        "##**HELPER FUNCTIONS**"
      ],
      "metadata": {
        "id": "ET70jqk3Z5bX"
      }
    },
    {
      "cell_type": "code",
      "source": [
        "def relu(z):\n",
        "    return np.maximum(0,z)\n",
        "\n",
        "def softmax(z):\n",
        "    return np.exp(z)/sum(np.exp(z))"
      ],
      "metadata": {
        "id": "G4iwwnPwDbCt"
      },
      "execution_count": 90,
      "outputs": []
    },
    {
      "cell_type": "code",
      "source": [
        "def dif_relu(z):\n",
        "  # return np.multiply(1.0 , (z>0))\n",
        "  return z>0"
      ],
      "metadata": {
        "id": "qQy6mHZvDhTP"
      },
      "execution_count": 91,
      "outputs": []
    },
    {
      "cell_type": "code",
      "source": [
        "def glorot_initialisation(output_n,input_n):\n",
        "  M=np.sqrt(6/(input_n+output_n))\n",
        "  W=np.random.uniform(low=-M, high=M, size=(output_n,input_n))\n",
        "  b=np.random.uniform(low=-M, high=M, size=(output_n,1))\n",
        "  return W,b"
      ],
      "metadata": {
        "id": "tY5KcHj0DkPM"
      },
      "execution_count": 92,
      "outputs": []
    },
    {
      "cell_type": "code",
      "source": [
        "def initialize_parameters(layer_dims):\n",
        "    \"\"\"\n",
        "    Arguments:\n",
        "    layer_dims -- python array (list) containing the dimensions of each layer in our network\n",
        "    \n",
        "    Returns:\n",
        "    parameters -- python dictionary containing your parameters \"W1\", \"b1\", ..., \"WL\", \"bL\":\n",
        "                    W1 -- weight matrix of shape (layer_dims[l], layer_dims[l-1])\n",
        "                    b1 -- bias vector of shape (layer_dims[l], 1)\n",
        "                    Wl -- weight matrix of shape (layer_dims[l-1], layer_dims[l])\n",
        "                    bl -- bias vector of shape (1, layer_dims[l])\n",
        "                    \n",
        "    Tips:\n",
        "    - For example: the layer_dims for the \"Planar Data classification model\" would have been [2,2,1]. \n",
        "    This means W1's shape was (2,2), b1 was (1,2), W2 was (2,1) and b2 was (1,1). Now you have to generalize it!\n",
        "    - In the for loop, use parameters['W' + str(l)] to access Wl, where l is the iterative integer.\n",
        "    \"\"\"\n",
        "    \n",
        "    np.random.seed(1390)\n",
        "    parameters = {}\n",
        "    L = len(layer_dims) # number of layers in the network\n",
        "\n",
        "    for l in range(1, L):\n",
        "\n",
        "        # M=np.sqrt(6/(self.input_n+self.output_n))\n",
        "        parameters['W' + str(l)],parameters['b' + str(l)]  = glorot_initialisation(layer_dims[l], layer_dims[l-1])\n",
        "        \n",
        "        \n",
        "        assert(parameters['W' + str(l)].shape == (layer_dims[l], layer_dims[l-1]))\n",
        "        assert(parameters['b' + str(l)].shape == (layer_dims[l], 1))\n",
        "        \n",
        "    return parameters"
      ],
      "metadata": {
        "id": "rxlwRAJMDxrm"
      },
      "execution_count": 93,
      "outputs": []
    },
    {
      "cell_type": "code",
      "source": [
        "def forward_propagation(X, parameters):\n",
        "    \"\"\"\n",
        "\n",
        "    SHAPE OF X = 784,samples(i.e. 64 for a batch)\n",
        "    Implements the forward propagation (and computes the loss) presented in Figure 2.\n",
        "    \n",
        "    Arguments:\n",
        "    X -- input dataset, of shape (input size, number of examples)\n",
        "    parameters -- python dictionary containing your parameters \"W1\", \"b1\", \"W2\", \"b2\", \"W3\", \"b3\",\"W4\",\"b4\":\n",
        "                    W1 -- weight matrix of shape (500,784)\n",
        "                    b1 -- bias vector of shape (500,1)\n",
        "                    W2 -- weight matrix of shape (250,500)\n",
        "                    b2 -- bias vector of shape (250,1)\n",
        "                    W3 -- weight matrix of shape (100,250)\n",
        "                    b3 -- bias vector of shape (100,1)\n",
        "                    W4 -- weight matrix of shape (10,100)\n",
        "                    b4 -- bias vector of shape (10,1)\n",
        "\n",
        "    \n",
        "    Returns:\n",
        "    loss -- the loss function (vanilla logistic loss)\n",
        "    \"\"\"\n",
        "\n",
        "    cache={}\n",
        "      \n",
        "\n",
        "    cache['Z2']=np.dot(parameters['W1'],X)+parameters['b1']\n",
        "    cache['A2']=relu(cache['Z2'])\n",
        "\n",
        "    cache['Z3']=np.dot(parameters['W2'],cache['A2'])+parameters['b2']\n",
        "    cache['A3']=relu(cache['Z3'])\n",
        "\n",
        "    cache['Z4']=np.dot(parameters['W3'],cache['A3'])+parameters['b3']\n",
        "    cache['A4']=relu(cache['Z4'])\n",
        "\n",
        "    cache['Z5']=np.dot(parameters['W4'],cache['A4'])+parameters['b4']\n",
        "    cache['A5']=softmax(cache['Z5'])\n",
        "\n",
        "    A_last=cache['A5']\n",
        "\n",
        "    cache['W1']=parameters['W1']\n",
        "    cache['b1']=parameters['b1']   \n",
        "        \n",
        "    cache['W2']=parameters['W2']\n",
        "    cache['b2']=parameters['b2']   \n",
        "    \n",
        "    cache['W3']=parameters['W3']\n",
        "    cache['b3']=parameters['b3']   \n",
        "\n",
        "    cache['W4']=parameters['W4']\n",
        "    cache['b4']=parameters['b4']   \n",
        "\n",
        "   # cache = {\"W1\": W1, \"b1\": b1,\"Z2\": Z2, \"A2\": A2, \n",
        "   #          \"W2\": W2, \"b2\": b2,\"Z3\": Z3, \"A3\": A3,\n",
        "   #          \"W3\": W3, \"b3\": b3,\"Z4\": Z4, \"A4\": A4,\n",
        "   #          \"W4\": W4, \"b4\": b4,\"Z5\": Z5, \"A5\": A5}\n",
        "    \n",
        "    return A_last, cache"
      ],
      "metadata": {
        "id": "ULLYLL20EA77"
      },
      "execution_count": 94,
      "outputs": []
    },
    {
      "cell_type": "code",
      "source": [
        "# Calculating the loss function using the cross entropy\n",
        "\"\"\"Arguments:\n",
        "    A -- post-activation, output of forward propagation\n",
        "    Y -- \"true\" labels vector, same shape as A\n",
        "\n",
        "    Returns:\n",
        "    cost - value of the cost function\n",
        "\"\"\"\n",
        "def compute_cost(A, Y,cache,lambd):    \n",
        "    #A is predicted\n",
        "    #Y is actual\n",
        "    m = Y.shape[1] \n",
        "    logprobs = np.multiply(-np.log(A),Y) + np.multiply(-np.log(1 - A), 1 - Y)\n",
        "    cost = 1./m * np.nansum(logprobs)\n",
        "\n",
        "    l2_regularisation_cost=(lambd/(2*m))*(np.sum(np.square(cache['W1']))+np.sum(np.square(cache['W2']))+np.sum(np.square(cache['W3']))+np.sum(np.square(cache['W4'])))\n",
        "    \n",
        "    regularized_total_cost=cost +l2_regularisation_cost\n",
        "    return regularized_total_cost"
      ],
      "metadata": {
        "id": "qrefoXXbEx60"
      },
      "execution_count": 95,
      "outputs": []
    },
    {
      "cell_type": "code",
      "source": [
        "def backward_propagation(X,Y,cache,lambd):\n",
        "\n",
        "  m=X.shape[1]\n",
        "\n",
        "  grads={}\n",
        "\n",
        "  grads['dZ5']=cache['A5']-Y\n",
        "  grads['dW4']= 1./m * np.dot(grads['dZ5'],cache['A4'].T) + (lambd*cache['W4'])/m\n",
        "  grads['db4']= 1./m * np.sum(grads['dZ5'],axis=1,keepdims=True)\n",
        "\n",
        "  grads['dA4']=np.dot(cache['W4'].T,grads['dZ5'])\n",
        "  grads['dZ4']=np.multiply(grads['dA4'],dif_relu(cache['Z4']))\n",
        "  grads['dW3']=1./m * np.dot(grads['dZ4'],cache['A3'].T) + (lambd*cache['W3'])/m\n",
        "  grads['db3']=1./m * np.sum(grads['dZ4'],axis=1,keepdims=True)\n",
        "\n",
        "  grads['dA3']=np.dot(cache['W3'].T,grads['dZ4'])\n",
        "  grads['dZ3']=np.multiply(grads['dA3'],dif_relu(cache['Z3']))\n",
        "  grads['dW2']=1./m * np.dot(grads['dZ3'],cache['A2'].T)  + (lambd*cache['W2'])/m\n",
        "  grads['db2']=1./m * np.sum(grads['dZ3'],axis=1,keepdims=True)\n",
        "\n",
        "  grads['dA2']=np.dot(cache['W2'].T,grads['dZ3'])\n",
        "  grads['dZ2']=np.multiply(grads['dA2'],dif_relu(cache['Z2']))\n",
        "  grads['dW1']=1./m * np.dot(grads['dZ2'],X.T)  + (lambd*cache['W1'])/m\n",
        "  grads['db1']=1./m * np.sum(grads['dZ2'],axis=1,keepdims=True)\n",
        "\n",
        "\n",
        "  return grads\n"
      ],
      "metadata": {
        "id": "g1XAR4N4Ml2g"
      },
      "execution_count": 96,
      "outputs": []
    },
    {
      "cell_type": "code",
      "source": [
        "def update_parameters(parameters,grads,learning_rate):\n",
        "\n",
        "  updated_parameters={}\n",
        "\n",
        "  updated_parameters['W1']=parameters['W1']-learning_rate*grads['dW1']\n",
        "  updated_parameters['b1']=parameters['b1']-learning_rate*grads['db1']\n",
        "\n",
        "  updated_parameters['W2']=parameters['W2']-learning_rate*grads['dW2']\n",
        "  updated_parameters['b2']=parameters['b2']-learning_rate*grads['db2']\n",
        "\n",
        "  updated_parameters['W3']=parameters['W3']-learning_rate*grads['dW3']\n",
        "  updated_parameters['b3']=parameters['b3']-learning_rate*grads['db3']\n",
        "\n",
        "  updated_parameters['W4']=parameters['W4']-learning_rate*grads['dW4']\n",
        "  updated_parameters['b4']=parameters['b4']-learning_rate*grads['db4']\n",
        "\n",
        "  return updated_parameters"
      ],
      "metadata": {
        "id": "bplQAHwTR_tj"
      },
      "execution_count": 97,
      "outputs": []
    },
    {
      "cell_type": "code",
      "source": [
        "#Finding the accuracy of the parameter at the output \n",
        "\"\"\"  \n",
        "    Arguments:\n",
        "    y_actual -  given in the dataset / also called as the ground truth \n",
        "    y_pred - generated from the neural network , after a series of forward and backprop \n",
        "    \n",
        "    Returns:\n",
        "    accuracy =  finding the matches of the prdicted vs the actual\n",
        "\"\"\"\n",
        "def calculate_accuracy(y_actual,y_pred):\n",
        "    accuracy = np.count_nonzero(np.argmax(y_pred,axis=0)==np.argmax(y_actual,axis=0))/y_actual.shape[1]\n",
        "    return accuracy"
      ],
      "metadata": {
        "id": "75L4cOiLTaTF"
      },
      "execution_count": 98,
      "outputs": []
    },
    {
      "cell_type": "code",
      "source": [
        "def predict(X,Y,parameters):\n",
        "\n",
        "    \"\"\"\n",
        "    This function is used to predict the results of a  n-layer neural network.\n",
        "    \n",
        "    Arguments:\n",
        "    X -- data set of examples you would like to label\n",
        "    Y -- data set of examples\n",
        "    parameters -- parameters of the trained model\n",
        "    \n",
        "    Returns:\n",
        "    ypred -- predictions for the given dataset X\n",
        "    \"\"\"\n",
        "\n",
        "    y_pred,cache=forward_propagation(X,parameters)\n",
        "    return y_pred"
      ],
      "metadata": {
        "id": "gkSYGUHwUQto"
      },
      "execution_count": 99,
      "outputs": []
    },
    {
      "cell_type": "markdown",
      "source": [
        "##**MODEL TRAINING**"
      ],
      "metadata": {
        "id": "kSLeuFoPltGO"
      }
    },
    {
      "cell_type": "code",
      "source": [
        "def model(Train_Dataset,layer_dimensions,total_epochs=15,Batch_Size=64,learning_rate=0.01,lambd=0.8):\n",
        "\n",
        "  costs=[]\n",
        "  accuracy=[]\n",
        "\n",
        "  parameters=initialize_parameters(layer_dimensions)\n",
        "  num_iterations=len(Train_Dataset)//Batch_Size\n",
        "\n",
        "\n",
        "  #Train_Dataset=TensorDataset(X_training,Y_training)\n",
        "  for epoch in range(total_epochs):\n",
        "    for iteration in range(num_iterations):\n",
        "      Data_Loader=torch.utils.data.DataLoader(dataset=Train_Dataset,batch_size=64, shuffle=True)\n",
        "      \n",
        "      data_iter=iter(Data_Loader)\n",
        "      Data=next(data_iter)\n",
        "      X,y=Data #X.shape=(batch_size,784) y.shape=(batch_size,10)\n",
        "      X=X.numpy()\n",
        "      y=y.numpy()\n",
        "      a5,cache=forward_propagation(X.T,parameters)\n",
        "      cost=compute_cost(a5,y.T,cache,lambd)\n",
        "      gradients=backward_propagation(X.T,y.T,cache,lambd)\n",
        "      parameters=update_parameters(parameters,gradients,learning_rate)\n",
        "\n",
        "      if iteration%200==0:\n",
        "        print(\"epoch: \",epoch+1,\"/\",total_epochs, \"  iteration= \",iteration+1,\"/\",num_iterations, \"  Loss: \",cost)\n",
        "      accuracy.append(calculate_accuracy(y.T,a5))\n",
        "      costs.append(cost)\n",
        "\n",
        "  return accuracy,costs,parameters\n",
        "\n"
      ],
      "metadata": {
        "id": "TOTB3f_JUUet"
      },
      "execution_count": 100,
      "outputs": []
    },
    {
      "cell_type": "code",
      "source": [
        "layer_dimensions=[784,500,250,100,10]\n",
        "Train_accuracy,Train_costs,Trained_parameters=model(Train_Dataset,layer_dimensions,15,64,0.01,0.8)"
      ],
      "metadata": {
        "colab": {
          "base_uri": "https://localhost:8080/"
        },
        "id": "zMHQ9jr-q51w",
        "outputId": "2ad52fd9-ea92-46ff-cabb-b5e36bc3af6c"
      },
      "execution_count": 114,
      "outputs": [
        {
          "output_type": "stream",
          "name": "stdout",
          "text": [
            "epoch:  1 / 15   iteration=  1 / 937   Loss:  10.24665749963704\n",
            "epoch:  1 / 15   iteration=  201 / 937   Loss:  8.564261611610512\n",
            "epoch:  1 / 15   iteration=  401 / 937   Loss:  7.420605826921399\n",
            "epoch:  1 / 15   iteration=  601 / 937   Loss:  6.885346259516561\n",
            "epoch:  1 / 15   iteration=  801 / 937   Loss:  6.403292172120739\n",
            "epoch:  2 / 15   iteration=  1 / 937   Loss:  6.452327503465423\n",
            "epoch:  2 / 15   iteration=  201 / 937   Loss:  6.089522975943435\n",
            "epoch:  2 / 15   iteration=  401 / 937   Loss:  5.962707372903211\n",
            "epoch:  2 / 15   iteration=  601 / 937   Loss:  5.4670342284631905\n",
            "epoch:  2 / 15   iteration=  801 / 937   Loss:  5.202636592920128\n",
            "epoch:  3 / 15   iteration=  1 / 937   Loss:  4.77820843767748\n",
            "epoch:  3 / 15   iteration=  201 / 937   Loss:  4.841851990559459\n",
            "epoch:  3 / 15   iteration=  401 / 937   Loss:  4.696018944101629\n",
            "epoch:  3 / 15   iteration=  601 / 937   Loss:  4.488708957460135\n",
            "epoch:  3 / 15   iteration=  801 / 937   Loss:  4.28934694401448\n",
            "epoch:  4 / 15   iteration=  1 / 937   Loss:  4.028385348035927\n",
            "epoch:  4 / 15   iteration=  201 / 937   Loss:  4.0758647084738895\n",
            "epoch:  4 / 15   iteration=  401 / 937   Loss:  3.974530131459747\n",
            "epoch:  4 / 15   iteration=  601 / 937   Loss:  3.6465236357136117\n",
            "epoch:  4 / 15   iteration=  801 / 937   Loss:  3.637218839290589\n",
            "epoch:  5 / 15   iteration=  1 / 937   Loss:  3.734181223285472\n",
            "epoch:  5 / 15   iteration=  201 / 937   Loss:  3.5855167756247734\n",
            "epoch:  5 / 15   iteration=  401 / 937   Loss:  3.2157957371924164\n",
            "epoch:  5 / 15   iteration=  601 / 937   Loss:  3.0251044494455823\n",
            "epoch:  5 / 15   iteration=  801 / 937   Loss:  3.0387374471144772\n",
            "epoch:  6 / 15   iteration=  1 / 937   Loss:  2.92617117637501\n",
            "epoch:  6 / 15   iteration=  201 / 937   Loss:  2.851057199354434\n",
            "epoch:  6 / 15   iteration=  401 / 937   Loss:  2.7548506878929024\n",
            "epoch:  6 / 15   iteration=  601 / 937   Loss:  2.6273646131420714\n",
            "epoch:  6 / 15   iteration=  801 / 937   Loss:  2.655667992753477\n",
            "epoch:  7 / 15   iteration=  1 / 937   Loss:  2.51058362023355\n",
            "epoch:  7 / 15   iteration=  201 / 937   Loss:  2.3837788372842788\n",
            "epoch:  7 / 15   iteration=  401 / 937   Loss:  2.3898939307404827\n",
            "epoch:  7 / 15   iteration=  601 / 937   Loss:  2.243522821889658\n",
            "epoch:  7 / 15   iteration=  801 / 937   Loss:  2.3308796751895793\n",
            "epoch:  8 / 15   iteration=  1 / 937   Loss:  2.1649825337329487\n",
            "epoch:  8 / 15   iteration=  201 / 937   Loss:  2.0946083964101474\n",
            "epoch:  8 / 15   iteration=  401 / 937   Loss:  2.2828127545878028\n",
            "epoch:  8 / 15   iteration=  601 / 937   Loss:  1.8249833646968407\n",
            "epoch:  8 / 15   iteration=  801 / 937   Loss:  1.7898704587402183\n",
            "epoch:  9 / 15   iteration=  1 / 937   Loss:  1.8255597629277764\n",
            "epoch:  9 / 15   iteration=  201 / 937   Loss:  1.9323719681470295\n",
            "epoch:  9 / 15   iteration=  401 / 937   Loss:  1.7352646031430177\n",
            "epoch:  9 / 15   iteration=  601 / 937   Loss:  1.8296360457139014\n",
            "epoch:  9 / 15   iteration=  801 / 937   Loss:  1.6330053947461676\n",
            "epoch:  10 / 15   iteration=  1 / 937   Loss:  1.6274586381869076\n",
            "epoch:  10 / 15   iteration=  201 / 937   Loss:  1.6261009944552596\n",
            "epoch:  10 / 15   iteration=  401 / 937   Loss:  1.4480423532469877\n",
            "epoch:  10 / 15   iteration=  601 / 937   Loss:  1.5667137942252174\n",
            "epoch:  10 / 15   iteration=  801 / 937   Loss:  1.444136211820898\n",
            "epoch:  11 / 15   iteration=  1 / 937   Loss:  1.3858226251440717\n",
            "epoch:  11 / 15   iteration=  201 / 937   Loss:  1.6059569652673968\n",
            "epoch:  11 / 15   iteration=  401 / 937   Loss:  1.3160241285108274\n",
            "epoch:  11 / 15   iteration=  601 / 937   Loss:  1.2525268225964128\n",
            "epoch:  11 / 15   iteration=  801 / 937   Loss:  1.3333353130193764\n",
            "epoch:  12 / 15   iteration=  1 / 937   Loss:  1.3257485188478042\n",
            "epoch:  12 / 15   iteration=  201 / 937   Loss:  1.209194326008392\n",
            "epoch:  12 / 15   iteration=  401 / 937   Loss:  1.1110561832529737\n",
            "epoch:  12 / 15   iteration=  601 / 937   Loss:  1.238720947743997\n",
            "epoch:  12 / 15   iteration=  801 / 937   Loss:  1.2932704654218936\n",
            "epoch:  13 / 15   iteration=  1 / 937   Loss:  1.464326811340972\n",
            "epoch:  13 / 15   iteration=  201 / 937   Loss:  1.272144386531624\n",
            "epoch:  13 / 15   iteration=  401 / 937   Loss:  1.3448446867930093\n",
            "epoch:  13 / 15   iteration=  601 / 937   Loss:  1.1313718587661445\n",
            "epoch:  13 / 15   iteration=  801 / 937   Loss:  1.2057377839806718\n",
            "epoch:  14 / 15   iteration=  1 / 937   Loss:  1.0369554623507273\n",
            "epoch:  14 / 15   iteration=  201 / 937   Loss:  1.0573854059126497\n",
            "epoch:  14 / 15   iteration=  401 / 937   Loss:  1.2270571120069174\n",
            "epoch:  14 / 15   iteration=  601 / 937   Loss:  0.8787962443751072\n",
            "epoch:  14 / 15   iteration=  801 / 937   Loss:  1.1267776343406106\n",
            "epoch:  15 / 15   iteration=  1 / 937   Loss:  1.1392730653798524\n",
            "epoch:  15 / 15   iteration=  201 / 937   Loss:  1.1172321624453316\n",
            "epoch:  15 / 15   iteration=  401 / 937   Loss:  0.8915757681278184\n",
            "epoch:  15 / 15   iteration=  601 / 937   Loss:  0.9160363899972161\n",
            "epoch:  15 / 15   iteration=  801 / 937   Loss:  0.9858567924604414\n"
          ]
        }
      ]
    },
    {
      "cell_type": "code",
      "source": [
        "plt.plot(Train_costs)"
      ],
      "metadata": {
        "id": "WYhpRl_bzXfX",
        "colab": {
          "base_uri": "https://localhost:8080/",
          "height": 283
        },
        "outputId": "ed2151c3-f27b-446a-9019-241469f8fb23"
      },
      "execution_count": 102,
      "outputs": [
        {
          "output_type": "execute_result",
          "data": {
            "text/plain": [
              "[<matplotlib.lines.Line2D at 0x7fb97f6a7810>]"
            ]
          },
          "metadata": {},
          "execution_count": 102
        },
        {
          "output_type": "display_data",
          "data": {
            "text/plain": [
              "<Figure size 432x288 with 1 Axes>"
            ],
            "image/png": "[encoded data removed]"
          },
          "metadata": {
            "needs_background": "light"
          }
        }
      ]
    },
    {
      "cell_type": "code",
      "source": [
        "plt.plot(Train_accuracy)"
      ],
      "metadata": {
        "id": "LALd3SKjzuaJ",
        "colab": {
          "base_uri": "https://localhost:8080/",
          "height": 283
        },
        "outputId": "0e8e07c9-e398-479d-8d47-8ab964c171a4"
      },
      "execution_count": 103,
      "outputs": [
        {
          "output_type": "execute_result",
          "data": {
            "text/plain": [
              "[<matplotlib.lines.Line2D at 0x7fb97f687950>]"
            ]
          },
          "metadata": {},
          "execution_count": 103
        },
        {
          "output_type": "display_data",
          "data": {
            "text/plain": [
              "<Figure size 432x288 with 1 Axes>"
            ],
            "image/png": "[encoded data removed]"
          },
          "metadata": {
            "needs_background": "light"
          }
        }
      ]
    },
    {
      "cell_type": "code",
      "source": [
        "Train_accuracy[-1]"
      ],
      "metadata": {
        "id": "XhKJy_Lj_zo-",
        "colab": {
          "base_uri": "https://localhost:8080/"
        },
        "outputId": "eca8f1f4-85e1-4626-edf3-1e803581d85f"
      },
      "execution_count": 104,
      "outputs": [
        {
          "output_type": "execute_result",
          "data": {
            "text/plain": [
              "0.921875"
            ]
          },
          "metadata": {},
          "execution_count": 104
        }
      ]
    },
    {
      "cell_type": "code",
      "source": [
        "Test_Data_Loader=torch.utils.data.DataLoader(dataset=Test_Dataset,batch_size=len(Test_Dataset),shuffle=True)\n",
        "data_iter=iter(Test_Data_Loader)\n",
        "Test_Data=next(data_iter)\n",
        "X,y=Test_Data \n",
        "X=X.numpy()\n",
        "y=y.numpy()\n",
        "y_predicted,cache_out=forward_propagation(X.T,Trained_parameters)\n",
        "Test_accuracy=calculate_accuracy(y.T,y_predicted)"
      ],
      "metadata": {
        "id": "wDKtgZWOz2Ee"
      },
      "execution_count": 105,
      "outputs": []
    },
    {
      "cell_type": "code",
      "source": [
        "Test_accuracy"
      ],
      "metadata": {
        "id": "lEJoAhB51pB0",
        "colab": {
          "base_uri": "https://localhost:8080/"
        },
        "outputId": "db3678ee-5a7f-4fe0-8efa-535a64f42c46"
      },
      "execution_count": 106,
      "outputs": [
        {
          "output_type": "execute_result",
          "data": {
            "text/plain": [
              "0.9368"
            ]
          },
          "metadata": {},
          "execution_count": 106
        }
      ]
    },
    {
      "cell_type": "code",
      "source": [
        "Y_Predicted=np.array(np.argmax(y_predicted,axis=0))"
      ],
      "metadata": {
        "id": "u3Q0wUp315e8"
      },
      "execution_count": 107,
      "outputs": []
    },
    {
      "cell_type": "code",
      "source": [
        "Y_Actual=np.array(np.argmax(y.T,axis=0)  )"
      ],
      "metadata": {
        "id": "tzKEHt6c4PTD"
      },
      "execution_count": 108,
      "outputs": []
    },
    {
      "cell_type": "markdown",
      "source": [
        "##**CONFUSION MATRIX AND CLASSIFICATION REPORT**"
      ],
      "metadata": {
        "id": "ThLMN-JHhGP9"
      }
    },
    {
      "cell_type": "code",
      "source": [
        "from sklearn.metrics import confusion_matrix\n",
        "import seaborn as sns\n",
        "plt.figure(figsize=(10,10))\n",
        "conf_matrix = (confusion_matrix(Y_Actual, Y_Predicted, labels=np.unique(Y_Actual)))\n",
        "\n",
        "# Using Seaborn heatmap to create the plot\n",
        "fx = sns.heatmap(conf_matrix, annot=True, cmap='Blues',fmt='d')\n",
        "\n",
        "# labels the title and x, y axis of plot\n",
        "fx.set_title('Plotting Confusion Matrix using Seaborn\\n\\n');\n",
        "fx.set_xlabel('Predicted Values')\n",
        "fx.set_ylabel('Actual Values ');\n",
        "\n",
        "\n",
        "plt.show()"
      ],
      "metadata": {
        "id": "sPaOghW54nW_",
        "colab": {
          "base_uri": "https://localhost:8080/",
          "height": 651
        },
        "outputId": "5ec90a7a-5a52-4182-a6f0-2b2d2da8824f"
      },
      "execution_count": 109,
      "outputs": [
        {
          "output_type": "display_data",
          "data": {
            "text/plain": [
              "<Figure size 720x720 with 2 Axes>"
            ],
            "image/png": "[encoded data removed]"
          },
          "metadata": {
            "needs_background": "light"
          }
        }
      ]
    },
    {
      "cell_type": "code",
      "source": [
        "from sklearn.metrics import classification_report\n",
        "print(classification_report(Y_Actual, Y_Predicted))"
      ],
      "metadata": {
        "id": "K-cwGLUmAwZU",
        "colab": {
          "base_uri": "https://localhost:8080/"
        },
        "outputId": "f97c45df-1f17-4636-e6b9-2798ee53b200"
      },
      "execution_count": 110,
      "outputs": [
        {
          "output_type": "stream",
          "name": "stdout",
          "text": [
            "              precision    recall  f1-score   support\n",
            "\n",
            "           0       0.95      0.98      0.96       980\n",
            "           1       0.97      0.98      0.97      1135\n",
            "           2       0.94      0.92      0.93      1032\n",
            "           3       0.92      0.94      0.93      1010\n",
            "           4       0.90      0.96      0.93       982\n",
            "           5       0.95      0.90      0.92       892\n",
            "           6       0.92      0.95      0.94       958\n",
            "           7       0.96      0.92      0.94      1028\n",
            "           8       0.93      0.91      0.92       974\n",
            "           9       0.93      0.90      0.92      1009\n",
            "\n",
            "    accuracy                           0.94     10000\n",
            "   macro avg       0.94      0.94      0.94     10000\n",
            "weighted avg       0.94      0.94      0.94     10000\n",
            "\n"
          ]
        }
      ]
    },
    {
      "cell_type": "code",
      "source": [
        "unique_p, counts_p = np.unique(Y_Predicted, return_counts=True)"
      ],
      "metadata": {
        "id": "c1Zv45QGCpa9"
      },
      "execution_count": 111,
      "outputs": []
    },
    {
      "cell_type": "code",
      "source": [
        "unique_p"
      ],
      "metadata": {
        "id": "JCyiZum-Cv3P",
        "colab": {
          "base_uri": "https://localhost:8080/"
        },
        "outputId": "64164a39-996c-4627-eec0-d7f56b16fa5a"
      },
      "execution_count": 112,
      "outputs": [
        {
          "output_type": "execute_result",
          "data": {
            "text/plain": [
              "array([0, 1, 2, 3, 4, 5, 6, 7, 8, 9])"
            ]
          },
          "metadata": {},
          "execution_count": 112
        }
      ]
    },
    {
      "cell_type": "code",
      "source": [
        "counts_p"
      ],
      "metadata": {
        "id": "JZYywpxLCy01",
        "colab": {
          "base_uri": "https://localhost:8080/"
        },
        "outputId": "f5c5eca6-b096-4e86-8323-bdce2d0e8626"
      },
      "execution_count": 113,
      "outputs": [
        {
          "output_type": "execute_result",
          "data": {
            "text/plain": [
              "array([1009, 1152, 1016, 1030, 1040,  842,  991,  988,  949,  983])"
            ]
          },
          "metadata": {},
          "execution_count": 113
        }
      ]
    },
    {
      "cell_type": "markdown",
      "source": [
        "##**REPORTING ACCURACY OF MODEL**\n",
        "\n",
        "TRAIN ACCURACY: 92.18%\n",
        "\n",
        "TEST ACCURACY: 93.68%\n",
        "\n",
        "lambda=0.8"
      ],
      "metadata": {
        "id": "2Lw9TC3tbfkx"
      }
    },
    {
      "cell_type": "markdown",
      "source": [
        "*Inference: This model performs outstands all unregularised models with sigmoid, tanh, and relu activations. This shows that regularisation can help in model improvement.*"
      ],
      "metadata": {
        "id": "SnvfV0zdqwIV"
      }
    }
  ]
}